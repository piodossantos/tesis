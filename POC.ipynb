{
  "cells": [
    {
      "cell_type": "code",
      "execution_count": 1,
      "metadata": {
        "colab": {
          "base_uri": "https://localhost:8080/"
        },
        "id": "MiIlbxxCZztR",
        "outputId": "3ca561fc-eb6f-49c7-db29-94fecb596dbc"
      },
      "outputs": [],
      "source": [
        "\n",
        "# import zipfile\n",
        "\n",
        "# # Ruta del archivo ZIP\n",
        "# zip_file_path = '/content/tesis-main.zip'\n",
        "\n",
        "# # Ruta donde quieres extraer los archivos\n",
        "# extract_to_path = '/content/'\n",
        "\n",
        "# # Descomprimir el archivo\n",
        "# with zipfile.ZipFile(zip_file_path, 'r') as zip_ref:\n",
        "#     zip_ref.extractall(extract_to_path)\n",
        "\n",
        "# print(\"Archivos extraídos con éxito.\")"
      ]
    },
    {
      "cell_type": "code",
      "execution_count": 2,
      "metadata": {
        "id": "lm2ziiykMZF1"
      },
      "outputs": [
        {
          "data": {
            "text/plain": [
              "True"
            ]
          },
          "execution_count": 2,
          "metadata": {},
          "output_type": "execute_result"
        }
      ],
      "source": [
        "# import sys\n",
        "# sys.path.append('/content/tesis-main/')\n",
        "\n",
        "from dotenv import load_dotenv\n",
        "\n",
        "load_dotenv()"
      ]
    },
    {
      "cell_type": "code",
      "execution_count": 3,
      "metadata": {
        "colab": {
          "base_uri": "https://localhost:8080/",
          "height": 567
        },
        "id": "TR-nZRfNNLUa",
        "outputId": "9539c464-eae7-4ba1-cf17-6d7116f9edce"
      },
      "outputs": [],
      "source": [
        "\n",
        "# import drive as drive_downloader\n",
        "# drive_downloader.download_files('14_UUqgoWDPPNwXvdFjDoJomHTu5l85l6')"
      ]
    },
    {
      "cell_type": "markdown",
      "metadata": {
        "id": "LgMLLHeZVfIu"
      },
      "source": [
        "* Carga el video utilizando cv2.VideoCapture.\n",
        "* Extrae los frames del video uno por uno.\n",
        "* Preprocesa cada frame para que sean compatibles con el modelo de PyTorch (tamaño, normalización, etc.).\n",
        "* Usa un modelo preentrenado de PyTorch (como ResNet) para extraer características de cada frame.\n",
        "* Aplica un algoritmo de clustering (como K-Means) a las características extraídas.\n",
        "* Asigna cada frame al cluster correspondiente.\n",
        "* Visualiza los resultados mostrando los frames y su cluster correspondiente."
      ]
    },
    {
      "cell_type": "code",
      "execution_count": 4,
      "metadata": {
        "id": "A3AVlVaAdpDc"
      },
      "outputs": [
        {
          "name": "stderr",
          "output_type": "stream",
          "text": [
            "Failed to detect the name of this notebook, you can set it manually with the WANDB_NOTEBOOK_NAME environment variable to enable code saving.\n",
            "\u001b[34m\u001b[1mwandb\u001b[0m: Currently logged in as: \u001b[33mmandirolamarcelo\u001b[0m (\u001b[33mhortensias\u001b[0m). Use \u001b[1m`wandb login --relogin`\u001b[0m to force relogin\n"
          ]
        },
        {
          "data": {
            "text/plain": [
              "True"
            ]
          },
          "execution_count": 4,
          "metadata": {},
          "output_type": "execute_result"
        }
      ],
      "source": [
        "import torch\n",
        "from sklearn.cluster import AgglomerativeClustering\n",
        "import warnings\n",
        "from models.resnet18 import get_model as get_resnet18\n",
        "from preprocessing.transforms import BASELINE\n",
        "from clustering.metrics import eval_massive_cluster\n",
        "from clustering.model import clustering_function\n",
        "from experiment_framework import experiment\n",
        "from validation import VALIDATION_DATASET\n",
        "from utils import load_dataset\n",
        "warnings.filterwarnings('ignore')\n",
        "import wandb\n",
        "\n",
        "torch.manual_seed(47)\n",
        "import random\n",
        "random.seed(47)\n",
        "import numpy as np\n",
        "np.random.seed(47)\n",
        "\n",
        "if torch.cuda.is_available():\n",
        " dev = \"cuda:0\"\n",
        "else:\n",
        " dev = \"cpu\"\n",
        "\n",
        "\n",
        "device = torch.device(dev)\n",
        "epochs = 10\n",
        "steps=1\n",
        "clustering_eval_function = lambda cluster_labels, tags: eval_massive_cluster(cluster_labels, tags, steps, epochs)\n",
        "\n",
        "dataset_loader = load_dataset(VALIDATION_DATASET.keys())\n",
        "\n",
        "wandb.login()"
      ]
    },
    {
      "cell_type": "code",
      "execution_count": 6,
      "metadata": {
        "colab": {
          "base_uri": "https://localhost:8080/",
          "height": 711,
          "referenced_widgets": [
            "cec6d7d4cb8845958487a07a5e1e2eb3",
            "559ff52f270c44748fbbeb068dae86e9",
            "4fe372123b7e499b8e4e9d62a54eac1e",
            "ddbe4a8a47234971b7176c2a36e22c88",
            "bb3f5d6b71184d71b976c9efd8b902ad",
            "0f649f0dcc244a289880dcef0efba419",
            "2c81c11c82dd47f990b3bbea168e09b8",
            "a122987043c84413959f280bf4d6701f",
            "f323bcb5d3a64bb0b68f639326bd7dbf",
            "cc0c09baf2f843618935a78f3f92e3d9",
            "6f2fff3f25fe413dbab7fbb5a272e215",
            "7d8b9758dab6438784b5887bb25c37ab",
            "e135375641bb4ef48a2dc1bad69f44ad",
            "47bede97ac7d473da74293e624cf66df",
            "5b54a1bdeb824e108b26a6c760b8b425",
            "d1e250d0d1274af992db08e261f2b446"
          ]
        },
        "id": "iVwFyfnbAsl9",
        "outputId": "bc275d4e-ce22-4707-cb97-468307c64139"
      },
      "outputs": [
        {
          "ename": "KeyError",
          "evalue": "'YOLO_BASELINE'",
          "output_type": "error",
          "traceback": [
            "\u001b[0;31m---------------------------------------------------------------------------\u001b[0m",
            "\u001b[0;31mKeyError\u001b[0m                                  Traceback (most recent call last)",
            "Cell \u001b[0;32mIn[6], line 33\u001b[0m\n\u001b[1;32m     31\u001b[0m params \u001b[38;5;241m=\u001b[39m DEFAULT_PARAMS\u001b[38;5;241m.\u001b[39mcopy()\n\u001b[1;32m     32\u001b[0m params[\u001b[38;5;124m\"\u001b[39m\u001b[38;5;124mmodel\u001b[39m\u001b[38;5;124m\"\u001b[39m] \u001b[38;5;241m=\u001b[39m MODELS_ENUM[exp_definition[\u001b[38;5;124m\"\u001b[39m\u001b[38;5;124mmodel\u001b[39m\u001b[38;5;124m\"\u001b[39m]](device)\n\u001b[0;32m---> 33\u001b[0m params[\u001b[38;5;124m\"\u001b[39m\u001b[38;5;124mpreprocessing\u001b[39m\u001b[38;5;124m\"\u001b[39m] \u001b[38;5;241m=\u001b[39m \u001b[43mPREPROCESSORS\u001b[49m\u001b[43m[\u001b[49m\u001b[43mexp_definition\u001b[49m\u001b[43m[\u001b[49m\u001b[38;5;124;43m\"\u001b[39;49m\u001b[38;5;124;43mpreprocessing\u001b[39;49m\u001b[38;5;124;43m\"\u001b[39;49m\u001b[43m]\u001b[49m\u001b[43m]\u001b[49m\n\u001b[1;32m     34\u001b[0m algorithm \u001b[38;5;241m=\u001b[39m ALGORITHM[exp_definition[\u001b[38;5;124m\"\u001b[39m\u001b[38;5;124malgorithm\u001b[39m\u001b[38;5;124m\"\u001b[39m]](\u001b[38;5;241m*\u001b[39m\u001b[38;5;241m*\u001b[39mexp_definition[\u001b[38;5;124m\"\u001b[39m\u001b[38;5;124mparams\u001b[39m\u001b[38;5;124m\"\u001b[39m])\n\u001b[1;32m     35\u001b[0m grouper_function \u001b[38;5;241m=\u001b[39m GROUPER_FUNCTIONS[exp_definition[\u001b[38;5;124m\"\u001b[39m\u001b[38;5;124mgrouper_function\u001b[39m\u001b[38;5;124m\"\u001b[39m]](algorithm)\n",
            "\u001b[0;31mKeyError\u001b[0m: 'YOLO_BASELINE'"
          ]
        }
      ],
      "source": [
        "from properties import MODELS_ENUM, PREPROCESSORS, ALGORITHM, GROUPER_FUNCTIONS\n",
        "\n",
        "DEFAULT_PARAMS = {\n",
        "      \"dataset\": dataset_loader,\n",
        "      \"evaluation_function\": clustering_eval_function,\n",
        "      \"show\": True,\n",
        "      \"device\": device\n",
        "   }\n",
        "\n",
        "\n",
        "EXPERIMENT_DEFINITIONS= [\n",
        "    {\n",
        "        'name': 'ResnetAglomerative',\n",
        "        'model': \"YOLOV8\",\n",
        "        'algorithm': \"AGGLOMERATIVE\",\n",
        "        'params': {\"n_clusters\": None, \"distance_threshold\": 50},\n",
        "        'grouper_function': \"CLUSTERING_FUNCTION\",\n",
        "        'preprocessing': \"YOLO_BASELINE\",\n",
        "    },\n",
        "    # {\n",
        "    #     'name': 'SimilarityClustering',\n",
        "    #     'model': \"RESNET18\",\n",
        "    #     'algorithm': \"SIMILARITY\",\n",
        "    #     'params': {\"threshold\": 0.999},\n",
        "    #     'grouper_function': \"CLUSTERING_FUNCTION\",\n",
        "    #     'preprocessing': \"BASELINE\",\n",
        "    # }\n",
        "]\n",
        "\n",
        "for exp_definition in EXPERIMENT_DEFINITIONS:\n",
        "  params = DEFAULT_PARAMS.copy()\n",
        "  params[\"model\"] = MODELS_ENUM[exp_definition[\"model\"]](device)\n",
        "  params[\"preprocessing\"] = PREPROCESSORS[exp_definition[\"preprocessing\"]]\n",
        "  algorithm = ALGORITHM[exp_definition[\"algorithm\"]](**exp_definition[\"params\"])\n",
        "  grouper_function = GROUPER_FUNCTIONS[exp_definition[\"grouper_function\"]](algorithm)\n",
        "  params[\"grouper_function\"] = grouper_function\n",
        "  params[\"name\"] = exp_definition[\"name\"]\n",
        "  params[\"dataset\"] = dataset_loader()\n",
        "\n",
        "  run = wandb.init(project=\"ort-tesis\",group=exp_definition['name'],config=exp_definition, entity=\"hortensias\")\n",
        "  result = experiment(**params)\n",
        "  print(result._asdict())\n",
        "  run.log({\n",
        "    \"Precision\": result.precision.mean,\n",
        "    \"Accuracy\": result.accuracy.mean,\n",
        "    \"F1\": result.f1.mean,\n",
        "    \"Recall\": result.recall.mean,\n",
        "    \"Precision_STD\": result.precision.std,\n",
        "    \"Accuracy_STD\": result.accuracy.std,\n",
        "    \"F1_STD\": result.f1.std,\n",
        "    \"Recall_STD\": result.recall.std,\n",
        "  })\n",
        "  run.finish()"
      ]
    }
  ],
  "metadata": {
    "accelerator": "GPU",
    "colab": {
      "machine_shape": "hm",
      "provenance": []
    },
    "kernelspec": {
      "display_name": "Python 3 (ipykernel)",
      "language": "python",
      "name": "python3"
    },
    "language_info": {
      "codemirror_mode": {
        "name": "ipython",
        "version": 3
      },
      "file_extension": ".py",
      "mimetype": "text/x-python",
      "name": "python",
      "nbconvert_exporter": "python",
      "pygments_lexer": "ipython3",
      "version": "3.10.13"
    },
    "widgets": {
      "application/vnd.jupyter.widget-state+json": {
        "0f649f0dcc244a289880dcef0efba419": {
          "model_module": "@jupyter-widgets/controls",
          "model_module_version": "1.5.0",
          "model_name": "DescriptionStyleModel",
          "state": {
            "_model_module": "@jupyter-widgets/controls",
            "_model_module_version": "1.5.0",
            "_model_name": "DescriptionStyleModel",
            "_view_count": null,
            "_view_module": "@jupyter-widgets/base",
            "_view_module_version": "1.2.0",
            "_view_name": "StyleView",
            "description_width": ""
          }
        },
        "2c81c11c82dd47f990b3bbea168e09b8": {
          "model_module": "@jupyter-widgets/base",
          "model_module_version": "1.2.0",
          "model_name": "LayoutModel",
          "state": {
            "_model_module": "@jupyter-widgets/base",
            "_model_module_version": "1.2.0",
            "_model_name": "LayoutModel",
            "_view_count": null,
            "_view_module": "@jupyter-widgets/base",
            "_view_module_version": "1.2.0",
            "_view_name": "LayoutView",
            "align_content": null,
            "align_items": null,
            "align_self": null,
            "border": null,
            "bottom": null,
            "display": null,
            "flex": null,
            "flex_flow": null,
            "grid_area": null,
            "grid_auto_columns": null,
            "grid_auto_flow": null,
            "grid_auto_rows": null,
            "grid_column": null,
            "grid_gap": null,
            "grid_row": null,
            "grid_template_areas": null,
            "grid_template_columns": null,
            "grid_template_rows": null,
            "height": null,
            "justify_content": null,
            "justify_items": null,
            "left": null,
            "margin": null,
            "max_height": null,
            "max_width": null,
            "min_height": null,
            "min_width": null,
            "object_fit": null,
            "object_position": null,
            "order": null,
            "overflow": null,
            "overflow_x": null,
            "overflow_y": null,
            "padding": null,
            "right": null,
            "top": null,
            "visibility": null,
            "width": null
          }
        },
        "47bede97ac7d473da74293e624cf66df": {
          "model_module": "@jupyter-widgets/controls",
          "model_module_version": "1.5.0",
          "model_name": "DescriptionStyleModel",
          "state": {
            "_model_module": "@jupyter-widgets/controls",
            "_model_module_version": "1.5.0",
            "_model_name": "DescriptionStyleModel",
            "_view_count": null,
            "_view_module": "@jupyter-widgets/base",
            "_view_module_version": "1.2.0",
            "_view_name": "StyleView",
            "description_width": ""
          }
        },
        "4fe372123b7e499b8e4e9d62a54eac1e": {
          "model_module": "@jupyter-widgets/controls",
          "model_module_version": "1.5.0",
          "model_name": "FloatProgressModel",
          "state": {
            "_dom_classes": [],
            "_model_module": "@jupyter-widgets/controls",
            "_model_module_version": "1.5.0",
            "_model_name": "FloatProgressModel",
            "_view_count": null,
            "_view_module": "@jupyter-widgets/controls",
            "_view_module_version": "1.5.0",
            "_view_name": "ProgressView",
            "bar_style": "",
            "description": "",
            "description_tooltip": null,
            "layout": "IPY_MODEL_2c81c11c82dd47f990b3bbea168e09b8",
            "max": 1,
            "min": 0,
            "orientation": "horizontal",
            "style": "IPY_MODEL_a122987043c84413959f280bf4d6701f",
            "value": 1
          }
        },
        "559ff52f270c44748fbbeb068dae86e9": {
          "model_module": "@jupyter-widgets/controls",
          "model_module_version": "1.5.0",
          "model_name": "LabelModel",
          "state": {
            "_dom_classes": [],
            "_model_module": "@jupyter-widgets/controls",
            "_model_module_version": "1.5.0",
            "_model_name": "LabelModel",
            "_view_count": null,
            "_view_module": "@jupyter-widgets/controls",
            "_view_module_version": "1.5.0",
            "_view_name": "LabelView",
            "description": "",
            "description_tooltip": null,
            "layout": "IPY_MODEL_bb3f5d6b71184d71b976c9efd8b902ad",
            "placeholder": "​",
            "style": "IPY_MODEL_0f649f0dcc244a289880dcef0efba419",
            "value": "0.017 MB of 0.017 MB uploaded\r"
          }
        },
        "5b54a1bdeb824e108b26a6c760b8b425": {
          "model_module": "@jupyter-widgets/base",
          "model_module_version": "1.2.0",
          "model_name": "LayoutModel",
          "state": {
            "_model_module": "@jupyter-widgets/base",
            "_model_module_version": "1.2.0",
            "_model_name": "LayoutModel",
            "_view_count": null,
            "_view_module": "@jupyter-widgets/base",
            "_view_module_version": "1.2.0",
            "_view_name": "LayoutView",
            "align_content": null,
            "align_items": null,
            "align_self": null,
            "border": null,
            "bottom": null,
            "display": null,
            "flex": null,
            "flex_flow": null,
            "grid_area": null,
            "grid_auto_columns": null,
            "grid_auto_flow": null,
            "grid_auto_rows": null,
            "grid_column": null,
            "grid_gap": null,
            "grid_row": null,
            "grid_template_areas": null,
            "grid_template_columns": null,
            "grid_template_rows": null,
            "height": null,
            "justify_content": null,
            "justify_items": null,
            "left": null,
            "margin": null,
            "max_height": null,
            "max_width": null,
            "min_height": null,
            "min_width": null,
            "object_fit": null,
            "object_position": null,
            "order": null,
            "overflow": null,
            "overflow_x": null,
            "overflow_y": null,
            "padding": null,
            "right": null,
            "top": null,
            "visibility": null,
            "width": null
          }
        },
        "6f2fff3f25fe413dbab7fbb5a272e215": {
          "model_module": "@jupyter-widgets/controls",
          "model_module_version": "1.5.0",
          "model_name": "FloatProgressModel",
          "state": {
            "_dom_classes": [],
            "_model_module": "@jupyter-widgets/controls",
            "_model_module_version": "1.5.0",
            "_model_name": "FloatProgressModel",
            "_view_count": null,
            "_view_module": "@jupyter-widgets/controls",
            "_view_module_version": "1.5.0",
            "_view_name": "ProgressView",
            "bar_style": "",
            "description": "",
            "description_tooltip": null,
            "layout": "IPY_MODEL_5b54a1bdeb824e108b26a6c760b8b425",
            "max": 1,
            "min": 0,
            "orientation": "horizontal",
            "style": "IPY_MODEL_d1e250d0d1274af992db08e261f2b446",
            "value": 1
          }
        },
        "7d8b9758dab6438784b5887bb25c37ab": {
          "model_module": "@jupyter-widgets/base",
          "model_module_version": "1.2.0",
          "model_name": "LayoutModel",
          "state": {
            "_model_module": "@jupyter-widgets/base",
            "_model_module_version": "1.2.0",
            "_model_name": "LayoutModel",
            "_view_count": null,
            "_view_module": "@jupyter-widgets/base",
            "_view_module_version": "1.2.0",
            "_view_name": "LayoutView",
            "align_content": null,
            "align_items": null,
            "align_self": null,
            "border": null,
            "bottom": null,
            "display": null,
            "flex": null,
            "flex_flow": null,
            "grid_area": null,
            "grid_auto_columns": null,
            "grid_auto_flow": null,
            "grid_auto_rows": null,
            "grid_column": null,
            "grid_gap": null,
            "grid_row": null,
            "grid_template_areas": null,
            "grid_template_columns": null,
            "grid_template_rows": null,
            "height": null,
            "justify_content": null,
            "justify_items": null,
            "left": null,
            "margin": null,
            "max_height": null,
            "max_width": null,
            "min_height": null,
            "min_width": null,
            "object_fit": null,
            "object_position": null,
            "order": null,
            "overflow": null,
            "overflow_x": null,
            "overflow_y": null,
            "padding": null,
            "right": null,
            "top": null,
            "visibility": null,
            "width": null
          }
        },
        "a122987043c84413959f280bf4d6701f": {
          "model_module": "@jupyter-widgets/controls",
          "model_module_version": "1.5.0",
          "model_name": "ProgressStyleModel",
          "state": {
            "_model_module": "@jupyter-widgets/controls",
            "_model_module_version": "1.5.0",
            "_model_name": "ProgressStyleModel",
            "_view_count": null,
            "_view_module": "@jupyter-widgets/base",
            "_view_module_version": "1.2.0",
            "_view_name": "StyleView",
            "bar_color": null,
            "description_width": ""
          }
        },
        "bb3f5d6b71184d71b976c9efd8b902ad": {
          "model_module": "@jupyter-widgets/base",
          "model_module_version": "1.2.0",
          "model_name": "LayoutModel",
          "state": {
            "_model_module": "@jupyter-widgets/base",
            "_model_module_version": "1.2.0",
            "_model_name": "LayoutModel",
            "_view_count": null,
            "_view_module": "@jupyter-widgets/base",
            "_view_module_version": "1.2.0",
            "_view_name": "LayoutView",
            "align_content": null,
            "align_items": null,
            "align_self": null,
            "border": null,
            "bottom": null,
            "display": null,
            "flex": null,
            "flex_flow": null,
            "grid_area": null,
            "grid_auto_columns": null,
            "grid_auto_flow": null,
            "grid_auto_rows": null,
            "grid_column": null,
            "grid_gap": null,
            "grid_row": null,
            "grid_template_areas": null,
            "grid_template_columns": null,
            "grid_template_rows": null,
            "height": null,
            "justify_content": null,
            "justify_items": null,
            "left": null,
            "margin": null,
            "max_height": null,
            "max_width": null,
            "min_height": null,
            "min_width": null,
            "object_fit": null,
            "object_position": null,
            "order": null,
            "overflow": null,
            "overflow_x": null,
            "overflow_y": null,
            "padding": null,
            "right": null,
            "top": null,
            "visibility": null,
            "width": null
          }
        },
        "cc0c09baf2f843618935a78f3f92e3d9": {
          "model_module": "@jupyter-widgets/controls",
          "model_module_version": "1.5.0",
          "model_name": "LabelModel",
          "state": {
            "_dom_classes": [],
            "_model_module": "@jupyter-widgets/controls",
            "_model_module_version": "1.5.0",
            "_model_name": "LabelModel",
            "_view_count": null,
            "_view_module": "@jupyter-widgets/controls",
            "_view_module_version": "1.5.0",
            "_view_name": "LabelView",
            "description": "",
            "description_tooltip": null,
            "layout": "IPY_MODEL_e135375641bb4ef48a2dc1bad69f44ad",
            "placeholder": "​",
            "style": "IPY_MODEL_47bede97ac7d473da74293e624cf66df",
            "value": "0.017 MB of 0.017 MB uploaded\r"
          }
        },
        "cec6d7d4cb8845958487a07a5e1e2eb3": {
          "model_module": "@jupyter-widgets/controls",
          "model_module_version": "1.5.0",
          "model_name": "VBoxModel",
          "state": {
            "_dom_classes": [],
            "_model_module": "@jupyter-widgets/controls",
            "_model_module_version": "1.5.0",
            "_model_name": "VBoxModel",
            "_view_count": null,
            "_view_module": "@jupyter-widgets/controls",
            "_view_module_version": "1.5.0",
            "_view_name": "VBoxView",
            "box_style": "",
            "children": [
              "IPY_MODEL_559ff52f270c44748fbbeb068dae86e9",
              "IPY_MODEL_4fe372123b7e499b8e4e9d62a54eac1e"
            ],
            "layout": "IPY_MODEL_ddbe4a8a47234971b7176c2a36e22c88"
          }
        },
        "d1e250d0d1274af992db08e261f2b446": {
          "model_module": "@jupyter-widgets/controls",
          "model_module_version": "1.5.0",
          "model_name": "ProgressStyleModel",
          "state": {
            "_model_module": "@jupyter-widgets/controls",
            "_model_module_version": "1.5.0",
            "_model_name": "ProgressStyleModel",
            "_view_count": null,
            "_view_module": "@jupyter-widgets/base",
            "_view_module_version": "1.2.0",
            "_view_name": "StyleView",
            "bar_color": null,
            "description_width": ""
          }
        },
        "ddbe4a8a47234971b7176c2a36e22c88": {
          "model_module": "@jupyter-widgets/base",
          "model_module_version": "1.2.0",
          "model_name": "LayoutModel",
          "state": {
            "_model_module": "@jupyter-widgets/base",
            "_model_module_version": "1.2.0",
            "_model_name": "LayoutModel",
            "_view_count": null,
            "_view_module": "@jupyter-widgets/base",
            "_view_module_version": "1.2.0",
            "_view_name": "LayoutView",
            "align_content": null,
            "align_items": null,
            "align_self": null,
            "border": null,
            "bottom": null,
            "display": null,
            "flex": null,
            "flex_flow": null,
            "grid_area": null,
            "grid_auto_columns": null,
            "grid_auto_flow": null,
            "grid_auto_rows": null,
            "grid_column": null,
            "grid_gap": null,
            "grid_row": null,
            "grid_template_areas": null,
            "grid_template_columns": null,
            "grid_template_rows": null,
            "height": null,
            "justify_content": null,
            "justify_items": null,
            "left": null,
            "margin": null,
            "max_height": null,
            "max_width": null,
            "min_height": null,
            "min_width": null,
            "object_fit": null,
            "object_position": null,
            "order": null,
            "overflow": null,
            "overflow_x": null,
            "overflow_y": null,
            "padding": null,
            "right": null,
            "top": null,
            "visibility": null,
            "width": null
          }
        },
        "e135375641bb4ef48a2dc1bad69f44ad": {
          "model_module": "@jupyter-widgets/base",
          "model_module_version": "1.2.0",
          "model_name": "LayoutModel",
          "state": {
            "_model_module": "@jupyter-widgets/base",
            "_model_module_version": "1.2.0",
            "_model_name": "LayoutModel",
            "_view_count": null,
            "_view_module": "@jupyter-widgets/base",
            "_view_module_version": "1.2.0",
            "_view_name": "LayoutView",
            "align_content": null,
            "align_items": null,
            "align_self": null,
            "border": null,
            "bottom": null,
            "display": null,
            "flex": null,
            "flex_flow": null,
            "grid_area": null,
            "grid_auto_columns": null,
            "grid_auto_flow": null,
            "grid_auto_rows": null,
            "grid_column": null,
            "grid_gap": null,
            "grid_row": null,
            "grid_template_areas": null,
            "grid_template_columns": null,
            "grid_template_rows": null,
            "height": null,
            "justify_content": null,
            "justify_items": null,
            "left": null,
            "margin": null,
            "max_height": null,
            "max_width": null,
            "min_height": null,
            "min_width": null,
            "object_fit": null,
            "object_position": null,
            "order": null,
            "overflow": null,
            "overflow_x": null,
            "overflow_y": null,
            "padding": null,
            "right": null,
            "top": null,
            "visibility": null,
            "width": null
          }
        },
        "f323bcb5d3a64bb0b68f639326bd7dbf": {
          "model_module": "@jupyter-widgets/controls",
          "model_module_version": "1.5.0",
          "model_name": "VBoxModel",
          "state": {
            "_dom_classes": [],
            "_model_module": "@jupyter-widgets/controls",
            "_model_module_version": "1.5.0",
            "_model_name": "VBoxModel",
            "_view_count": null,
            "_view_module": "@jupyter-widgets/controls",
            "_view_module_version": "1.5.0",
            "_view_name": "VBoxView",
            "box_style": "",
            "children": [
              "IPY_MODEL_cc0c09baf2f843618935a78f3f92e3d9",
              "IPY_MODEL_6f2fff3f25fe413dbab7fbb5a272e215"
            ],
            "layout": "IPY_MODEL_7d8b9758dab6438784b5887bb25c37ab"
          }
        }
      }
    }
  },
  "nbformat": 4,
  "nbformat_minor": 0
}
