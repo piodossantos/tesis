{
  "cells": [
    {
      "cell_type": "code",
      "execution_count": 1,
      "metadata": {
        "colab": {
          "base_uri": "https://localhost:8080/"
        },
        "id": "MiIlbxxCZztR",
        "outputId": "3ca561fc-eb6f-49c7-db29-94fecb596dbc"
      },
      "outputs": [],
      "source": [
        "\n",
        "# import zipfile\n",
        "\n",
        "# # Ruta del archivo ZIP\n",
        "# zip_file_path = '/content/tesis-main.zip'\n",
        "\n",
        "# # Ruta donde quieres extraer los archivos\n",
        "# extract_to_path = '/content/'\n",
        "\n",
        "# # Descomprimir el archivo\n",
        "# with zipfile.ZipFile(zip_file_path, 'r') as zip_ref:\n",
        "#     zip_ref.extractall(extract_to_path)\n",
        "\n",
        "# print(\"Archivos extraídos con éxito.\")"
      ]
    },
    {
      "cell_type": "code",
      "execution_count": 2,
      "metadata": {
        "id": "lm2ziiykMZF1"
      },
      "outputs": [
        {
          "data": {
            "text/plain": [
              "True"
            ]
          },
          "execution_count": 2,
          "metadata": {},
          "output_type": "execute_result"
        }
      ],
      "source": [
        "import sys\n",
        "sys.path.append('/content/tesis-main/')\n",
        "\n",
        "from dotenv import load_dotenv\n",
        "\n",
        "load_dotenv()"
      ]
    },
    {
      "cell_type": "code",
      "execution_count": 3,
      "metadata": {
        "colab": {
          "base_uri": "https://localhost:8080/",
          "height": 567
        },
        "id": "TR-nZRfNNLUa",
        "outputId": "9539c464-eae7-4ba1-cf17-6d7116f9edce"
      },
      "outputs": [],
      "source": [
        "\n",
        "# import drive as drive_downloader\n",
        "# drive_downloader.download_files('14_UUqgoWDPPNwXvdFjDoJomHTu5l85l6')"
      ]
    },
    {
      "cell_type": "markdown",
      "metadata": {
        "id": "LgMLLHeZVfIu"
      },
      "source": [
        "* Carga el video utilizando cv2.VideoCapture.\n",
        "* Extrae los frames del video uno por uno.\n",
        "* Preprocesa cada frame para que sean compatibles con el modelo de PyTorch (tamaño, normalización, etc.).\n",
        "* Usa un modelo preentrenado de PyTorch (como ResNet) para extraer características de cada frame.\n",
        "* Aplica un algoritmo de clustering (como K-Means) a las características extraídas.\n",
        "* Asigna cada frame al cluster correspondiente.\n",
        "* Visualiza los resultados mostrando los frames y su cluster correspondiente."
      ]
    },
    {
      "cell_type": "code",
      "execution_count": 4,
      "metadata": {
        "id": "A3AVlVaAdpDc"
      },
      "outputs": [
        {
          "name": "stderr",
          "output_type": "stream",
          "text": [
            "Failed to detect the name of this notebook, you can set it manually with the WANDB_NOTEBOOK_NAME environment variable to enable code saving.\n",
            "\u001b[34m\u001b[1mwandb\u001b[0m: Currently logged in as: \u001b[33mmandirolamarcelo\u001b[0m (\u001b[33mhortensias\u001b[0m). Use \u001b[1m`wandb login --relogin`\u001b[0m to force relogin\n"
          ]
        },
        {
          "data": {
            "text/plain": [
              "True"
            ]
          },
          "execution_count": 4,
          "metadata": {},
          "output_type": "execute_result"
        }
      ],
      "source": [
        "import torch\n",
        "from sklearn.cluster import AgglomerativeClustering\n",
        "import warnings\n",
        "from models.resnet18 import get_model as get_resnet18\n",
        "from preprocessing.transforms import BASELINE\n",
        "from clustering.metrics import eval_massive_cluster\n",
        "from clustering.model import clustering_function\n",
        "from experiment_framework import experiment\n",
        "from validation import VALIDATION_DATASET\n",
        "from utils import load_dataset\n",
        "warnings.filterwarnings('ignore')\n",
        "import wandb\n",
        "\n",
        "torch.manual_seed(47)\n",
        "import random\n",
        "random.seed(47)\n",
        "import numpy as np\n",
        "np.random.seed(47)\n",
        "\n",
        "if torch.cuda.is_available():\n",
        " dev = \"cuda:0\"\n",
        "else:\n",
        " dev = \"cpu\"\n",
        "\n",
        "\n",
        "device = torch.device(dev)\n",
        "epochs = 10\n",
        "steps=1\n",
        "clustering_eval_function = lambda cluster_labels, tags: eval_massive_cluster(cluster_labels, tags, steps, epochs)\n",
        "\n",
        "dataset = load_dataset(VALIDATION_DATASET.keys())\n",
        "\n",
        "wandb.login()"
      ]
    },
    {
      "cell_type": "code",
      "execution_count": 5,
      "metadata": {
        "colab": {
          "base_uri": "https://localhost:8080/",
          "height": 711,
          "referenced_widgets": [
            "cec6d7d4cb8845958487a07a5e1e2eb3",
            "559ff52f270c44748fbbeb068dae86e9",
            "4fe372123b7e499b8e4e9d62a54eac1e",
            "ddbe4a8a47234971b7176c2a36e22c88",
            "bb3f5d6b71184d71b976c9efd8b902ad",
            "0f649f0dcc244a289880dcef0efba419",
            "2c81c11c82dd47f990b3bbea168e09b8",
            "a122987043c84413959f280bf4d6701f",
            "f323bcb5d3a64bb0b68f639326bd7dbf",
            "cc0c09baf2f843618935a78f3f92e3d9",
            "6f2fff3f25fe413dbab7fbb5a272e215",
            "7d8b9758dab6438784b5887bb25c37ab",
            "e135375641bb4ef48a2dc1bad69f44ad",
            "47bede97ac7d473da74293e624cf66df",
            "5b54a1bdeb824e108b26a6c760b8b425",
            "d1e250d0d1274af992db08e261f2b446"
          ]
        },
        "id": "iVwFyfnbAsl9",
        "outputId": "bc275d4e-ce22-4707-cb97-468307c64139"
      },
      "outputs": [
        {
          "data": {
            "text/html": [
              "Tracking run with wandb version 0.16.1"
            ],
            "text/plain": [
              "<IPython.core.display.HTML object>"
            ]
          },
          "metadata": {},
          "output_type": "display_data"
        },
        {
          "data": {
            "text/html": [
              "Run data is saved locally in <code>/Users/mmandirola/tesis/wandb/run-20231226_230019-p0v5qnd4</code>"
            ],
            "text/plain": [
              "<IPython.core.display.HTML object>"
            ]
          },
          "metadata": {},
          "output_type": "display_data"
        },
        {
          "data": {
            "text/html": [
              "Syncing run <strong><a href='https://wandb.ai/hortensias/ort-tesis/runs/p0v5qnd4' target=\"_blank\">graceful-rain-11</a></strong> to <a href='https://wandb.ai/hortensias/ort-tesis' target=\"_blank\">Weights & Biases</a> (<a href='https://wandb.me/run' target=\"_blank\">docs</a>)<br/>"
            ],
            "text/plain": [
              "<IPython.core.display.HTML object>"
            ]
          },
          "metadata": {},
          "output_type": "display_data"
        },
        {
          "data": {
            "text/html": [
              " View project at <a href='https://wandb.ai/hortensias/ort-tesis' target=\"_blank\">https://wandb.ai/hortensias/ort-tesis</a>"
            ],
            "text/plain": [
              "<IPython.core.display.HTML object>"
            ]
          },
          "metadata": {},
          "output_type": "display_data"
        },
        {
          "data": {
            "text/html": [
              " View run at <a href='https://wandb.ai/hortensias/ort-tesis/runs/p0v5qnd4' target=\"_blank\">https://wandb.ai/hortensias/ort-tesis/runs/p0v5qnd4</a>"
            ],
            "text/plain": [
              "<IPython.core.display.HTML object>"
            ]
          },
          "metadata": {},
          "output_type": "display_data"
        },
        {
          "name": "stdout",
          "output_type": "stream",
          "text": [
            "\n",
            "Experiment name: ResnetAglomerative Airbnb.mp4\n",
            "Precision - Mean: 0.61, std: 0.0426408229\n",
            "Recall - Mean: 0.50, std: 0.0542994165\n",
            "F1-Score - Mean: 0.51, std: 0.0533845729\n",
            "Accuracy - Mean: 0.50, std: 0.0542994165\n",
            "\n",
            "Experiment name: ResnetAglomerative AVG\n",
            "Precision - Mean: 0.61, std: 0.0000000000\n",
            "Recall - Mean: 0.50, std: 0.0000000000\n",
            "F1-Score - Mean: 0.51, std: 0.0000000000\n",
            "Accuracy - Mean: 0.50, std: 0.0000000000\n",
            "{'precision': MetricsResults(mean=0.6109762163769819, std=0.0), 'recall': MetricsResults(mean=0.5017724413950829, std=0.0), 'f1': MetricsResults(mean=0.5101993366100538, std=0.0), 'accuracy': MetricsResults(mean=0.5017724413950829, std=0.0)}\n"
          ]
        },
        {
          "name": "stderr",
          "output_type": "stream",
          "text": [
            "wandb: WARNING Source type is set to 'repo' but some required information is missing from the environment. A job will not be created from this run. See https://docs.wandb.ai/guides/launch/create-job\n"
          ]
        },
        {
          "data": {
            "text/html": [
              "<style>\n",
              "    table.wandb td:nth-child(1) { padding: 0 10px; text-align: left ; width: auto;} td:nth-child(2) {text-align: left ; width: 100%}\n",
              "    .wandb-row { display: flex; flex-direction: row; flex-wrap: wrap; justify-content: flex-start; width: 100% }\n",
              "    .wandb-col { display: flex; flex-direction: column; flex-basis: 100%; flex: 1; padding: 10px; }\n",
              "    </style>\n",
              "<div class=\"wandb-row\"><div class=\"wandb-col\"><h3>Run history:</h3><br/><table class=\"wandb\"><tr><td>Accuracy</td><td>▁</td></tr><tr><td>Accuracy_STD</td><td>▁</td></tr><tr><td>F1</td><td>▁</td></tr><tr><td>F1_STD</td><td>▁</td></tr><tr><td>Precision</td><td>▁</td></tr><tr><td>Precision_STD</td><td>▁</td></tr><tr><td>Recall</td><td>▁</td></tr><tr><td>Recall_STD</td><td>▁</td></tr></table><br/></div><div class=\"wandb-col\"><h3>Run summary:</h3><br/><table class=\"wandb\"><tr><td>Accuracy</td><td>0.50177</td></tr><tr><td>Accuracy_STD</td><td>0.0</td></tr><tr><td>F1</td><td>0.5102</td></tr><tr><td>F1_STD</td><td>0.0</td></tr><tr><td>Precision</td><td>0.61098</td></tr><tr><td>Precision_STD</td><td>0.0</td></tr><tr><td>Recall</td><td>0.50177</td></tr><tr><td>Recall_STD</td><td>0.0</td></tr></table><br/></div></div>"
            ],
            "text/plain": [
              "<IPython.core.display.HTML object>"
            ]
          },
          "metadata": {},
          "output_type": "display_data"
        },
        {
          "data": {
            "text/html": [
              " View run <strong style=\"color:#cdcd00\">graceful-rain-11</strong> at: <a href='https://wandb.ai/hortensias/ort-tesis/runs/p0v5qnd4' target=\"_blank\">https://wandb.ai/hortensias/ort-tesis/runs/p0v5qnd4</a><br/>Synced 5 W&B file(s), 0 media file(s), 0 artifact file(s) and 0 other file(s)"
            ],
            "text/plain": [
              "<IPython.core.display.HTML object>"
            ]
          },
          "metadata": {},
          "output_type": "display_data"
        },
        {
          "data": {
            "text/html": [
              "Find logs at: <code>./wandb/run-20231226_230019-p0v5qnd4/logs</code>"
            ],
            "text/plain": [
              "<IPython.core.display.HTML object>"
            ]
          },
          "metadata": {},
          "output_type": "display_data"
        },
        {
          "data": {
            "text/html": [
              "Tracking run with wandb version 0.16.1"
            ],
            "text/plain": [
              "<IPython.core.display.HTML object>"
            ]
          },
          "metadata": {},
          "output_type": "display_data"
        },
        {
          "data": {
            "text/html": [
              "Run data is saved locally in <code>/Users/mmandirola/tesis/wandb/run-20231226_230631-5gcn69x9</code>"
            ],
            "text/plain": [
              "<IPython.core.display.HTML object>"
            ]
          },
          "metadata": {},
          "output_type": "display_data"
        },
        {
          "data": {
            "text/html": [
              "Syncing run <strong><a href='https://wandb.ai/hortensias/ort-tesis/runs/5gcn69x9' target=\"_blank\">swept-lake-12</a></strong> to <a href='https://wandb.ai/hortensias/ort-tesis' target=\"_blank\">Weights & Biases</a> (<a href='https://wandb.me/run' target=\"_blank\">docs</a>)<br/>"
            ],
            "text/plain": [
              "<IPython.core.display.HTML object>"
            ]
          },
          "metadata": {},
          "output_type": "display_data"
        },
        {
          "data": {
            "text/html": [
              " View project at <a href='https://wandb.ai/hortensias/ort-tesis' target=\"_blank\">https://wandb.ai/hortensias/ort-tesis</a>"
            ],
            "text/plain": [
              "<IPython.core.display.HTML object>"
            ]
          },
          "metadata": {},
          "output_type": "display_data"
        },
        {
          "data": {
            "text/html": [
              " View run at <a href='https://wandb.ai/hortensias/ort-tesis/runs/5gcn69x9' target=\"_blank\">https://wandb.ai/hortensias/ort-tesis/runs/5gcn69x9</a>"
            ],
            "text/plain": [
              "<IPython.core.display.HTML object>"
            ]
          },
          "metadata": {},
          "output_type": "display_data"
        },
        {
          "name": "stdout",
          "output_type": "stream",
          "text": [
            "\n",
            "Experiment name: SimilarityClustering Airbnb.mp4\n",
            "Precision - Mean: 0.94, std: 0.0000000000\n",
            "Recall - Mean: 0.49, std: 0.0000000000\n",
            "F1-Score - Mean: 0.61, std: 0.0000000000\n",
            "Accuracy - Mean: 0.49, std: 0.0000000000\n",
            "\n",
            "Experiment name: SimilarityClustering AVG\n",
            "Precision - Mean: 0.94, std: 0.0000000000\n",
            "Recall - Mean: 0.49, std: 0.0000000000\n",
            "F1-Score - Mean: 0.61, std: 0.0000000000\n",
            "Accuracy - Mean: 0.49, std: 0.0000000000\n",
            "{'precision': MetricsResults(mean=0.9399112694007534, std=0.0), 'recall': MetricsResults(mean=0.4905660377358491, std=0.0), 'f1': MetricsResults(mean=0.6145718925642055, std=0.0), 'accuracy': MetricsResults(mean=0.4905660377358491, std=0.0)}\n"
          ]
        },
        {
          "name": "stderr",
          "output_type": "stream",
          "text": [
            "wandb: WARNING Source type is set to 'repo' but some required information is missing from the environment. A job will not be created from this run. See https://docs.wandb.ai/guides/launch/create-job\n"
          ]
        },
        {
          "data": {
            "text/html": [
              "<style>\n",
              "    table.wandb td:nth-child(1) { padding: 0 10px; text-align: left ; width: auto;} td:nth-child(2) {text-align: left ; width: 100%}\n",
              "    .wandb-row { display: flex; flex-direction: row; flex-wrap: wrap; justify-content: flex-start; width: 100% }\n",
              "    .wandb-col { display: flex; flex-direction: column; flex-basis: 100%; flex: 1; padding: 10px; }\n",
              "    </style>\n",
              "<div class=\"wandb-row\"><div class=\"wandb-col\"><h3>Run history:</h3><br/><table class=\"wandb\"><tr><td>Accuracy</td><td>▁</td></tr><tr><td>Accuracy_STD</td><td>▁</td></tr><tr><td>F1</td><td>▁</td></tr><tr><td>F1_STD</td><td>▁</td></tr><tr><td>Precision</td><td>▁</td></tr><tr><td>Precision_STD</td><td>▁</td></tr><tr><td>Recall</td><td>▁</td></tr><tr><td>Recall_STD</td><td>▁</td></tr></table><br/></div><div class=\"wandb-col\"><h3>Run summary:</h3><br/><table class=\"wandb\"><tr><td>Accuracy</td><td>0.49057</td></tr><tr><td>Accuracy_STD</td><td>0.0</td></tr><tr><td>F1</td><td>0.61457</td></tr><tr><td>F1_STD</td><td>0.0</td></tr><tr><td>Precision</td><td>0.93991</td></tr><tr><td>Precision_STD</td><td>0.0</td></tr><tr><td>Recall</td><td>0.49057</td></tr><tr><td>Recall_STD</td><td>0.0</td></tr></table><br/></div></div>"
            ],
            "text/plain": [
              "<IPython.core.display.HTML object>"
            ]
          },
          "metadata": {},
          "output_type": "display_data"
        },
        {
          "data": {
            "text/html": [
              " View run <strong style=\"color:#cdcd00\">swept-lake-12</strong> at: <a href='https://wandb.ai/hortensias/ort-tesis/runs/5gcn69x9' target=\"_blank\">https://wandb.ai/hortensias/ort-tesis/runs/5gcn69x9</a><br/>Synced 5 W&B file(s), 0 media file(s), 0 artifact file(s) and 0 other file(s)"
            ],
            "text/plain": [
              "<IPython.core.display.HTML object>"
            ]
          },
          "metadata": {},
          "output_type": "display_data"
        },
        {
          "data": {
            "text/html": [
              "Find logs at: <code>./wandb/run-20231226_230631-5gcn69x9/logs</code>"
            ],
            "text/plain": [
              "<IPython.core.display.HTML object>"
            ]
          },
          "metadata": {},
          "output_type": "display_data"
        }
      ],
      "source": [
        "from properties import MODELS_ENUM, PREPROCESSORS, ALGORITHM, GROUPER_FUNCTIONS\n",
        "\n",
        "DEFAULT_PARAMS = {\n",
        "      \"dataset\": dataset,\n",
        "      \"evaluation_function\": clustering_eval_function,\n",
        "      \"show\": True,\n",
        "      \"device\": device\n",
        "   }\n",
        "\n",
        "\n",
        "EXPERIMENT_DEFINITIONS= [\n",
        "    {\n",
        "        'name': 'ResnetAglomerative',\n",
        "        'model': \"RESNET18\",\n",
        "        'algorithm': \"AGGLOMERATIVE\",\n",
        "        'params': {\"n_clusters\": None, \"distance_threshold\": 50},\n",
        "        'grouper_function': \"CLUSTERING_FUNCTION\",\n",
        "        'preprocessing': \"BASELINE\",\n",
        "    },\n",
        "    {\n",
        "        'name': 'SimilarityClustering',\n",
        "        'model': \"RESNET18\",\n",
        "        'algorithm': \"SIMILARITY\",\n",
        "        'params': {\"threshold\": 0.999},\n",
        "        'grouper_function': \"CLUSTERING_FUNCTION\",\n",
        "        'preprocessing': \"BASELINE\",\n",
        "    }\n",
        "]\n",
        "\n",
        "for exp_definition in EXPERIMENT_DEFINITIONS:\n",
        "  params = DEFAULT_PARAMS.copy()\n",
        "  params[\"model\"] = MODELS_ENUM[exp_definition[\"model\"]](device)\n",
        "  params[\"preprocessing\"] = PREPROCESSORS[exp_definition[\"preprocessing\"]]\n",
        "  algorithm = ALGORITHM[exp_definition[\"algorithm\"]](**exp_definition[\"params\"])\n",
        "  grouper_function = GROUPER_FUNCTIONS[exp_definition[\"grouper_function\"]](algorithm)\n",
        "  params[\"grouper_function\"] = grouper_function\n",
        "  params[\"name\"] = exp_definition[\"name\"]\n",
        "\n",
        "  run = wandb.init(project=\"ort-tesis\",group=exp_definition['name'],config=exp_definition, entity=\"hortensias\")\n",
        "\n",
        "  result = experiment(**params)\n",
        "  print(result._asdict())\n",
        "  run.log({\n",
        "    \"Precision\": result.precision.mean,\n",
        "    \"Accuracy\": result.accuracy.mean,\n",
        "    \"F1\": result.f1.mean,\n",
        "    \"Recall\": result.recall.mean,\n",
        "    \"Precision_STD\": result.precision.std,\n",
        "    \"Accuracy_STD\": result.accuracy.std,\n",
        "    \"F1_STD\": result.f1.std,\n",
        "    \"Recall_STD\": result.recall.std,\n",
        "  })\n",
        "  run.finish()"
      ]
    },
    {
      "cell_type": "code",
      "execution_count": null,
      "metadata": {},
      "outputs": [],
      "source": []
    }
  ],
  "metadata": {
    "accelerator": "GPU",
    "colab": {
      "machine_shape": "hm",
      "provenance": []
    },
    "kernelspec": {
      "display_name": "Python 3 (ipykernel)",
      "language": "python",
      "name": "python3"
    },
    "language_info": {
      "codemirror_mode": {
        "name": "ipython",
        "version": 3
      },
      "file_extension": ".py",
      "mimetype": "text/x-python",
      "name": "python",
      "nbconvert_exporter": "python",
      "pygments_lexer": "ipython3",
      "version": "3.10.13"
    },
    "widgets": {
      "application/vnd.jupyter.widget-state+json": {
        "0f649f0dcc244a289880dcef0efba419": {
          "model_module": "@jupyter-widgets/controls",
          "model_module_version": "1.5.0",
          "model_name": "DescriptionStyleModel",
          "state": {
            "_model_module": "@jupyter-widgets/controls",
            "_model_module_version": "1.5.0",
            "_model_name": "DescriptionStyleModel",
            "_view_count": null,
            "_view_module": "@jupyter-widgets/base",
            "_view_module_version": "1.2.0",
            "_view_name": "StyleView",
            "description_width": ""
          }
        },
        "2c81c11c82dd47f990b3bbea168e09b8": {
          "model_module": "@jupyter-widgets/base",
          "model_module_version": "1.2.0",
          "model_name": "LayoutModel",
          "state": {
            "_model_module": "@jupyter-widgets/base",
            "_model_module_version": "1.2.0",
            "_model_name": "LayoutModel",
            "_view_count": null,
            "_view_module": "@jupyter-widgets/base",
            "_view_module_version": "1.2.0",
            "_view_name": "LayoutView",
            "align_content": null,
            "align_items": null,
            "align_self": null,
            "border": null,
            "bottom": null,
            "display": null,
            "flex": null,
            "flex_flow": null,
            "grid_area": null,
            "grid_auto_columns": null,
            "grid_auto_flow": null,
            "grid_auto_rows": null,
            "grid_column": null,
            "grid_gap": null,
            "grid_row": null,
            "grid_template_areas": null,
            "grid_template_columns": null,
            "grid_template_rows": null,
            "height": null,
            "justify_content": null,
            "justify_items": null,
            "left": null,
            "margin": null,
            "max_height": null,
            "max_width": null,
            "min_height": null,
            "min_width": null,
            "object_fit": null,
            "object_position": null,
            "order": null,
            "overflow": null,
            "overflow_x": null,
            "overflow_y": null,
            "padding": null,
            "right": null,
            "top": null,
            "visibility": null,
            "width": null
          }
        },
        "47bede97ac7d473da74293e624cf66df": {
          "model_module": "@jupyter-widgets/controls",
          "model_module_version": "1.5.0",
          "model_name": "DescriptionStyleModel",
          "state": {
            "_model_module": "@jupyter-widgets/controls",
            "_model_module_version": "1.5.0",
            "_model_name": "DescriptionStyleModel",
            "_view_count": null,
            "_view_module": "@jupyter-widgets/base",
            "_view_module_version": "1.2.0",
            "_view_name": "StyleView",
            "description_width": ""
          }
        },
        "4fe372123b7e499b8e4e9d62a54eac1e": {
          "model_module": "@jupyter-widgets/controls",
          "model_module_version": "1.5.0",
          "model_name": "FloatProgressModel",
          "state": {
            "_dom_classes": [],
            "_model_module": "@jupyter-widgets/controls",
            "_model_module_version": "1.5.0",
            "_model_name": "FloatProgressModel",
            "_view_count": null,
            "_view_module": "@jupyter-widgets/controls",
            "_view_module_version": "1.5.0",
            "_view_name": "ProgressView",
            "bar_style": "",
            "description": "",
            "description_tooltip": null,
            "layout": "IPY_MODEL_2c81c11c82dd47f990b3bbea168e09b8",
            "max": 1,
            "min": 0,
            "orientation": "horizontal",
            "style": "IPY_MODEL_a122987043c84413959f280bf4d6701f",
            "value": 1
          }
        },
        "559ff52f270c44748fbbeb068dae86e9": {
          "model_module": "@jupyter-widgets/controls",
          "model_module_version": "1.5.0",
          "model_name": "LabelModel",
          "state": {
            "_dom_classes": [],
            "_model_module": "@jupyter-widgets/controls",
            "_model_module_version": "1.5.0",
            "_model_name": "LabelModel",
            "_view_count": null,
            "_view_module": "@jupyter-widgets/controls",
            "_view_module_version": "1.5.0",
            "_view_name": "LabelView",
            "description": "",
            "description_tooltip": null,
            "layout": "IPY_MODEL_bb3f5d6b71184d71b976c9efd8b902ad",
            "placeholder": "​",
            "style": "IPY_MODEL_0f649f0dcc244a289880dcef0efba419",
            "value": "0.017 MB of 0.017 MB uploaded\r"
          }
        },
        "5b54a1bdeb824e108b26a6c760b8b425": {
          "model_module": "@jupyter-widgets/base",
          "model_module_version": "1.2.0",
          "model_name": "LayoutModel",
          "state": {
            "_model_module": "@jupyter-widgets/base",
            "_model_module_version": "1.2.0",
            "_model_name": "LayoutModel",
            "_view_count": null,
            "_view_module": "@jupyter-widgets/base",
            "_view_module_version": "1.2.0",
            "_view_name": "LayoutView",
            "align_content": null,
            "align_items": null,
            "align_self": null,
            "border": null,
            "bottom": null,
            "display": null,
            "flex": null,
            "flex_flow": null,
            "grid_area": null,
            "grid_auto_columns": null,
            "grid_auto_flow": null,
            "grid_auto_rows": null,
            "grid_column": null,
            "grid_gap": null,
            "grid_row": null,
            "grid_template_areas": null,
            "grid_template_columns": null,
            "grid_template_rows": null,
            "height": null,
            "justify_content": null,
            "justify_items": null,
            "left": null,
            "margin": null,
            "max_height": null,
            "max_width": null,
            "min_height": null,
            "min_width": null,
            "object_fit": null,
            "object_position": null,
            "order": null,
            "overflow": null,
            "overflow_x": null,
            "overflow_y": null,
            "padding": null,
            "right": null,
            "top": null,
            "visibility": null,
            "width": null
          }
        },
        "6f2fff3f25fe413dbab7fbb5a272e215": {
          "model_module": "@jupyter-widgets/controls",
          "model_module_version": "1.5.0",
          "model_name": "FloatProgressModel",
          "state": {
            "_dom_classes": [],
            "_model_module": "@jupyter-widgets/controls",
            "_model_module_version": "1.5.0",
            "_model_name": "FloatProgressModel",
            "_view_count": null,
            "_view_module": "@jupyter-widgets/controls",
            "_view_module_version": "1.5.0",
            "_view_name": "ProgressView",
            "bar_style": "",
            "description": "",
            "description_tooltip": null,
            "layout": "IPY_MODEL_5b54a1bdeb824e108b26a6c760b8b425",
            "max": 1,
            "min": 0,
            "orientation": "horizontal",
            "style": "IPY_MODEL_d1e250d0d1274af992db08e261f2b446",
            "value": 1
          }
        },
        "7d8b9758dab6438784b5887bb25c37ab": {
          "model_module": "@jupyter-widgets/base",
          "model_module_version": "1.2.0",
          "model_name": "LayoutModel",
          "state": {
            "_model_module": "@jupyter-widgets/base",
            "_model_module_version": "1.2.0",
            "_model_name": "LayoutModel",
            "_view_count": null,
            "_view_module": "@jupyter-widgets/base",
            "_view_module_version": "1.2.0",
            "_view_name": "LayoutView",
            "align_content": null,
            "align_items": null,
            "align_self": null,
            "border": null,
            "bottom": null,
            "display": null,
            "flex": null,
            "flex_flow": null,
            "grid_area": null,
            "grid_auto_columns": null,
            "grid_auto_flow": null,
            "grid_auto_rows": null,
            "grid_column": null,
            "grid_gap": null,
            "grid_row": null,
            "grid_template_areas": null,
            "grid_template_columns": null,
            "grid_template_rows": null,
            "height": null,
            "justify_content": null,
            "justify_items": null,
            "left": null,
            "margin": null,
            "max_height": null,
            "max_width": null,
            "min_height": null,
            "min_width": null,
            "object_fit": null,
            "object_position": null,
            "order": null,
            "overflow": null,
            "overflow_x": null,
            "overflow_y": null,
            "padding": null,
            "right": null,
            "top": null,
            "visibility": null,
            "width": null
          }
        },
        "a122987043c84413959f280bf4d6701f": {
          "model_module": "@jupyter-widgets/controls",
          "model_module_version": "1.5.0",
          "model_name": "ProgressStyleModel",
          "state": {
            "_model_module": "@jupyter-widgets/controls",
            "_model_module_version": "1.5.0",
            "_model_name": "ProgressStyleModel",
            "_view_count": null,
            "_view_module": "@jupyter-widgets/base",
            "_view_module_version": "1.2.0",
            "_view_name": "StyleView",
            "bar_color": null,
            "description_width": ""
          }
        },
        "bb3f5d6b71184d71b976c9efd8b902ad": {
          "model_module": "@jupyter-widgets/base",
          "model_module_version": "1.2.0",
          "model_name": "LayoutModel",
          "state": {
            "_model_module": "@jupyter-widgets/base",
            "_model_module_version": "1.2.0",
            "_model_name": "LayoutModel",
            "_view_count": null,
            "_view_module": "@jupyter-widgets/base",
            "_view_module_version": "1.2.0",
            "_view_name": "LayoutView",
            "align_content": null,
            "align_items": null,
            "align_self": null,
            "border": null,
            "bottom": null,
            "display": null,
            "flex": null,
            "flex_flow": null,
            "grid_area": null,
            "grid_auto_columns": null,
            "grid_auto_flow": null,
            "grid_auto_rows": null,
            "grid_column": null,
            "grid_gap": null,
            "grid_row": null,
            "grid_template_areas": null,
            "grid_template_columns": null,
            "grid_template_rows": null,
            "height": null,
            "justify_content": null,
            "justify_items": null,
            "left": null,
            "margin": null,
            "max_height": null,
            "max_width": null,
            "min_height": null,
            "min_width": null,
            "object_fit": null,
            "object_position": null,
            "order": null,
            "overflow": null,
            "overflow_x": null,
            "overflow_y": null,
            "padding": null,
            "right": null,
            "top": null,
            "visibility": null,
            "width": null
          }
        },
        "cc0c09baf2f843618935a78f3f92e3d9": {
          "model_module": "@jupyter-widgets/controls",
          "model_module_version": "1.5.0",
          "model_name": "LabelModel",
          "state": {
            "_dom_classes": [],
            "_model_module": "@jupyter-widgets/controls",
            "_model_module_version": "1.5.0",
            "_model_name": "LabelModel",
            "_view_count": null,
            "_view_module": "@jupyter-widgets/controls",
            "_view_module_version": "1.5.0",
            "_view_name": "LabelView",
            "description": "",
            "description_tooltip": null,
            "layout": "IPY_MODEL_e135375641bb4ef48a2dc1bad69f44ad",
            "placeholder": "​",
            "style": "IPY_MODEL_47bede97ac7d473da74293e624cf66df",
            "value": "0.017 MB of 0.017 MB uploaded\r"
          }
        },
        "cec6d7d4cb8845958487a07a5e1e2eb3": {
          "model_module": "@jupyter-widgets/controls",
          "model_module_version": "1.5.0",
          "model_name": "VBoxModel",
          "state": {
            "_dom_classes": [],
            "_model_module": "@jupyter-widgets/controls",
            "_model_module_version": "1.5.0",
            "_model_name": "VBoxModel",
            "_view_count": null,
            "_view_module": "@jupyter-widgets/controls",
            "_view_module_version": "1.5.0",
            "_view_name": "VBoxView",
            "box_style": "",
            "children": [
              "IPY_MODEL_559ff52f270c44748fbbeb068dae86e9",
              "IPY_MODEL_4fe372123b7e499b8e4e9d62a54eac1e"
            ],
            "layout": "IPY_MODEL_ddbe4a8a47234971b7176c2a36e22c88"
          }
        },
        "d1e250d0d1274af992db08e261f2b446": {
          "model_module": "@jupyter-widgets/controls",
          "model_module_version": "1.5.0",
          "model_name": "ProgressStyleModel",
          "state": {
            "_model_module": "@jupyter-widgets/controls",
            "_model_module_version": "1.5.0",
            "_model_name": "ProgressStyleModel",
            "_view_count": null,
            "_view_module": "@jupyter-widgets/base",
            "_view_module_version": "1.2.0",
            "_view_name": "StyleView",
            "bar_color": null,
            "description_width": ""
          }
        },
        "ddbe4a8a47234971b7176c2a36e22c88": {
          "model_module": "@jupyter-widgets/base",
          "model_module_version": "1.2.0",
          "model_name": "LayoutModel",
          "state": {
            "_model_module": "@jupyter-widgets/base",
            "_model_module_version": "1.2.0",
            "_model_name": "LayoutModel",
            "_view_count": null,
            "_view_module": "@jupyter-widgets/base",
            "_view_module_version": "1.2.0",
            "_view_name": "LayoutView",
            "align_content": null,
            "align_items": null,
            "align_self": null,
            "border": null,
            "bottom": null,
            "display": null,
            "flex": null,
            "flex_flow": null,
            "grid_area": null,
            "grid_auto_columns": null,
            "grid_auto_flow": null,
            "grid_auto_rows": null,
            "grid_column": null,
            "grid_gap": null,
            "grid_row": null,
            "grid_template_areas": null,
            "grid_template_columns": null,
            "grid_template_rows": null,
            "height": null,
            "justify_content": null,
            "justify_items": null,
            "left": null,
            "margin": null,
            "max_height": null,
            "max_width": null,
            "min_height": null,
            "min_width": null,
            "object_fit": null,
            "object_position": null,
            "order": null,
            "overflow": null,
            "overflow_x": null,
            "overflow_y": null,
            "padding": null,
            "right": null,
            "top": null,
            "visibility": null,
            "width": null
          }
        },
        "e135375641bb4ef48a2dc1bad69f44ad": {
          "model_module": "@jupyter-widgets/base",
          "model_module_version": "1.2.0",
          "model_name": "LayoutModel",
          "state": {
            "_model_module": "@jupyter-widgets/base",
            "_model_module_version": "1.2.0",
            "_model_name": "LayoutModel",
            "_view_count": null,
            "_view_module": "@jupyter-widgets/base",
            "_view_module_version": "1.2.0",
            "_view_name": "LayoutView",
            "align_content": null,
            "align_items": null,
            "align_self": null,
            "border": null,
            "bottom": null,
            "display": null,
            "flex": null,
            "flex_flow": null,
            "grid_area": null,
            "grid_auto_columns": null,
            "grid_auto_flow": null,
            "grid_auto_rows": null,
            "grid_column": null,
            "grid_gap": null,
            "grid_row": null,
            "grid_template_areas": null,
            "grid_template_columns": null,
            "grid_template_rows": null,
            "height": null,
            "justify_content": null,
            "justify_items": null,
            "left": null,
            "margin": null,
            "max_height": null,
            "max_width": null,
            "min_height": null,
            "min_width": null,
            "object_fit": null,
            "object_position": null,
            "order": null,
            "overflow": null,
            "overflow_x": null,
            "overflow_y": null,
            "padding": null,
            "right": null,
            "top": null,
            "visibility": null,
            "width": null
          }
        },
        "f323bcb5d3a64bb0b68f639326bd7dbf": {
          "model_module": "@jupyter-widgets/controls",
          "model_module_version": "1.5.0",
          "model_name": "VBoxModel",
          "state": {
            "_dom_classes": [],
            "_model_module": "@jupyter-widgets/controls",
            "_model_module_version": "1.5.0",
            "_model_name": "VBoxModel",
            "_view_count": null,
            "_view_module": "@jupyter-widgets/controls",
            "_view_module_version": "1.5.0",
            "_view_name": "VBoxView",
            "box_style": "",
            "children": [
              "IPY_MODEL_cc0c09baf2f843618935a78f3f92e3d9",
              "IPY_MODEL_6f2fff3f25fe413dbab7fbb5a272e215"
            ],
            "layout": "IPY_MODEL_7d8b9758dab6438784b5887bb25c37ab"
          }
        }
      }
    }
  },
  "nbformat": 4,
  "nbformat_minor": 0
}
