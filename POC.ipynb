{
  "cells": [
    {
      "cell_type": "markdown",
      "metadata": {
        "id": "LgMLLHeZVfIu"
      },
      "source": [
        "* Carga el video utilizando cv2.VideoCapture.\n",
        "* Extrae los frames del video uno por uno.\n",
        "* Preprocesa cada frame para que sean compatibles con el modelo de PyTorch (tamaño, normalización, etc.).\n",
        "* Usa un modelo preentrenado de PyTorch (como ResNet) para extraer características de cada frame.\n",
        "* Aplica un algoritmo de clustering (como K-Means) a las características extraídas.\n",
        "* Asigna cada frame al cluster correspondiente.\n",
        "* Visualiza los resultados mostrando los frames y su cluster correspondiente."
      ]
    },
    {
      "cell_type": "code",
      "execution_count": 1,
      "metadata": {
        "id": "iVwFyfnbAsl9"
      },
      "outputs": [
        {
          "name": "stdout",
          "output_type": "stream",
          "text": [
            "\n",
            "Experiment name: ResnetAglomerative video.mp4\n",
            "Precision - Mean: 0.77, std: 0.0295348935\n",
            "Recall - Mean: 0.66, std: 0.0369854593\n",
            "F1-Score - Mean: 0.66, std: 0.0325276812\n",
            "Accuracy - Mean: 0.66, std: 0.0369854593\n",
            "\n",
            "Experiment name: ResnetAglomerative video2.mp4\n",
            "Precision - Mean: 0.75, std: 0.0333574902\n",
            "Recall - Mean: 0.75, std: 0.0266345592\n",
            "F1-Score - Mean: 0.73, std: 0.0309757219\n",
            "Accuracy - Mean: 0.75, std: 0.0266345592\n"
          ]
        }
      ],
      "source": [
        "import torch\n",
        "from sklearn.cluster import AgglomerativeClustering\n",
        "import warnings\n",
        "from models.resnet18 import get_model as get_resnet18\n",
        "from preprocessing.transforms import BASELINE\n",
        "from clustering.metrics import eval_massive_cluster\n",
        "from clustering.model import clustering_function\n",
        "from experiment_framework import experiment\n",
        "\n",
        "warnings.filterwarnings('ignore')\n",
        "\n",
        "\n",
        "if torch.cuda.is_available():\n",
        " dev = \"cuda:0\"\n",
        "else:\n",
        " dev = \"cpu\"\n",
        "\n",
        "\n",
        "device = torch.device(dev)\n",
        "epochs = 10\n",
        "steps=1\n",
        "clustering_eval_function = lambda cluster_labels, tags: eval_massive_cluster(cluster_labels, tags, steps, epochs)\n",
        "\n",
        "\n",
        "EXPERIMENT_DEFINITIONS = [\n",
        "   {\n",
        "      \"name\": \"ResnetAglomerative video.mp4\",\n",
        "      \"model\": get_resnet18(device),\n",
        "      \"preprocessing\": BASELINE,\n",
        "      \"path\": \"video.mp4\",\n",
        "      \"grouper_function\": clustering_function(AgglomerativeClustering(None, distance_threshold=50)),\n",
        "      \"evaluation_function\": clustering_eval_function,\n",
        "      \"show\": True,\n",
        "      \"device\": device\n",
        "   },\n",
        "   {\n",
        "      \"name\": \"ResnetAglomerative video2.mp4\",\n",
        "      \"model\": get_resnet18(device),\n",
        "      \"preprocessing\": BASELINE,\n",
        "      \"path\": \"video2.mp4\",\n",
        "      \"grouper_function\": clustering_function(AgglomerativeClustering(None, distance_threshold=50)),\n",
        "      \"evaluation_function\": clustering_eval_function,\n",
        "      \"show\": True,\n",
        "      \"device\": device\n",
        "   },\n",
        "]\n",
        "\n",
        "for exp_definition in EXPERIMENT_DEFINITIONS:\n",
        "   experiment(**exp_definition)"
      ]
    }
  ],
  "metadata": {
    "accelerator": "GPU",
    "colab": {
      "machine_shape": "hm",
      "provenance": []
    },
    "kernelspec": {
      "display_name": "Python 3",
      "name": "python3"
    },
    "language_info": {
      "codemirror_mode": {
        "name": "ipython",
        "version": 3
      },
      "file_extension": ".py",
      "mimetype": "text/x-python",
      "name": "python",
      "nbconvert_exporter": "python",
      "pygments_lexer": "ipython3",
      "version": "3.10.13"
    }
  },
  "nbformat": 4,
  "nbformat_minor": 0
}
