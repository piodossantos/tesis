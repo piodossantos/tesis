{
  "cells": [
    {
      "cell_type": "code",
      "execution_count": 1,
      "metadata": {
        "id": "MiIlbxxCZztR"
      },
      "outputs": [],
      "source": [
        "# import zipfile\n",
        "\n",
        "# # Ruta del archivo ZIP\n",
        "# zip_file_path = '/content/tesis-main.zip'\n",
        "\n",
        "# # Ruta donde quieres extraer los archivos\n",
        "# extract_to_path = '/content/'\n",
        "\n",
        "# # Descomprimir el archivo\n",
        "# with zipfile.ZipFile(zip_file_path, 'r') as zip_ref:\n",
        "#     zip_ref.extractall(extract_to_path)\n",
        "\n",
        "# print(\"Archivos extraídos con éxito.\")"
      ]
    },
    {
      "cell_type": "markdown",
      "metadata": {
        "id": "LgMLLHeZVfIu"
      },
      "source": [
        "* Carga el video utilizando cv2.VideoCapture.\n",
        "* Extrae los frames del video uno por uno.\n",
        "* Preprocesa cada frame para que sean compatibles con el modelo de PyTorch (tamaño, normalización, etc.).\n",
        "* Usa un modelo preentrenado de PyTorch (como ResNet) para extraer características de cada frame.\n",
        "* Aplica un algoritmo de clustering (como K-Means) a las características extraídas.\n",
        "* Asigna cada frame al cluster correspondiente.\n",
        "* Visualiza los resultados mostrando los frames y su cluster correspondiente."
      ]
    },
    {
      "cell_type": "code",
      "execution_count": 2,
      "metadata": {
        "id": "xGNTfEQsdQr6"
      },
      "outputs": [],
      "source": [
        "import numpy as np\n",
        "\n",
        "class SimilarityClustering:\n",
        "    def __init__(self, threshold):\n",
        "        self.threshold = threshold\n",
        "        self.labels_ = None\n",
        "\n",
        "    def fit(self, features):\n",
        "        cosine_similarities = np.array([cosine_similarity(features[i], features[i + 1])\n",
        "                                        for i in range(len(features) - 1)])\n",
        "\n",
        "        cosine_similarities = np.insert(cosine_similarities, 0, cosine_similarity(features[0], features[0]))\n",
        "\n",
        "        self.labels_ = label_clusters(cosine_similarities, self.threshold)\n",
        "\n",
        "cosine_similarity = lambda vec1, vec2: np.dot(vec1, vec2) / (np.linalg.norm(vec1) * np.linalg.norm(vec2))\n",
        "\n",
        "def label_clusters(cosine_similarities, threshold):\n",
        "    clusters = np.zeros(len(cosine_similarities), dtype=int)\n",
        "    current_cluster = 0\n",
        "    for i in range(1, len(cosine_similarities)):\n",
        "        #print(i,cosine_similarities[i])\n",
        "\n",
        "        if cosine_similarities[i] < threshold:\n",
        "            current_cluster += 1\n",
        "        clusters[i] = current_cluster\n",
        "    #print(clusters)\n",
        "    return clusters\n",
        "\n",
        "def clustering_function(model):\n",
        "    def get_labels(features):\n",
        "        model.fit(features)\n",
        "        labels = model.labels_\n",
        "        return labels\n",
        "    return get_labels\n"
      ]
    },
    {
      "cell_type": "code",
      "execution_count": 3,
      "metadata": {
        "colab": {
          "base_uri": "https://localhost:8080/"
        },
        "id": "iVwFyfnbAsl9",
        "outputId": "620b0abe-feb0-4fe1-8960-74d16b90085e"
      },
      "outputs": [
        {
          "name": "stdout",
          "output_type": "stream",
          "text": [
            "\n",
            "Experiment name: ResnetAglomerative video.mp4\n",
            "Precision - Mean: 0.76, std: 0.0261266601\n",
            "Recall - Mean: 0.64, std: 0.0359963618\n",
            "F1-Score - Mean: 0.64, std: 0.0331624814\n",
            "Accuracy - Mean: 0.64, std: 0.0359963618\n",
            "\n",
            "Experiment name: ResnetAglomerative video2.mp4\n",
            "Precision - Mean: 0.72, std: 0.0724947294\n",
            "Recall - Mean: 0.70, std: 0.0688065517\n",
            "F1-Score - Mean: 0.69, std: 0.0717813585\n",
            "Accuracy - Mean: 0.70, std: 0.0688065517\n",
            "\n",
            "Experiment name: ResnetAglomerative AVG\n",
            "Precision - Mean: 0.74, std: 0.0218742722\n",
            "Recall - Mean: 0.67, std: 0.0297273527\n",
            "F1-Score - Mean: 0.67, std: 0.0216481270\n",
            "Accuracy - Mean: 0.67, std: 0.0297273527\n",
            "\n",
            "Experiment name: SimilarityClustering video.mp4\n",
            "Precision - Mean: 0.78, std: 0.0746636356\n",
            "Recall - Mean: 0.39, std: 0.0480427688\n",
            "F1-Score - Mean: 0.47, std: 0.0462153565\n",
            "Accuracy - Mean: 0.39, std: 0.0480427688\n",
            "\n",
            "Experiment name: SimilarityClustering video2.mp4\n",
            "Precision - Mean: 0.85, std: 0.0226513940\n",
            "Recall - Mean: 0.45, std: 0.0219743143\n",
            "F1-Score - Mean: 0.55, std: 0.0224295201\n",
            "Accuracy - Mean: 0.45, std: 0.0219743143\n",
            "\n",
            "Experiment name: SimilarityClustering AVG\n",
            "Precision - Mean: 0.82, std: 0.0347391898\n",
            "Recall - Mean: 0.42, std: 0.0267810026\n",
            "F1-Score - Mean: 0.51, std: 0.0394908453\n",
            "Accuracy - Mean: 0.42, std: 0.0267810026\n"
          ]
        }
      ],
      "source": [
        "import torch\n",
        "from sklearn.cluster import AgglomerativeClustering\n",
        "import warnings\n",
        "from models.resnet18 import get_model as get_resnet18\n",
        "from preprocessing.transforms import BASELINE\n",
        "from clustering.metrics import eval_massive_cluster\n",
        "from clustering.model import clustering_function\n",
        "from experiment_framework import experiment\n",
        "from validation import VALIDATION_DATASET\n",
        "from utils import load_dataset\n",
        "warnings.filterwarnings('ignore')\n",
        "\n",
        "\n",
        "if torch.cuda.is_available():\n",
        " dev = \"cuda:0\"\n",
        "else:\n",
        " dev = \"cpu\"\n",
        "\n",
        "\n",
        "device = torch.device(dev)\n",
        "epochs = 10\n",
        "steps=1\n",
        "clustering_eval_function = lambda cluster_labels, tags: eval_massive_cluster(cluster_labels, tags, steps, epochs)\n",
        "\n",
        "dataset = load_dataset(VALIDATION_DATASET.keys())\n",
        "\n",
        "EXPERIMENT_DEFINITIONS = [\n",
        "   {\n",
        "      \"name\": \"ResnetAglomerative\",\n",
        "      \"model\": get_resnet18(device),\n",
        "      \"preprocessing\": BASELINE,\n",
        "      \"dataset\": dataset,\n",
        "      \"grouper_function\": clustering_function(AgglomerativeClustering(None, distance_threshold=50)),\n",
        "      \"evaluation_function\": clustering_eval_function,\n",
        "      \"show\": True,\n",
        "      \"device\": device\n",
        "   },\n",
        "      {\n",
        "      \"name\": \"SimilarityClustering\",\n",
        "      \"model\": get_resnet18(device),\n",
        "      \"preprocessing\": BASELINE,\n",
        "      \"dataset\": dataset,\n",
        "      \"grouper_function\": clustering_function(SimilarityClustering(threshold=0.999)),\n",
        "      \"evaluation_function\": clustering_eval_function,\n",
        "      \"show\": True,\n",
        "      \"device\": device\n",
        "   },\n",
        "]\n",
        "for exp_definition in EXPERIMENT_DEFINITIONS:\n",
        "   experiment(**exp_definition)"
      ]
    }
  ],
  "metadata": {
    "accelerator": "GPU",
    "colab": {
      "machine_shape": "hm",
      "provenance": []
    },
    "kernelspec": {
      "display_name": "Python 3",
      "name": "python3"
    },
    "language_info": {
      "codemirror_mode": {
        "name": "ipython",
        "version": 3
      },
      "file_extension": ".py",
      "mimetype": "text/x-python",
      "name": "python",
      "nbconvert_exporter": "python",
      "pygments_lexer": "ipython3",
      "version": "3.10.13"
    }
  },
  "nbformat": 4,
  "nbformat_minor": 0
}
