{
  "cells": [
    {
      "cell_type": "code",
      "execution_count": 1,
      "metadata": {
        "colab": {
          "base_uri": "https://localhost:8080/"
        },
        "id": "MiIlbxxCZztR",
        "outputId": "3ca561fc-eb6f-49c7-db29-94fecb596dbc"
      },
      "outputs": [],
      "source": [
        "\n",
        "# import zipfile\n",
        "\n",
        "# # Ruta del archivo ZIP\n",
        "# zip_file_path = '/content/tesis-main.zip'\n",
        "\n",
        "# # Ruta donde quieres extraer los archivos\n",
        "# extract_to_path = '/content/'\n",
        "\n",
        "# # Descomprimir el archivo\n",
        "# with zipfile.ZipFile(zip_file_path, 'r') as zip_ref:\n",
        "#     zip_ref.extractall(extract_to_path)\n",
        "\n",
        "# print(\"Archivos extraídos con éxito.\")"
      ]
    },
    {
      "cell_type": "code",
      "execution_count": 2,
      "metadata": {
        "id": "lm2ziiykMZF1"
      },
      "outputs": [
        {
          "data": {
            "text/plain": [
              "True"
            ]
          },
          "execution_count": 2,
          "metadata": {},
          "output_type": "execute_result"
        }
      ],
      "source": [
        "# import sys\n",
        "# sys.path.append('/content/tesis-main/')\n",
        "\n",
        "from dotenv import load_dotenv\n",
        "\n",
        "load_dotenv()"
      ]
    },
    {
      "cell_type": "code",
      "execution_count": 3,
      "metadata": {
        "colab": {
          "base_uri": "https://localhost:8080/",
          "height": 567
        },
        "id": "TR-nZRfNNLUa",
        "outputId": "9539c464-eae7-4ba1-cf17-6d7116f9edce"
      },
      "outputs": [],
      "source": [
        "\n",
        "# import drive as drive_downloader\n",
        "# drive_downloader.download_files('14_UUqgoWDPPNwXvdFjDoJomHTu5l85l6')"
      ]
    },
    {
      "cell_type": "markdown",
      "metadata": {
        "id": "LgMLLHeZVfIu"
      },
      "source": [
        "* Carga el video utilizando cv2.VideoCapture.\n",
        "* Extrae los frames del video uno por uno.\n",
        "* Preprocesa cada frame para que sean compatibles con el modelo de PyTorch (tamaño, normalización, etc.).\n",
        "* Usa un modelo preentrenado de PyTorch (como ResNet) para extraer características de cada frame.\n",
        "* Aplica un algoritmo de clustering (como K-Means) a las características extraídas.\n",
        "* Asigna cada frame al cluster correspondiente.\n",
        "* Visualiza los resultados mostrando los frames y su cluster correspondiente."
      ]
    },
    {
      "cell_type": "code",
      "execution_count": 8,
      "metadata": {
        "id": "A3AVlVaAdpDc"
      },
      "outputs": [
        {
          "name": "stderr",
          "output_type": "stream",
          "text": [
            "Failed to detect the name of this notebook, you can set it manually with the WANDB_NOTEBOOK_NAME environment variable to enable code saving.\n",
            "\u001b[34m\u001b[1mwandb\u001b[0m: Currently logged in as: \u001b[33mpiodanilod\u001b[0m (\u001b[33mhortensias\u001b[0m). Use \u001b[1m`wandb login --relogin`\u001b[0m to force relogin\n"
          ]
        },
        {
          "data": {
            "text/plain": [
              "True"
            ]
          },
          "execution_count": 8,
          "metadata": {},
          "output_type": "execute_result"
        }
      ],
      "source": [
        "import torch\n",
        "from sklearn.cluster import AgglomerativeClustering\n",
        "import warnings\n",
        "from models.resnet18 import get_model as get_resnet18\n",
        "from preprocessing.transforms import BASELINE\n",
        "from clustering.metrics import eval_massive_cluster\n",
        "from clustering.model import clustering_function\n",
        "from experiment_framework import experiment\n",
        "from validation import VALIDATION_DATASET\n",
        "from utils import load_dataset\n",
        "warnings.filterwarnings('ignore')\n",
        "import wandb\n",
        "\n",
        "torch.manual_seed(47)\n",
        "import random\n",
        "random.seed(47)\n",
        "import numpy as np\n",
        "np.random.seed(47)\n",
        "\n",
        "if torch.cuda.is_available():\n",
        " dev = \"cuda:0\"\n",
        "else:\n",
        " dev = \"cpu\"\n",
        "\n",
        "\n",
        "device = torch.device(dev)\n",
        "epochs = 10\n",
        "steps=1\n",
        "clustering_eval_function = lambda cluster_labels, tags: eval_massive_cluster(cluster_labels, tags, steps, epochs)\n",
        "\n",
        "dataset_loader = load_dataset(VALIDATION_DATASET.keys())\n",
        "\n",
        "wandb.login()"
      ]
    },
    {
      "cell_type": "code",
      "execution_count": 9,
      "metadata": {
        "colab": {
          "base_uri": "https://localhost:8080/",
          "height": 711,
          "referenced_widgets": [
            "cec6d7d4cb8845958487a07a5e1e2eb3",
            "559ff52f270c44748fbbeb068dae86e9",
            "4fe372123b7e499b8e4e9d62a54eac1e",
            "ddbe4a8a47234971b7176c2a36e22c88",
            "bb3f5d6b71184d71b976c9efd8b902ad",
            "0f649f0dcc244a289880dcef0efba419",
            "2c81c11c82dd47f990b3bbea168e09b8",
            "a122987043c84413959f280bf4d6701f",
            "f323bcb5d3a64bb0b68f639326bd7dbf",
            "cc0c09baf2f843618935a78f3f92e3d9",
            "6f2fff3f25fe413dbab7fbb5a272e215",
            "7d8b9758dab6438784b5887bb25c37ab",
            "e135375641bb4ef48a2dc1bad69f44ad",
            "47bede97ac7d473da74293e624cf66df",
            "5b54a1bdeb824e108b26a6c760b8b425",
            "d1e250d0d1274af992db08e261f2b446"
          ]
        },
        "id": "iVwFyfnbAsl9",
        "outputId": "bc275d4e-ce22-4707-cb97-468307c64139"
      },
      "outputs": [
        {
          "name": "stderr",
          "output_type": "stream",
          "text": [
            "Downloading: \"https://download.pytorch.org/models/resnet18-f37072fd.pth\" to /Users/pio/.cache/torch/hub/checkpoints/resnet18-f37072fd.pth\n",
            "100%|██████████| 44.7M/44.7M [00:00<00:00, 47.0MB/s]\n"
          ]
        },
        {
          "data": {
            "text/html": [
              "wandb version 0.16.2 is available!  To upgrade, please run:\n",
              " $ pip install wandb --upgrade"
            ],
            "text/plain": [
              "<IPython.core.display.HTML object>"
            ]
          },
          "metadata": {},
          "output_type": "display_data"
        },
        {
          "data": {
            "text/html": [
              "Tracking run with wandb version 0.16.1"
            ],
            "text/plain": [
              "<IPython.core.display.HTML object>"
            ]
          },
          "metadata": {},
          "output_type": "display_data"
        },
        {
          "data": {
            "text/html": [
              "Run data is saved locally in <code>/Users/pio/postgrado/tesis/tesis/wandb/run-20240120_184705-p2pjrgo4</code>"
            ],
            "text/plain": [
              "<IPython.core.display.HTML object>"
            ]
          },
          "metadata": {},
          "output_type": "display_data"
        },
        {
          "data": {
            "text/html": [
              "Syncing run <strong><a href='https://wandb.ai/hortensias/ort-tesis/runs/p2pjrgo4' target=\"_blank\">colorful-shadow-43</a></strong> to <a href='https://wandb.ai/hortensias/ort-tesis' target=\"_blank\">Weights & Biases</a> (<a href='https://wandb.me/run' target=\"_blank\">docs</a>)<br/>"
            ],
            "text/plain": [
              "<IPython.core.display.HTML object>"
            ]
          },
          "metadata": {},
          "output_type": "display_data"
        },
        {
          "data": {
            "text/html": [
              " View project at <a href='https://wandb.ai/hortensias/ort-tesis' target=\"_blank\">https://wandb.ai/hortensias/ort-tesis</a>"
            ],
            "text/plain": [
              "<IPython.core.display.HTML object>"
            ]
          },
          "metadata": {},
          "output_type": "display_data"
        },
        {
          "data": {
            "text/html": [
              " View run at <a href='https://wandb.ai/hortensias/ort-tesis/runs/p2pjrgo4' target=\"_blank\">https://wandb.ai/hortensias/ort-tesis/runs/p2pjrgo4</a>"
            ],
            "text/plain": [
              "<IPython.core.display.HTML object>"
            ]
          },
          "metadata": {},
          "output_type": "display_data"
        },
        {
          "name": "stdout",
          "output_type": "stream",
          "text": [
            "\n",
            "Experiment name: ResnetAglomerative Airbnb.mp4\n",
            "Precision - Mean: 0.61, std: 0.0426408229\n",
            "Recall - Mean: 0.50, std: 0.0542994165\n",
            "F1-Score - Mean: 0.51, std: 0.0533845729\n",
            "Accuracy - Mean: 0.50, std: 0.0542994165\n",
            "\n",
            "Experiment name: ResnetAglomerative AVG\n",
            "Precision - Mean: 0.61, std: 0.0000000000\n",
            "Recall - Mean: 0.50, std: 0.0000000000\n",
            "F1-Score - Mean: 0.51, std: 0.0000000000\n",
            "Accuracy - Mean: 0.50, std: 0.0000000000\n",
            "{'precision': MetricsResults(mean=0.6109762163769819, std=0.0), 'recall': MetricsResults(mean=0.5017724413950829, std=0.0), 'f1': MetricsResults(mean=0.5101993366100538, std=0.0), 'accuracy': MetricsResults(mean=0.5017724413950829, std=0.0)}\n"
          ]
        },
        {
          "name": "stderr",
          "output_type": "stream",
          "text": [
            "wandb: WARNING Source type is set to 'repo' but some required information is missing from the environment. A job will not be created from this run. See https://docs.wandb.ai/guides/launch/create-job\n"
          ]
        },
        {
          "data": {
            "text/html": [
              "<style>\n",
              "    table.wandb td:nth-child(1) { padding: 0 10px; text-align: left ; width: auto;} td:nth-child(2) {text-align: left ; width: 100%}\n",
              "    .wandb-row { display: flex; flex-direction: row; flex-wrap: wrap; justify-content: flex-start; width: 100% }\n",
              "    .wandb-col { display: flex; flex-direction: column; flex-basis: 100%; flex: 1; padding: 10px; }\n",
              "    </style>\n",
              "<div class=\"wandb-row\"><div class=\"wandb-col\"><h3>Run history:</h3><br/><table class=\"wandb\"><tr><td>Accuracy</td><td>▁</td></tr><tr><td>Accuracy_STD</td><td>▁</td></tr><tr><td>F1</td><td>▁</td></tr><tr><td>F1_STD</td><td>▁</td></tr><tr><td>Precision</td><td>▁</td></tr><tr><td>Precision_STD</td><td>▁</td></tr><tr><td>Recall</td><td>▁</td></tr><tr><td>Recall_STD</td><td>▁</td></tr></table><br/></div><div class=\"wandb-col\"><h3>Run summary:</h3><br/><table class=\"wandb\"><tr><td>Accuracy</td><td>0.50177</td></tr><tr><td>Accuracy_STD</td><td>0.0</td></tr><tr><td>F1</td><td>0.5102</td></tr><tr><td>F1_STD</td><td>0.0</td></tr><tr><td>Precision</td><td>0.61098</td></tr><tr><td>Precision_STD</td><td>0.0</td></tr><tr><td>Recall</td><td>0.50177</td></tr><tr><td>Recall_STD</td><td>0.0</td></tr></table><br/></div></div>"
            ],
            "text/plain": [
              "<IPython.core.display.HTML object>"
            ]
          },
          "metadata": {},
          "output_type": "display_data"
        },
        {
          "data": {
            "text/html": [
              " View run <strong style=\"color:#cdcd00\">colorful-shadow-43</strong> at: <a href='https://wandb.ai/hortensias/ort-tesis/runs/p2pjrgo4' target=\"_blank\">https://wandb.ai/hortensias/ort-tesis/runs/p2pjrgo4</a><br/>Synced 5 W&B file(s), 0 media file(s), 0 artifact file(s) and 0 other file(s)"
            ],
            "text/plain": [
              "<IPython.core.display.HTML object>"
            ]
          },
          "metadata": {},
          "output_type": "display_data"
        },
        {
          "data": {
            "text/html": [
              "Find logs at: <code>./wandb/run-20240120_184705-p2pjrgo4/logs</code>"
            ],
            "text/plain": [
              "<IPython.core.display.HTML object>"
            ]
          },
          "metadata": {},
          "output_type": "display_data"
        },
        {
          "data": {
            "text/html": [
              "wandb version 0.16.2 is available!  To upgrade, please run:\n",
              " $ pip install wandb --upgrade"
            ],
            "text/plain": [
              "<IPython.core.display.HTML object>"
            ]
          },
          "metadata": {},
          "output_type": "display_data"
        },
        {
          "data": {
            "text/html": [
              "Tracking run with wandb version 0.16.1"
            ],
            "text/plain": [
              "<IPython.core.display.HTML object>"
            ]
          },
          "metadata": {},
          "output_type": "display_data"
        },
        {
          "data": {
            "text/html": [
              "Run data is saved locally in <code>/Users/pio/postgrado/tesis/tesis/wandb/run-20240120_184743-bf4e9vct</code>"
            ],
            "text/plain": [
              "<IPython.core.display.HTML object>"
            ]
          },
          "metadata": {},
          "output_type": "display_data"
        },
        {
          "data": {
            "text/html": [
              "Syncing run <strong><a href='https://wandb.ai/hortensias/ort-tesis/runs/bf4e9vct' target=\"_blank\">restful-oath-44</a></strong> to <a href='https://wandb.ai/hortensias/ort-tesis' target=\"_blank\">Weights & Biases</a> (<a href='https://wandb.me/run' target=\"_blank\">docs</a>)<br/>"
            ],
            "text/plain": [
              "<IPython.core.display.HTML object>"
            ]
          },
          "metadata": {},
          "output_type": "display_data"
        },
        {
          "data": {
            "text/html": [
              " View project at <a href='https://wandb.ai/hortensias/ort-tesis' target=\"_blank\">https://wandb.ai/hortensias/ort-tesis</a>"
            ],
            "text/plain": [
              "<IPython.core.display.HTML object>"
            ]
          },
          "metadata": {},
          "output_type": "display_data"
        },
        {
          "data": {
            "text/html": [
              " View run at <a href='https://wandb.ai/hortensias/ort-tesis/runs/bf4e9vct' target=\"_blank\">https://wandb.ai/hortensias/ort-tesis/runs/bf4e9vct</a>"
            ],
            "text/plain": [
              "<IPython.core.display.HTML object>"
            ]
          },
          "metadata": {},
          "output_type": "display_data"
        },
        {
          "name": "stdout",
          "output_type": "stream",
          "text": [
            "\n",
            "Experiment name: SimilarityClustering Airbnb.mp4\n",
            "Precision - Mean: 0.94, std: 0.0000000000\n",
            "Recall - Mean: 0.49, std: 0.0000000000\n",
            "F1-Score - Mean: 0.61, std: 0.0000000000\n",
            "Accuracy - Mean: 0.49, std: 0.0000000000\n",
            "\n",
            "Experiment name: SimilarityClustering AVG\n",
            "Precision - Mean: 0.94, std: 0.0000000000\n",
            "Recall - Mean: 0.49, std: 0.0000000000\n",
            "F1-Score - Mean: 0.61, std: 0.0000000000\n",
            "Accuracy - Mean: 0.49, std: 0.0000000000\n",
            "{'precision': MetricsResults(mean=0.9399112694007534, std=0.0), 'recall': MetricsResults(mean=0.4905660377358491, std=0.0), 'f1': MetricsResults(mean=0.6145718925642055, std=0.0), 'accuracy': MetricsResults(mean=0.4905660377358491, std=0.0)}\n"
          ]
        },
        {
          "name": "stderr",
          "output_type": "stream",
          "text": [
            "wandb: WARNING Source type is set to 'repo' but some required information is missing from the environment. A job will not be created from this run. See https://docs.wandb.ai/guides/launch/create-job\n"
          ]
        },
        {
          "data": {
            "text/html": [
              "<style>\n",
              "    table.wandb td:nth-child(1) { padding: 0 10px; text-align: left ; width: auto;} td:nth-child(2) {text-align: left ; width: 100%}\n",
              "    .wandb-row { display: flex; flex-direction: row; flex-wrap: wrap; justify-content: flex-start; width: 100% }\n",
              "    .wandb-col { display: flex; flex-direction: column; flex-basis: 100%; flex: 1; padding: 10px; }\n",
              "    </style>\n",
              "<div class=\"wandb-row\"><div class=\"wandb-col\"><h3>Run history:</h3><br/><table class=\"wandb\"><tr><td>Accuracy</td><td>▁</td></tr><tr><td>Accuracy_STD</td><td>▁</td></tr><tr><td>F1</td><td>▁</td></tr><tr><td>F1_STD</td><td>▁</td></tr><tr><td>Precision</td><td>▁</td></tr><tr><td>Precision_STD</td><td>▁</td></tr><tr><td>Recall</td><td>▁</td></tr><tr><td>Recall_STD</td><td>▁</td></tr></table><br/></div><div class=\"wandb-col\"><h3>Run summary:</h3><br/><table class=\"wandb\"><tr><td>Accuracy</td><td>0.49057</td></tr><tr><td>Accuracy_STD</td><td>0.0</td></tr><tr><td>F1</td><td>0.61457</td></tr><tr><td>F1_STD</td><td>0.0</td></tr><tr><td>Precision</td><td>0.93991</td></tr><tr><td>Precision_STD</td><td>0.0</td></tr><tr><td>Recall</td><td>0.49057</td></tr><tr><td>Recall_STD</td><td>0.0</td></tr></table><br/></div></div>"
            ],
            "text/plain": [
              "<IPython.core.display.HTML object>"
            ]
          },
          "metadata": {},
          "output_type": "display_data"
        },
        {
          "data": {
            "text/html": [
              " View run <strong style=\"color:#cdcd00\">restful-oath-44</strong> at: <a href='https://wandb.ai/hortensias/ort-tesis/runs/bf4e9vct' target=\"_blank\">https://wandb.ai/hortensias/ort-tesis/runs/bf4e9vct</a><br/>Synced 5 W&B file(s), 0 media file(s), 0 artifact file(s) and 0 other file(s)"
            ],
            "text/plain": [
              "<IPython.core.display.HTML object>"
            ]
          },
          "metadata": {},
          "output_type": "display_data"
        },
        {
          "data": {
            "text/html": [
              "Find logs at: <code>./wandb/run-20240120_184743-bf4e9vct/logs</code>"
            ],
            "text/plain": [
              "<IPython.core.display.HTML object>"
            ]
          },
          "metadata": {},
          "output_type": "display_data"
        }
      ],
      "source": [
        "from properties import MODELS_ENUM, PREPROCESSORS, ALGORITHM, GROUPER_FUNCTIONS\n",
        "\n",
        "DEFAULT_PARAMS = {\n",
        "      \"dataset\": dataset_loader,\n",
        "      \"evaluation_function\": clustering_eval_function,\n",
        "      \"show\": True,\n",
        "      \"device\": device\n",
        "   }\n",
        "\n",
        "\n",
        "EXPERIMENT_DEFINITIONS= [\n",
        "    {\n",
        "        'name': 'ResnetAglomerative',\n",
        "        'model': \"RESNET18\",\n",
        "        'algorithm': \"AGGLOMERATIVE\",\n",
        "        'params': {\"n_clusters\": None, \"distance_threshold\": 50},\n",
        "        'grouper_function': \"CLUSTERING_FUNCTION\",\n",
        "        'preprocessing': \"BASELINE\",\n",
        "    },\n",
        "    {\n",
        "        'name': 'SimilarityClustering',\n",
        "        'model': \"RESNET18\",\n",
        "        'algorithm': \"SIMILARITY\",\n",
        "        'params': {\"threshold\": 0.999},\n",
        "        'grouper_function': \"CLUSTERING_FUNCTION\",\n",
        "        'preprocessing': \"BASELINE\",\n",
        "    }\n",
        "]\n",
        "\n",
        "for exp_definition in EXPERIMENT_DEFINITIONS:\n",
        "  params = DEFAULT_PARAMS.copy()\n",
        "  params[\"model\"] = MODELS_ENUM[exp_definition[\"model\"]](device)\n",
        "  params[\"preprocessing\"] = PREPROCESSORS[exp_definition[\"preprocessing\"]]\n",
        "  algorithm = ALGORITHM[exp_definition[\"algorithm\"]](**exp_definition[\"params\"])\n",
        "  grouper_function = GROUPER_FUNCTIONS[exp_definition[\"grouper_function\"]](algorithm)\n",
        "  params[\"grouper_function\"] = grouper_function\n",
        "  params[\"name\"] = exp_definition[\"name\"]\n",
        "  params[\"dataset\"] = dataset_loader()\n",
        "\n",
        "  run = wandb.init(project=\"ort-tesis\",group=exp_definition['name'],config=exp_definition, entity=\"hortensias\")\n",
        "  result = experiment(**params)\n",
        "  print(result._asdict())\n",
        "  run.log({\n",
        "    \"Precision\": result.precision.mean,\n",
        "    \"Accuracy\": result.accuracy.mean,\n",
        "    \"F1\": result.f1.mean,\n",
        "    \"Recall\": result.recall.mean,\n",
        "    \"Precision_STD\": result.precision.std,\n",
        "    \"Accuracy_STD\": result.accuracy.std,\n",
        "    \"F1_STD\": result.f1.std,\n",
        "    \"Recall_STD\": result.recall.std,\n",
        "  })\n",
        "  run.finish()"
      ]
    },
    {
      "cell_type": "code",
      "execution_count": 12,
      "metadata": {},
      "outputs": [
        {
          "ename": "AttributeError",
          "evalue": "'YOLO' object has no attribute 'summary'",
          "output_type": "error",
          "traceback": [
            "\u001b[0;31m---------------------------------------------------------------------------\u001b[0m",
            "\u001b[0;31mAttributeError\u001b[0m                            Traceback (most recent call last)",
            "\u001b[1;32m/Users/pio/postgrado/tesis/tesis/POC.ipynb Celda 7\u001b[0m line \u001b[0;36m3\n\u001b[1;32m      <a href='vscode-notebook-cell:/Users/pio/postgrado/tesis/tesis/POC.ipynb#X13sZmlsZQ%3D%3D?line=0'>1</a>\u001b[0m \u001b[39mfrom\u001b[39;00m \u001b[39multralytics\u001b[39;00m \u001b[39mimport\u001b[39;00m YOLO\n\u001b[1;32m      <a href='vscode-notebook-cell:/Users/pio/postgrado/tesis/tesis/POC.ipynb#X13sZmlsZQ%3D%3D?line=1'>2</a>\u001b[0m model \u001b[39m=\u001b[39m YOLO(\u001b[39m'\u001b[39m\u001b[39myolov8n.pt\u001b[39m\u001b[39m'\u001b[39m)\n\u001b[0;32m----> <a href='vscode-notebook-cell:/Users/pio/postgrado/tesis/tesis/POC.ipynb#X13sZmlsZQ%3D%3D?line=2'>3</a>\u001b[0m model\u001b[39m.\u001b[39;49msummary()\n",
            "File \u001b[0;32m~/postgrado/tesis/tesis/venv/lib/python3.11/site-packages/torch/nn/modules/module.py:1695\u001b[0m, in \u001b[0;36mModule.__getattr__\u001b[0;34m(self, name)\u001b[0m\n\u001b[1;32m   1693\u001b[0m     \u001b[39mif\u001b[39;00m name \u001b[39min\u001b[39;00m modules:\n\u001b[1;32m   1694\u001b[0m         \u001b[39mreturn\u001b[39;00m modules[name]\n\u001b[0;32m-> 1695\u001b[0m \u001b[39mraise\u001b[39;00m \u001b[39mAttributeError\u001b[39;00m(\u001b[39mf\u001b[39m\u001b[39m\"\u001b[39m\u001b[39m'\u001b[39m\u001b[39m{\u001b[39;00m\u001b[39mtype\u001b[39m(\u001b[39mself\u001b[39m)\u001b[39m.\u001b[39m\u001b[39m__name__\u001b[39m\u001b[39m}\u001b[39;00m\u001b[39m'\u001b[39m\u001b[39m object has no attribute \u001b[39m\u001b[39m'\u001b[39m\u001b[39m{\u001b[39;00mname\u001b[39m}\u001b[39;00m\u001b[39m'\u001b[39m\u001b[39m\"\u001b[39m)\n",
            "\u001b[0;31mAttributeError\u001b[0m: 'YOLO' object has no attribute 'summary'"
          ]
        }
      ],
      "source": [
        "from ultralytics import YOLO\n",
        "model = YOLO('yolov8n.pt')\n"
      ]
    },
    {
      "cell_type": "code",
      "execution_count": 13,
      "metadata": {},
      "outputs": [
        {
          "name": "stdout",
          "output_type": "stream",
          "text": [
            "Ultralytics YOLOv8.1.3 🚀 Python-3.11.3 torch-2.1.0 CPU (Apple M1)\n",
            "YOLOv8n summary (fused): 168 layers, 3151904 parameters, 0 gradients, 8.7 GFLOPs\n",
            "\n",
            "Dataset 'coco.yaml' images not found ⚠️, missing path '/Users/pio/postgrado/tesis/datasets/coco/val2017.txt'\n",
            "Downloading https://github.com/ultralytics/yolov5/releases/download/v1.0/coco2017labels-segments.zip to '/Users/pio/postgrado/tesis/datasets/coco2017labels-segments.zip'...\n"
          ]
        },
        {
          "name": "stderr",
          "output_type": "stream",
          "text": [
            "100%|██████████| 169M/169M [00:06<00:00, 28.0MB/s] \n",
            "Unzipping /Users/pio/postgrado/tesis/datasets/coco2017labels-segments.zip to /Users/pio/postgrado/tesis/datasets/coco...: 100%|██████████| 122232/122232 [00:10<00:00, 11401.04file/s]\n"
          ]
        },
        {
          "name": "stdout",
          "output_type": "stream",
          "text": [
            "Downloading http://images.cocodataset.org/zips/train2017.zip to '/Users/pio/postgrado/tesis/datasets/coco/images/train2017.zip'...\n",
            "Downloading http://images.cocodataset.org/zips/val2017.zip to '/Users/pio/postgrado/tesis/datasets/coco/images/val2017.zip'...\n",
            "Downloading http://images.cocodataset.org/zips/test2017.zip to '/Users/pio/postgrado/tesis/datasets/coco/images/test2017.zip'...\n"
          ]
        },
        {
          "ename": "KeyboardInterrupt",
          "evalue": "",
          "output_type": "error",
          "traceback": [
            "\u001b[0;31m---------------------------------------------------------------------------\u001b[0m",
            "\u001b[0;31mKeyboardInterrupt\u001b[0m                         Traceback (most recent call last)",
            "\u001b[1;32m/Users/pio/postgrado/tesis/tesis/POC.ipynb Celda 8\u001b[0m line \u001b[0;36m1\n\u001b[0;32m----> <a href='vscode-notebook-cell:/Users/pio/postgrado/tesis/tesis/POC.ipynb#X14sZmlsZQ%3D%3D?line=0'>1</a>\u001b[0m result \u001b[39m=\u001b[39m model\u001b[39m.\u001b[39;49mval()\n\u001b[1;32m      <a href='vscode-notebook-cell:/Users/pio/postgrado/tesis/tesis/POC.ipynb#X14sZmlsZQ%3D%3D?line=1'>2</a>\u001b[0m result\n",
            "File \u001b[0;32m~/postgrado/tesis/tesis/venv/lib/python3.11/site-packages/ultralytics/engine/model.py:310\u001b[0m, in \u001b[0;36mModel.val\u001b[0;34m(self, validator, **kwargs)\u001b[0m\n\u001b[1;32m    307\u001b[0m args \u001b[39m=\u001b[39m {\u001b[39m*\u001b[39m\u001b[39m*\u001b[39m\u001b[39mself\u001b[39m\u001b[39m.\u001b[39moverrides, \u001b[39m*\u001b[39m\u001b[39m*\u001b[39mcustom, \u001b[39m*\u001b[39m\u001b[39m*\u001b[39mkwargs, \u001b[39m\"\u001b[39m\u001b[39mmode\u001b[39m\u001b[39m\"\u001b[39m: \u001b[39m\"\u001b[39m\u001b[39mval\u001b[39m\u001b[39m\"\u001b[39m}  \u001b[39m# highest priority args on the right\u001b[39;00m\n\u001b[1;32m    309\u001b[0m validator \u001b[39m=\u001b[39m (validator \u001b[39mor\u001b[39;00m \u001b[39mself\u001b[39m\u001b[39m.\u001b[39m_smart_load(\u001b[39m\"\u001b[39m\u001b[39mvalidator\u001b[39m\u001b[39m\"\u001b[39m))(args\u001b[39m=\u001b[39margs, _callbacks\u001b[39m=\u001b[39m\u001b[39mself\u001b[39m\u001b[39m.\u001b[39mcallbacks)\n\u001b[0;32m--> 310\u001b[0m validator(model\u001b[39m=\u001b[39;49m\u001b[39mself\u001b[39;49m\u001b[39m.\u001b[39;49mmodel)\n\u001b[1;32m    311\u001b[0m \u001b[39mself\u001b[39m\u001b[39m.\u001b[39mmetrics \u001b[39m=\u001b[39m validator\u001b[39m.\u001b[39mmetrics\n\u001b[1;32m    312\u001b[0m \u001b[39mreturn\u001b[39;00m validator\u001b[39m.\u001b[39mmetrics\n",
            "File \u001b[0;32m~/postgrado/tesis/tesis/venv/lib/python3.11/site-packages/torch/utils/_contextlib.py:115\u001b[0m, in \u001b[0;36mcontext_decorator.<locals>.decorate_context\u001b[0;34m(*args, **kwargs)\u001b[0m\n\u001b[1;32m    112\u001b[0m \u001b[39m@functools\u001b[39m\u001b[39m.\u001b[39mwraps(func)\n\u001b[1;32m    113\u001b[0m \u001b[39mdef\u001b[39;00m \u001b[39mdecorate_context\u001b[39m(\u001b[39m*\u001b[39margs, \u001b[39m*\u001b[39m\u001b[39m*\u001b[39mkwargs):\n\u001b[1;32m    114\u001b[0m     \u001b[39mwith\u001b[39;00m ctx_factory():\n\u001b[0;32m--> 115\u001b[0m         \u001b[39mreturn\u001b[39;00m func(\u001b[39m*\u001b[39;49margs, \u001b[39m*\u001b[39;49m\u001b[39m*\u001b[39;49mkwargs)\n",
            "File \u001b[0;32m~/postgrado/tesis/tesis/venv/lib/python3.11/site-packages/ultralytics/engine/validator.py:141\u001b[0m, in \u001b[0;36mBaseValidator.__call__\u001b[0;34m(self, trainer, model)\u001b[0m\n\u001b[1;32m    138\u001b[0m     LOGGER\u001b[39m.\u001b[39minfo(\u001b[39mf\u001b[39m\u001b[39m\"\u001b[39m\u001b[39mForcing batch=1 square inference (1,3,\u001b[39m\u001b[39m{\u001b[39;00mimgsz\u001b[39m}\u001b[39;00m\u001b[39m,\u001b[39m\u001b[39m{\u001b[39;00mimgsz\u001b[39m}\u001b[39;00m\u001b[39m) for non-PyTorch models\u001b[39m\u001b[39m\"\u001b[39m)\n\u001b[1;32m    140\u001b[0m \u001b[39mif\u001b[39;00m \u001b[39mstr\u001b[39m(\u001b[39mself\u001b[39m\u001b[39m.\u001b[39margs\u001b[39m.\u001b[39mdata)\u001b[39m.\u001b[39msplit(\u001b[39m\"\u001b[39m\u001b[39m.\u001b[39m\u001b[39m\"\u001b[39m)[\u001b[39m-\u001b[39m\u001b[39m1\u001b[39m] \u001b[39min\u001b[39;00m (\u001b[39m\"\u001b[39m\u001b[39myaml\u001b[39m\u001b[39m\"\u001b[39m, \u001b[39m\"\u001b[39m\u001b[39myml\u001b[39m\u001b[39m\"\u001b[39m):\n\u001b[0;32m--> 141\u001b[0m     \u001b[39mself\u001b[39m\u001b[39m.\u001b[39mdata \u001b[39m=\u001b[39m check_det_dataset(\u001b[39mself\u001b[39;49m\u001b[39m.\u001b[39;49margs\u001b[39m.\u001b[39;49mdata)\n\u001b[1;32m    142\u001b[0m \u001b[39melif\u001b[39;00m \u001b[39mself\u001b[39m\u001b[39m.\u001b[39margs\u001b[39m.\u001b[39mtask \u001b[39m==\u001b[39m \u001b[39m\"\u001b[39m\u001b[39mclassify\u001b[39m\u001b[39m\"\u001b[39m:\n\u001b[1;32m    143\u001b[0m     \u001b[39mself\u001b[39m\u001b[39m.\u001b[39mdata \u001b[39m=\u001b[39m check_cls_dataset(\u001b[39mself\u001b[39m\u001b[39m.\u001b[39margs\u001b[39m.\u001b[39mdata, split\u001b[39m=\u001b[39m\u001b[39mself\u001b[39m\u001b[39m.\u001b[39margs\u001b[39m.\u001b[39msplit)\n",
            "File \u001b[0;32m~/postgrado/tesis/tesis/venv/lib/python3.11/site-packages/ultralytics/data/utils.py:336\u001b[0m, in \u001b[0;36mcheck_det_dataset\u001b[0;34m(dataset, autodownload)\u001b[0m\n\u001b[1;32m    334\u001b[0m     r \u001b[39m=\u001b[39m os\u001b[39m.\u001b[39msystem(s)\n\u001b[1;32m    335\u001b[0m \u001b[39melse\u001b[39;00m:  \u001b[39m# python script\u001b[39;00m\n\u001b[0;32m--> 336\u001b[0m     exec(s, {\u001b[39m\"\u001b[39;49m\u001b[39myaml\u001b[39;49m\u001b[39m\"\u001b[39;49m: data})\n\u001b[1;32m    337\u001b[0m dt \u001b[39m=\u001b[39m \u001b[39mf\u001b[39m\u001b[39m\"\u001b[39m\u001b[39m(\u001b[39m\u001b[39m{\u001b[39;00m\u001b[39mround\u001b[39m(time\u001b[39m.\u001b[39mtime()\u001b[39m \u001b[39m\u001b[39m-\u001b[39m\u001b[39m \u001b[39mt,\u001b[39m \u001b[39m\u001b[39m1\u001b[39m)\u001b[39m}\u001b[39;00m\u001b[39ms)\u001b[39m\u001b[39m\"\u001b[39m\n\u001b[1;32m    338\u001b[0m s \u001b[39m=\u001b[39m \u001b[39mf\u001b[39m\u001b[39m\"\u001b[39m\u001b[39msuccess ✅ \u001b[39m\u001b[39m{\u001b[39;00mdt\u001b[39m}\u001b[39;00m\u001b[39m, saved to \u001b[39m\u001b[39m{\u001b[39;00mcolorstr(\u001b[39m'\u001b[39m\u001b[39mbold\u001b[39m\u001b[39m'\u001b[39m,\u001b[39m \u001b[39mDATASETS_DIR)\u001b[39m}\u001b[39;00m\u001b[39m\"\u001b[39m \u001b[39mif\u001b[39;00m r \u001b[39min\u001b[39;00m (\u001b[39m0\u001b[39m, \u001b[39mNone\u001b[39;00m) \u001b[39melse\u001b[39;00m \u001b[39mf\u001b[39m\u001b[39m\"\u001b[39m\u001b[39mfailure \u001b[39m\u001b[39m{\u001b[39;00mdt\u001b[39m}\u001b[39;00m\u001b[39m ❌\u001b[39m\u001b[39m\"\u001b[39m\n",
            "File \u001b[0;32m<string>:14\u001b[0m\n",
            "File \u001b[0;32m~/postgrado/tesis/tesis/venv/lib/python3.11/site-packages/ultralytics/utils/downloads.py:478\u001b[0m, in \u001b[0;36mdownload\u001b[0;34m(url, dir, unzip, delete, curl, threads, retry, exist_ok)\u001b[0m\n\u001b[1;32m    476\u001b[0m \u001b[39mif\u001b[39;00m threads \u001b[39m>\u001b[39m \u001b[39m1\u001b[39m:\n\u001b[1;32m    477\u001b[0m     \u001b[39mwith\u001b[39;00m ThreadPool(threads) \u001b[39mas\u001b[39;00m pool:\n\u001b[0;32m--> 478\u001b[0m         pool\u001b[39m.\u001b[39;49mmap(\n\u001b[1;32m    479\u001b[0m             \u001b[39mlambda\u001b[39;49;00m x: safe_download(\n\u001b[1;32m    480\u001b[0m                 url\u001b[39m=\u001b[39;49mx[\u001b[39m0\u001b[39;49m],\n\u001b[1;32m    481\u001b[0m                 \u001b[39mdir\u001b[39;49m\u001b[39m=\u001b[39;49mx[\u001b[39m1\u001b[39;49m],\n\u001b[1;32m    482\u001b[0m                 unzip\u001b[39m=\u001b[39;49munzip,\n\u001b[1;32m    483\u001b[0m                 delete\u001b[39m=\u001b[39;49mdelete,\n\u001b[1;32m    484\u001b[0m                 curl\u001b[39m=\u001b[39;49mcurl,\n\u001b[1;32m    485\u001b[0m                 retry\u001b[39m=\u001b[39;49mretry,\n\u001b[1;32m    486\u001b[0m                 exist_ok\u001b[39m=\u001b[39;49mexist_ok,\n\u001b[1;32m    487\u001b[0m                 progress\u001b[39m=\u001b[39;49mthreads \u001b[39m<\u001b[39;49m\u001b[39m=\u001b[39;49m \u001b[39m1\u001b[39;49m,\n\u001b[1;32m    488\u001b[0m             ),\n\u001b[1;32m    489\u001b[0m             \u001b[39mzip\u001b[39;49m(url, repeat(\u001b[39mdir\u001b[39;49m)),\n\u001b[1;32m    490\u001b[0m         )\n\u001b[1;32m    491\u001b[0m         pool\u001b[39m.\u001b[39mclose()\n\u001b[1;32m    492\u001b[0m         pool\u001b[39m.\u001b[39mjoin()\n",
            "File \u001b[0;32m/opt/homebrew/Cellar/python@3.11/3.11.3/Frameworks/Python.framework/Versions/3.11/lib/python3.11/multiprocessing/pool.py:367\u001b[0m, in \u001b[0;36mPool.map\u001b[0;34m(self, func, iterable, chunksize)\u001b[0m\n\u001b[1;32m    362\u001b[0m \u001b[39mdef\u001b[39;00m \u001b[39mmap\u001b[39m(\u001b[39mself\u001b[39m, func, iterable, chunksize\u001b[39m=\u001b[39m\u001b[39mNone\u001b[39;00m):\n\u001b[1;32m    363\u001b[0m \u001b[39m    \u001b[39m\u001b[39m'''\u001b[39;00m\n\u001b[1;32m    364\u001b[0m \u001b[39m    Apply `func` to each element in `iterable`, collecting the results\u001b[39;00m\n\u001b[1;32m    365\u001b[0m \u001b[39m    in a list that is returned.\u001b[39;00m\n\u001b[1;32m    366\u001b[0m \u001b[39m    '''\u001b[39;00m\n\u001b[0;32m--> 367\u001b[0m     \u001b[39mreturn\u001b[39;00m \u001b[39mself\u001b[39;49m\u001b[39m.\u001b[39;49m_map_async(func, iterable, mapstar, chunksize)\u001b[39m.\u001b[39;49mget()\n",
            "File \u001b[0;32m/opt/homebrew/Cellar/python@3.11/3.11.3/Frameworks/Python.framework/Versions/3.11/lib/python3.11/multiprocessing/pool.py:768\u001b[0m, in \u001b[0;36mApplyResult.get\u001b[0;34m(self, timeout)\u001b[0m\n\u001b[1;32m    767\u001b[0m \u001b[39mdef\u001b[39;00m \u001b[39mget\u001b[39m(\u001b[39mself\u001b[39m, timeout\u001b[39m=\u001b[39m\u001b[39mNone\u001b[39;00m):\n\u001b[0;32m--> 768\u001b[0m     \u001b[39mself\u001b[39;49m\u001b[39m.\u001b[39;49mwait(timeout)\n\u001b[1;32m    769\u001b[0m     \u001b[39mif\u001b[39;00m \u001b[39mnot\u001b[39;00m \u001b[39mself\u001b[39m\u001b[39m.\u001b[39mready():\n\u001b[1;32m    770\u001b[0m         \u001b[39mraise\u001b[39;00m \u001b[39mTimeoutError\u001b[39;00m\n",
            "File \u001b[0;32m/opt/homebrew/Cellar/python@3.11/3.11.3/Frameworks/Python.framework/Versions/3.11/lib/python3.11/multiprocessing/pool.py:765\u001b[0m, in \u001b[0;36mApplyResult.wait\u001b[0;34m(self, timeout)\u001b[0m\n\u001b[1;32m    764\u001b[0m \u001b[39mdef\u001b[39;00m \u001b[39mwait\u001b[39m(\u001b[39mself\u001b[39m, timeout\u001b[39m=\u001b[39m\u001b[39mNone\u001b[39;00m):\n\u001b[0;32m--> 765\u001b[0m     \u001b[39mself\u001b[39;49m\u001b[39m.\u001b[39;49m_event\u001b[39m.\u001b[39;49mwait(timeout)\n",
            "File \u001b[0;32m/opt/homebrew/Cellar/python@3.11/3.11.3/Frameworks/Python.framework/Versions/3.11/lib/python3.11/threading.py:622\u001b[0m, in \u001b[0;36mEvent.wait\u001b[0;34m(self, timeout)\u001b[0m\n\u001b[1;32m    620\u001b[0m signaled \u001b[39m=\u001b[39m \u001b[39mself\u001b[39m\u001b[39m.\u001b[39m_flag\n\u001b[1;32m    621\u001b[0m \u001b[39mif\u001b[39;00m \u001b[39mnot\u001b[39;00m signaled:\n\u001b[0;32m--> 622\u001b[0m     signaled \u001b[39m=\u001b[39m \u001b[39mself\u001b[39;49m\u001b[39m.\u001b[39;49m_cond\u001b[39m.\u001b[39;49mwait(timeout)\n\u001b[1;32m    623\u001b[0m \u001b[39mreturn\u001b[39;00m signaled\n",
            "File \u001b[0;32m/opt/homebrew/Cellar/python@3.11/3.11.3/Frameworks/Python.framework/Versions/3.11/lib/python3.11/threading.py:320\u001b[0m, in \u001b[0;36mCondition.wait\u001b[0;34m(self, timeout)\u001b[0m\n\u001b[1;32m    318\u001b[0m \u001b[39mtry\u001b[39;00m:    \u001b[39m# restore state no matter what (e.g., KeyboardInterrupt)\u001b[39;00m\n\u001b[1;32m    319\u001b[0m     \u001b[39mif\u001b[39;00m timeout \u001b[39mis\u001b[39;00m \u001b[39mNone\u001b[39;00m:\n\u001b[0;32m--> 320\u001b[0m         waiter\u001b[39m.\u001b[39;49macquire()\n\u001b[1;32m    321\u001b[0m         gotit \u001b[39m=\u001b[39m \u001b[39mTrue\u001b[39;00m\n\u001b[1;32m    322\u001b[0m     \u001b[39melse\u001b[39;00m:\n",
            "\u001b[0;31mKeyboardInterrupt\u001b[0m: "
          ]
        }
      ],
      "source": [
        "result = model.val()\n",
        "result"
      ]
    },
    {
      "cell_type": "code",
      "execution_count": 19,
      "metadata": {},
      "outputs": [
        {
          "name": "stdout",
          "output_type": "stream",
          "text": [
            "\n",
            "\n",
            "WARNING ⚠️ inference results will accumulate in RAM unless `stream=True` is passed, causing potential out-of-memory\n",
            "errors for large sources or long-running streams and videos. See https://docs.ultralytics.com/modes/predict/ for help.\n",
            "\n",
            "Example:\n",
            "    results = model(source=..., stream=True)  # generator of Results objects\n",
            "    for r in results:\n",
            "        boxes = r.boxes  # Boxes object for bbox outputs\n",
            "        masks = r.masks  # Masks object for segment masks outputs\n",
            "        probs = r.probs  # Class probabilities for classification outputs\n",
            "\n",
            "video 1/1 (1/372) /Users/pio/postgrado/tesis/tesis/data/output.mp4: 640x320 2 cell phones, 59.3ms\n",
            "video 1/1 (2/372) /Users/pio/postgrado/tesis/tesis/data/output.mp4: 640x320 1 cell phone, 50.3ms\n",
            "video 1/1 (3/372) /Users/pio/postgrado/tesis/tesis/data/output.mp4: 640x320 1 cell phone, 41.6ms\n",
            "video 1/1 (4/372) /Users/pio/postgrado/tesis/tesis/data/output.mp4: 640x320 1 tv, 39.9ms\n",
            "video 1/1 (5/372) /Users/pio/postgrado/tesis/tesis/data/output.mp4: 640x320 (no detections), 42.8ms\n",
            "video 1/1 (6/372) /Users/pio/postgrado/tesis/tesis/data/output.mp4: 640x320 1 tv, 42.7ms\n",
            "video 1/1 (7/372) /Users/pio/postgrado/tesis/tesis/data/output.mp4: 640x320 (no detections), 42.7ms\n",
            "video 1/1 (8/372) /Users/pio/postgrado/tesis/tesis/data/output.mp4: 640x320 (no detections), 40.0ms\n",
            "video 1/1 (9/372) /Users/pio/postgrado/tesis/tesis/data/output.mp4: 640x320 1 tv, 41.7ms\n",
            "video 1/1 (10/372) /Users/pio/postgrado/tesis/tesis/data/output.mp4: 640x320 1 tv, 41.2ms\n",
            "video 1/1 (11/372) /Users/pio/postgrado/tesis/tesis/data/output.mp4: 640x320 1 tv, 39.9ms\n",
            "video 1/1 (12/372) /Users/pio/postgrado/tesis/tesis/data/output.mp4: 640x320 1 tv, 41.2ms\n",
            "video 1/1 (13/372) /Users/pio/postgrado/tesis/tesis/data/output.mp4: 640x320 1 tv, 42.2ms\n",
            "video 1/1 (14/372) /Users/pio/postgrado/tesis/tesis/data/output.mp4: 640x320 1 tv, 39.6ms\n",
            "video 1/1 (15/372) /Users/pio/postgrado/tesis/tesis/data/output.mp4: 640x320 1 tv, 41.2ms\n",
            "video 1/1 (16/372) /Users/pio/postgrado/tesis/tesis/data/output.mp4: 640x320 1 tv, 40.2ms\n",
            "video 1/1 (17/372) /Users/pio/postgrado/tesis/tesis/data/output.mp4: 640x320 1 tv, 41.8ms\n",
            "video 1/1 (18/372) /Users/pio/postgrado/tesis/tesis/data/output.mp4: 640x320 1 tv, 1 laptop, 39.6ms\n",
            "video 1/1 (19/372) /Users/pio/postgrado/tesis/tesis/data/output.mp4: 640x320 1 laptop, 41.5ms\n",
            "video 1/1 (20/372) /Users/pio/postgrado/tesis/tesis/data/output.mp4: 640x320 1 laptop, 41.2ms\n",
            "video 1/1 (21/372) /Users/pio/postgrado/tesis/tesis/data/output.mp4: 640x320 1 laptop, 40.5ms\n",
            "video 1/1 (22/372) /Users/pio/postgrado/tesis/tesis/data/output.mp4: 640x320 1 laptop, 43.9ms\n",
            "video 1/1 (23/372) /Users/pio/postgrado/tesis/tesis/data/output.mp4: 640x320 1 laptop, 42.2ms\n",
            "video 1/1 (24/372) /Users/pio/postgrado/tesis/tesis/data/output.mp4: 640x320 1 laptop, 41.8ms\n",
            "video 1/1 (25/372) /Users/pio/postgrado/tesis/tesis/data/output.mp4: 640x320 1 laptop, 38.8ms\n",
            "video 1/1 (26/372) /Users/pio/postgrado/tesis/tesis/data/output.mp4: 640x320 1 laptop, 40.6ms\n",
            "video 1/1 (27/372) /Users/pio/postgrado/tesis/tesis/data/output.mp4: 640x320 1 laptop, 40.3ms\n",
            "video 1/1 (28/372) /Users/pio/postgrado/tesis/tesis/data/output.mp4: 640x320 1 laptop, 39.4ms\n",
            "video 1/1 (29/372) /Users/pio/postgrado/tesis/tesis/data/output.mp4: 640x320 1 laptop, 40.8ms\n",
            "video 1/1 (30/372) /Users/pio/postgrado/tesis/tesis/data/output.mp4: 640x320 1 laptop, 40.2ms\n",
            "video 1/1 (31/372) /Users/pio/postgrado/tesis/tesis/data/output.mp4: 640x320 1 laptop, 40.3ms\n",
            "video 1/1 (32/372) /Users/pio/postgrado/tesis/tesis/data/output.mp4: 640x320 1 laptop, 39.3ms\n",
            "video 1/1 (33/372) /Users/pio/postgrado/tesis/tesis/data/output.mp4: 640x320 1 laptop, 41.0ms\n",
            "video 1/1 (34/372) /Users/pio/postgrado/tesis/tesis/data/output.mp4: 640x320 1 laptop, 38.9ms\n",
            "video 1/1 (35/372) /Users/pio/postgrado/tesis/tesis/data/output.mp4: 640x320 1 laptop, 39.2ms\n",
            "video 1/1 (36/372) /Users/pio/postgrado/tesis/tesis/data/output.mp4: 640x320 1 laptop, 38.8ms\n",
            "video 1/1 (37/372) /Users/pio/postgrado/tesis/tesis/data/output.mp4: 640x320 1 laptop, 40.5ms\n",
            "video 1/1 (38/372) /Users/pio/postgrado/tesis/tesis/data/output.mp4: 640x320 2 laptops, 39.7ms\n",
            "video 1/1 (39/372) /Users/pio/postgrado/tesis/tesis/data/output.mp4: 640x320 2 laptops, 39.7ms\n",
            "video 1/1 (40/372) /Users/pio/postgrado/tesis/tesis/data/output.mp4: 640x320 2 laptops, 40.9ms\n",
            "video 1/1 (41/372) /Users/pio/postgrado/tesis/tesis/data/output.mp4: 640x320 2 laptops, 40.7ms\n",
            "video 1/1 (42/372) /Users/pio/postgrado/tesis/tesis/data/output.mp4: 640x320 2 laptops, 39.2ms\n",
            "video 1/1 (43/372) /Users/pio/postgrado/tesis/tesis/data/output.mp4: 640x320 2 laptops, 40.1ms\n",
            "video 1/1 (44/372) /Users/pio/postgrado/tesis/tesis/data/output.mp4: 640x320 2 laptops, 40.1ms\n",
            "video 1/1 (45/372) /Users/pio/postgrado/tesis/tesis/data/output.mp4: 640x320 2 laptops, 39.6ms\n",
            "video 1/1 (46/372) /Users/pio/postgrado/tesis/tesis/data/output.mp4: 640x320 2 laptops, 39.7ms\n",
            "video 1/1 (47/372) /Users/pio/postgrado/tesis/tesis/data/output.mp4: 640x320 2 laptops, 39.6ms\n",
            "video 1/1 (48/372) /Users/pio/postgrado/tesis/tesis/data/output.mp4: 640x320 2 laptops, 40.4ms\n",
            "video 1/1 (49/372) /Users/pio/postgrado/tesis/tesis/data/output.mp4: 640x320 2 laptops, 38.0ms\n",
            "video 1/1 (50/372) /Users/pio/postgrado/tesis/tesis/data/output.mp4: 640x320 2 laptops, 39.3ms\n",
            "video 1/1 (51/372) /Users/pio/postgrado/tesis/tesis/data/output.mp4: 640x320 2 laptops, 41.7ms\n",
            "video 1/1 (52/372) /Users/pio/postgrado/tesis/tesis/data/output.mp4: 640x320 2 laptops, 40.2ms\n",
            "video 1/1 (53/372) /Users/pio/postgrado/tesis/tesis/data/output.mp4: 640x320 2 laptops, 39.5ms\n",
            "video 1/1 (54/372) /Users/pio/postgrado/tesis/tesis/data/output.mp4: 640x320 2 laptops, 38.9ms\n",
            "video 1/1 (55/372) /Users/pio/postgrado/tesis/tesis/data/output.mp4: 640x320 2 laptops, 40.5ms\n",
            "video 1/1 (56/372) /Users/pio/postgrado/tesis/tesis/data/output.mp4: 640x320 2 laptops, 40.7ms\n",
            "video 1/1 (57/372) /Users/pio/postgrado/tesis/tesis/data/output.mp4: 640x320 2 laptops, 39.9ms\n",
            "video 1/1 (58/372) /Users/pio/postgrado/tesis/tesis/data/output.mp4: 640x320 2 laptops, 40.2ms\n",
            "video 1/1 (59/372) /Users/pio/postgrado/tesis/tesis/data/output.mp4: 640x320 2 laptops, 39.3ms\n",
            "video 1/1 (60/372) /Users/pio/postgrado/tesis/tesis/data/output.mp4: 640x320 2 laptops, 39.8ms\n",
            "video 1/1 (61/372) /Users/pio/postgrado/tesis/tesis/data/output.mp4: 640x320 2 laptops, 39.6ms\n",
            "video 1/1 (62/372) /Users/pio/postgrado/tesis/tesis/data/output.mp4: 640x320 2 laptops, 38.8ms\n",
            "video 1/1 (63/372) /Users/pio/postgrado/tesis/tesis/data/output.mp4: 640x320 2 laptops, 40.9ms\n",
            "video 1/1 (64/372) /Users/pio/postgrado/tesis/tesis/data/output.mp4: 640x320 2 laptops, 39.7ms\n",
            "video 1/1 (65/372) /Users/pio/postgrado/tesis/tesis/data/output.mp4: 640x320 1 tv, 2 laptops, 37.6ms\n",
            "video 1/1 (66/372) /Users/pio/postgrado/tesis/tesis/data/output.mp4: 640x320 1 tv, 2 laptops, 39.7ms\n",
            "video 1/1 (67/372) /Users/pio/postgrado/tesis/tesis/data/output.mp4: 640x320 3 laptops, 41.0ms\n",
            "video 1/1 (68/372) /Users/pio/postgrado/tesis/tesis/data/output.mp4: 640x320 1 tv, 1 laptop, 1 cell phone, 38.9ms\n",
            "video 1/1 (69/372) /Users/pio/postgrado/tesis/tesis/data/output.mp4: 640x320 1 tv, 2 laptops, 66.6ms\n",
            "video 1/1 (70/372) /Users/pio/postgrado/tesis/tesis/data/output.mp4: 640x320 1 tv, 2 laptops, 38.8ms\n",
            "video 1/1 (71/372) /Users/pio/postgrado/tesis/tesis/data/output.mp4: 640x320 1 person, 2 laptops, 1 cell phone, 41.0ms\n",
            "video 1/1 (72/372) /Users/pio/postgrado/tesis/tesis/data/output.mp4: 640x320 1 tv, 2 laptops, 1 cell phone, 39.4ms\n",
            "video 1/1 (73/372) /Users/pio/postgrado/tesis/tesis/data/output.mp4: 640x320 1 tv, 3 laptops, 39.3ms\n",
            "video 1/1 (74/372) /Users/pio/postgrado/tesis/tesis/data/output.mp4: 640x320 3 laptops, 40.0ms\n",
            "video 1/1 (75/372) /Users/pio/postgrado/tesis/tesis/data/output.mp4: 640x320 2 tvs, 2 laptops, 38.9ms\n",
            "video 1/1 (76/372) /Users/pio/postgrado/tesis/tesis/data/output.mp4: 640x320 1 person, 1 tv, 2 laptops, 40.0ms\n",
            "video 1/1 (77/372) /Users/pio/postgrado/tesis/tesis/data/output.mp4: 640x320 1 laptop, 1 cell phone, 39.7ms\n",
            "video 1/1 (78/372) /Users/pio/postgrado/tesis/tesis/data/output.mp4: 640x320 3 laptops, 39.4ms\n",
            "video 1/1 (79/372) /Users/pio/postgrado/tesis/tesis/data/output.mp4: 640x320 2 laptops, 41.1ms\n",
            "video 1/1 (80/372) /Users/pio/postgrado/tesis/tesis/data/output.mp4: 640x320 1 laptop, 1 cell phone, 39.7ms\n",
            "video 1/1 (81/372) /Users/pio/postgrado/tesis/tesis/data/output.mp4: 640x320 1 tv, 1 laptop, 1 cell phone, 41.2ms\n",
            "video 1/1 (82/372) /Users/pio/postgrado/tesis/tesis/data/output.mp4: 640x320 1 tv, 1 laptop, 40.8ms\n",
            "video 1/1 (83/372) /Users/pio/postgrado/tesis/tesis/data/output.mp4: 640x320 2 laptops, 40.1ms\n",
            "video 1/1 (84/372) /Users/pio/postgrado/tesis/tesis/data/output.mp4: 640x320 1 tv, 2 laptops, 41.4ms\n",
            "video 1/1 (85/372) /Users/pio/postgrado/tesis/tesis/data/output.mp4: 640x320 1 tv, 2 laptops, 39.4ms\n",
            "video 1/1 (86/372) /Users/pio/postgrado/tesis/tesis/data/output.mp4: 640x320 1 tv, 2 laptops, 41.2ms\n",
            "video 1/1 (87/372) /Users/pio/postgrado/tesis/tesis/data/output.mp4: 640x320 1 tv, 2 laptops, 38.7ms\n",
            "video 1/1 (88/372) /Users/pio/postgrado/tesis/tesis/data/output.mp4: 640x320 1 tv, 2 laptops, 37.2ms\n",
            "video 1/1 (89/372) /Users/pio/postgrado/tesis/tesis/data/output.mp4: 640x320 1 tv, 2 laptops, 39.2ms\n",
            "video 1/1 (90/372) /Users/pio/postgrado/tesis/tesis/data/output.mp4: 640x320 1 tv, 2 laptops, 40.2ms\n",
            "video 1/1 (91/372) /Users/pio/postgrado/tesis/tesis/data/output.mp4: 640x320 1 tv, 2 laptops, 40.0ms\n",
            "video 1/1 (92/372) /Users/pio/postgrado/tesis/tesis/data/output.mp4: 640x320 1 tv, 2 laptops, 39.2ms\n",
            "video 1/1 (93/372) /Users/pio/postgrado/tesis/tesis/data/output.mp4: 640x320 1 tv, 2 laptops, 41.4ms\n",
            "video 1/1 (94/372) /Users/pio/postgrado/tesis/tesis/data/output.mp4: 640x320 1 tv, 2 laptops, 43.0ms\n",
            "video 1/1 (95/372) /Users/pio/postgrado/tesis/tesis/data/output.mp4: 640x320 1 tv, 2 laptops, 39.9ms\n",
            "video 1/1 (96/372) /Users/pio/postgrado/tesis/tesis/data/output.mp4: 640x320 1 tv, 2 laptops, 40.2ms\n",
            "video 1/1 (97/372) /Users/pio/postgrado/tesis/tesis/data/output.mp4: 640x320 1 tv, 2 laptops, 42.5ms\n",
            "video 1/1 (98/372) /Users/pio/postgrado/tesis/tesis/data/output.mp4: 640x320 1 tv, 2 laptops, 39.5ms\n",
            "video 1/1 (99/372) /Users/pio/postgrado/tesis/tesis/data/output.mp4: 640x320 1 tv, 2 laptops, 40.6ms\n",
            "video 1/1 (100/372) /Users/pio/postgrado/tesis/tesis/data/output.mp4: 640x320 1 tv, 2 laptops, 43.3ms\n",
            "video 1/1 (101/372) /Users/pio/postgrado/tesis/tesis/data/output.mp4: 640x320 1 tv, 2 laptops, 40.1ms\n",
            "video 1/1 (102/372) /Users/pio/postgrado/tesis/tesis/data/output.mp4: 640x320 1 tv, 2 laptops, 38.3ms\n",
            "video 1/1 (103/372) /Users/pio/postgrado/tesis/tesis/data/output.mp4: 640x320 1 tv, 2 laptops, 41.9ms\n",
            "video 1/1 (104/372) /Users/pio/postgrado/tesis/tesis/data/output.mp4: 640x320 1 tv, 2 laptops, 40.3ms\n",
            "video 1/1 (105/372) /Users/pio/postgrado/tesis/tesis/data/output.mp4: 640x320 1 tv, 2 laptops, 37.2ms\n",
            "video 1/1 (106/372) /Users/pio/postgrado/tesis/tesis/data/output.mp4: 640x320 1 tv, 2 laptops, 38.9ms\n",
            "video 1/1 (107/372) /Users/pio/postgrado/tesis/tesis/data/output.mp4: 640x320 1 tv, 2 laptops, 41.7ms\n",
            "video 1/1 (108/372) /Users/pio/postgrado/tesis/tesis/data/output.mp4: 640x320 1 tv, 2 laptops, 40.4ms\n",
            "video 1/1 (109/372) /Users/pio/postgrado/tesis/tesis/data/output.mp4: 640x320 1 tv, 2 laptops, 39.4ms\n",
            "video 1/1 (110/372) /Users/pio/postgrado/tesis/tesis/data/output.mp4: 640x320 1 tv, 2 laptops, 39.2ms\n",
            "video 1/1 (111/372) /Users/pio/postgrado/tesis/tesis/data/output.mp4: 640x320 1 tv, 2 laptops, 45.1ms\n",
            "video 1/1 (112/372) /Users/pio/postgrado/tesis/tesis/data/output.mp4: 640x320 1 tv, 2 laptops, 39.5ms\n",
            "video 1/1 (113/372) /Users/pio/postgrado/tesis/tesis/data/output.mp4: 640x320 1 tv, 2 laptops, 39.7ms\n",
            "video 1/1 (114/372) /Users/pio/postgrado/tesis/tesis/data/output.mp4: 640x320 1 tv, 2 laptops, 41.3ms\n",
            "video 1/1 (115/372) /Users/pio/postgrado/tesis/tesis/data/output.mp4: 640x320 1 tv, 2 laptops, 40.8ms\n",
            "video 1/1 (116/372) /Users/pio/postgrado/tesis/tesis/data/output.mp4: 640x320 1 tv, 2 laptops, 37.9ms\n",
            "video 1/1 (117/372) /Users/pio/postgrado/tesis/tesis/data/output.mp4: 640x320 1 tv, 2 laptops, 39.9ms\n",
            "video 1/1 (118/372) /Users/pio/postgrado/tesis/tesis/data/output.mp4: 640x320 1 tv, 2 laptops, 40.0ms\n",
            "video 1/1 (119/372) /Users/pio/postgrado/tesis/tesis/data/output.mp4: 640x320 1 tv, 2 laptops, 39.4ms\n",
            "video 1/1 (120/372) /Users/pio/postgrado/tesis/tesis/data/output.mp4: 640x320 (no detections), 38.9ms\n",
            "video 1/1 (121/372) /Users/pio/postgrado/tesis/tesis/data/output.mp4: 640x320 (no detections), 41.8ms\n",
            "video 1/1 (122/372) /Users/pio/postgrado/tesis/tesis/data/output.mp4: 640x320 1 airplane, 1 laptop, 39.4ms\n",
            "video 1/1 (123/372) /Users/pio/postgrado/tesis/tesis/data/output.mp4: 640x320 1 airplane, 1 laptop, 37.8ms\n",
            "video 1/1 (124/372) /Users/pio/postgrado/tesis/tesis/data/output.mp4: 640x320 1 airplane, 1 laptop, 38.0ms\n",
            "video 1/1 (125/372) /Users/pio/postgrado/tesis/tesis/data/output.mp4: 640x320 1 airplane, 1 laptop, 40.5ms\n",
            "video 1/1 (126/372) /Users/pio/postgrado/tesis/tesis/data/output.mp4: 640x320 1 airplane, 1 laptop, 40.7ms\n",
            "video 1/1 (127/372) /Users/pio/postgrado/tesis/tesis/data/output.mp4: 640x320 1 airplane, 1 laptop, 37.0ms\n",
            "video 1/1 (128/372) /Users/pio/postgrado/tesis/tesis/data/output.mp4: 640x320 1 airplane, 1 laptop, 37.8ms\n",
            "video 1/1 (129/372) /Users/pio/postgrado/tesis/tesis/data/output.mp4: 640x320 1 airplane, 1 laptop, 40.6ms\n",
            "video 1/1 (130/372) /Users/pio/postgrado/tesis/tesis/data/output.mp4: 640x320 1 laptop, 38.7ms\n",
            "video 1/1 (131/372) /Users/pio/postgrado/tesis/tesis/data/output.mp4: 640x320 1 laptop, 37.1ms\n",
            "video 1/1 (132/372) /Users/pio/postgrado/tesis/tesis/data/output.mp4: 640x320 1 airplane, 1 laptop, 37.1ms\n",
            "video 1/1 (133/372) /Users/pio/postgrado/tesis/tesis/data/output.mp4: 640x320 1 laptop, 38.9ms\n",
            "video 1/1 (134/372) /Users/pio/postgrado/tesis/tesis/data/output.mp4: 640x320 1 laptop, 37.3ms\n",
            "video 1/1 (135/372) /Users/pio/postgrado/tesis/tesis/data/output.mp4: 640x320 1 airplane, 1 laptop, 37.5ms\n",
            "video 1/1 (136/372) /Users/pio/postgrado/tesis/tesis/data/output.mp4: 640x320 1 airplane, 1 laptop, 37.6ms\n",
            "video 1/1 (137/372) /Users/pio/postgrado/tesis/tesis/data/output.mp4: 640x320 1 airplane, 1 laptop, 36.3ms\n",
            "video 1/1 (138/372) /Users/pio/postgrado/tesis/tesis/data/output.mp4: 640x320 1 airplane, 1 laptop, 37.8ms\n",
            "video 1/1 (139/372) /Users/pio/postgrado/tesis/tesis/data/output.mp4: 640x320 1 airplane, 1 laptop, 38.2ms\n",
            "video 1/1 (140/372) /Users/pio/postgrado/tesis/tesis/data/output.mp4: 640x320 1 airplane, 1 laptop, 37.6ms\n",
            "video 1/1 (141/372) /Users/pio/postgrado/tesis/tesis/data/output.mp4: 640x320 1 airplane, 1 laptop, 37.6ms\n",
            "video 1/1 (142/372) /Users/pio/postgrado/tesis/tesis/data/output.mp4: 640x320 1 airplane, 1 laptop, 37.0ms\n",
            "video 1/1 (143/372) /Users/pio/postgrado/tesis/tesis/data/output.mp4: 640x320 1 airplane, 1 laptop, 37.2ms\n",
            "video 1/1 (144/372) /Users/pio/postgrado/tesis/tesis/data/output.mp4: 640x320 1 airplane, 1 laptop, 40.1ms\n",
            "video 1/1 (145/372) /Users/pio/postgrado/tesis/tesis/data/output.mp4: 640x320 1 airplane, 1 laptop, 37.8ms\n",
            "video 1/1 (146/372) /Users/pio/postgrado/tesis/tesis/data/output.mp4: 640x320 1 airplane, 1 laptop, 37.4ms\n",
            "video 1/1 (147/372) /Users/pio/postgrado/tesis/tesis/data/output.mp4: 640x320 1 airplane, 1 laptop, 39.1ms\n",
            "video 1/1 (148/372) /Users/pio/postgrado/tesis/tesis/data/output.mp4: 640x320 1 airplane, 1 laptop, 38.3ms\n",
            "video 1/1 (149/372) /Users/pio/postgrado/tesis/tesis/data/output.mp4: 640x320 1 airplane, 1 laptop, 39.3ms\n",
            "video 1/1 (150/372) /Users/pio/postgrado/tesis/tesis/data/output.mp4: 640x320 1 airplane, 1 laptop, 37.0ms\n",
            "video 1/1 (151/372) /Users/pio/postgrado/tesis/tesis/data/output.mp4: 640x320 1 airplane, 1 laptop, 35.8ms\n",
            "video 1/1 (152/372) /Users/pio/postgrado/tesis/tesis/data/output.mp4: 640x320 1 airplane, 1 laptop, 37.4ms\n",
            "video 1/1 (153/372) /Users/pio/postgrado/tesis/tesis/data/output.mp4: 640x320 1 airplane, 1 laptop, 37.3ms\n",
            "video 1/1 (154/372) /Users/pio/postgrado/tesis/tesis/data/output.mp4: 640x320 1 airplane, 1 laptop, 39.9ms\n",
            "video 1/1 (155/372) /Users/pio/postgrado/tesis/tesis/data/output.mp4: 640x320 1 airplane, 1 laptop, 36.9ms\n",
            "video 1/1 (156/372) /Users/pio/postgrado/tesis/tesis/data/output.mp4: 640x320 1 airplane, 1 laptop, 40.4ms\n",
            "video 1/1 (157/372) /Users/pio/postgrado/tesis/tesis/data/output.mp4: 640x320 1 airplane, 1 laptop, 38.6ms\n",
            "video 1/1 (158/372) /Users/pio/postgrado/tesis/tesis/data/output.mp4: 640x320 1 airplane, 1 laptop, 38.6ms\n",
            "video 1/1 (159/372) /Users/pio/postgrado/tesis/tesis/data/output.mp4: 640x320 1 airplane, 1 laptop, 39.0ms\n",
            "video 1/1 (160/372) /Users/pio/postgrado/tesis/tesis/data/output.mp4: 640x320 1 airplane, 1 laptop, 38.0ms\n",
            "video 1/1 (161/372) /Users/pio/postgrado/tesis/tesis/data/output.mp4: 640x320 1 airplane, 1 laptop, 37.8ms\n",
            "video 1/1 (162/372) /Users/pio/postgrado/tesis/tesis/data/output.mp4: 640x320 1 airplane, 1 laptop, 37.2ms\n",
            "video 1/1 (163/372) /Users/pio/postgrado/tesis/tesis/data/output.mp4: 640x320 1 airplane, 1 laptop, 38.3ms\n",
            "video 1/1 (164/372) /Users/pio/postgrado/tesis/tesis/data/output.mp4: 640x320 1 airplane, 1 laptop, 37.3ms\n",
            "video 1/1 (165/372) /Users/pio/postgrado/tesis/tesis/data/output.mp4: 640x320 1 airplane, 1 laptop, 37.0ms\n",
            "video 1/1 (166/372) /Users/pio/postgrado/tesis/tesis/data/output.mp4: 640x320 1 airplane, 1 laptop, 42.0ms\n",
            "video 1/1 (167/372) /Users/pio/postgrado/tesis/tesis/data/output.mp4: 640x320 1 airplane, 1 laptop, 37.9ms\n",
            "video 1/1 (168/372) /Users/pio/postgrado/tesis/tesis/data/output.mp4: 640x320 1 airplane, 1 laptop, 36.7ms\n",
            "video 1/1 (169/372) /Users/pio/postgrado/tesis/tesis/data/output.mp4: 640x320 1 airplane, 1 laptop, 36.3ms\n",
            "video 1/1 (170/372) /Users/pio/postgrado/tesis/tesis/data/output.mp4: 640x320 1 airplane, 1 laptop, 36.6ms\n",
            "video 1/1 (171/372) /Users/pio/postgrado/tesis/tesis/data/output.mp4: 640x320 1 airplane, 1 laptop, 37.8ms\n",
            "video 1/1 (172/372) /Users/pio/postgrado/tesis/tesis/data/output.mp4: 640x320 1 airplane, 1 laptop, 37.5ms\n",
            "video 1/1 (173/372) /Users/pio/postgrado/tesis/tesis/data/output.mp4: 640x320 1 airplane, 1 laptop, 37.6ms\n",
            "video 1/1 (174/372) /Users/pio/postgrado/tesis/tesis/data/output.mp4: 640x320 1 airplane, 1 laptop, 37.6ms\n",
            "video 1/1 (175/372) /Users/pio/postgrado/tesis/tesis/data/output.mp4: 640x320 1 airplane, 1 laptop, 37.3ms\n",
            "video 1/1 (176/372) /Users/pio/postgrado/tesis/tesis/data/output.mp4: 640x320 1 airplane, 1 laptop, 38.2ms\n",
            "video 1/1 (177/372) /Users/pio/postgrado/tesis/tesis/data/output.mp4: 640x320 1 airplane, 1 laptop, 38.5ms\n",
            "video 1/1 (178/372) /Users/pio/postgrado/tesis/tesis/data/output.mp4: 640x320 1 airplane, 1 laptop, 37.4ms\n",
            "video 1/1 (179/372) /Users/pio/postgrado/tesis/tesis/data/output.mp4: 640x320 1 airplane, 1 laptop, 37.2ms\n",
            "video 1/1 (180/372) /Users/pio/postgrado/tesis/tesis/data/output.mp4: 640x320 1 airplane, 1 laptop, 35.9ms\n",
            "video 1/1 (181/372) /Users/pio/postgrado/tesis/tesis/data/output.mp4: 640x320 1 airplane, 1 laptop, 38.0ms\n",
            "video 1/1 (182/372) /Users/pio/postgrado/tesis/tesis/data/output.mp4: 640x320 1 airplane, 1 laptop, 37.1ms\n",
            "video 1/1 (183/372) /Users/pio/postgrado/tesis/tesis/data/output.mp4: 640x320 1 airplane, 1 laptop, 56.6ms\n",
            "video 1/1 (184/372) /Users/pio/postgrado/tesis/tesis/data/output.mp4: 640x320 1 airplane, 1 laptop, 38.2ms\n",
            "video 1/1 (185/372) /Users/pio/postgrado/tesis/tesis/data/output.mp4: 640x320 1 airplane, 1 laptop, 37.5ms\n",
            "video 1/1 (186/372) /Users/pio/postgrado/tesis/tesis/data/output.mp4: 640x320 1 airplane, 1 laptop, 37.4ms\n",
            "video 1/1 (187/372) /Users/pio/postgrado/tesis/tesis/data/output.mp4: 640x320 1 airplane, 1 laptop, 37.6ms\n",
            "video 1/1 (188/372) /Users/pio/postgrado/tesis/tesis/data/output.mp4: 640x320 1 airplane, 1 laptop, 38.0ms\n",
            "video 1/1 (189/372) /Users/pio/postgrado/tesis/tesis/data/output.mp4: 640x320 1 airplane, 1 laptop, 37.7ms\n",
            "video 1/1 (190/372) /Users/pio/postgrado/tesis/tesis/data/output.mp4: 640x320 1 airplane, 1 laptop, 38.0ms\n",
            "video 1/1 (191/372) /Users/pio/postgrado/tesis/tesis/data/output.mp4: 640x320 1 airplane, 1 laptop, 38.2ms\n",
            "video 1/1 (192/372) /Users/pio/postgrado/tesis/tesis/data/output.mp4: 640x320 1 airplane, 1 laptop, 38.0ms\n",
            "video 1/1 (193/372) /Users/pio/postgrado/tesis/tesis/data/output.mp4: 640x320 1 airplane, 1 laptop, 37.5ms\n",
            "video 1/1 (194/372) /Users/pio/postgrado/tesis/tesis/data/output.mp4: 640x320 1 airplane, 1 laptop, 39.0ms\n",
            "video 1/1 (195/372) /Users/pio/postgrado/tesis/tesis/data/output.mp4: 640x320 1 airplane, 1 laptop, 37.2ms\n",
            "video 1/1 (196/372) /Users/pio/postgrado/tesis/tesis/data/output.mp4: 640x320 1 airplane, 1 laptop, 36.5ms\n",
            "video 1/1 (197/372) /Users/pio/postgrado/tesis/tesis/data/output.mp4: 640x320 1 airplane, 1 laptop, 37.5ms\n",
            "video 1/1 (198/372) /Users/pio/postgrado/tesis/tesis/data/output.mp4: 640x320 1 airplane, 1 laptop, 36.6ms\n",
            "video 1/1 (199/372) /Users/pio/postgrado/tesis/tesis/data/output.mp4: 640x320 1 airplane, 1 laptop, 38.8ms\n",
            "video 1/1 (200/372) /Users/pio/postgrado/tesis/tesis/data/output.mp4: 640x320 1 airplane, 1 laptop, 37.1ms\n",
            "video 1/1 (201/372) /Users/pio/postgrado/tesis/tesis/data/output.mp4: 640x320 1 airplane, 1 laptop, 37.6ms\n",
            "video 1/1 (202/372) /Users/pio/postgrado/tesis/tesis/data/output.mp4: 640x320 1 airplane, 1 laptop, 37.2ms\n",
            "video 1/1 (203/372) /Users/pio/postgrado/tesis/tesis/data/output.mp4: 640x320 1 airplane, 1 laptop, 67.7ms\n",
            "video 1/1 (204/372) /Users/pio/postgrado/tesis/tesis/data/output.mp4: 640x320 1 airplane, 1 laptop, 38.4ms\n",
            "video 1/1 (205/372) /Users/pio/postgrado/tesis/tesis/data/output.mp4: 640x320 1 airplane, 1 laptop, 38.0ms\n",
            "video 1/1 (206/372) /Users/pio/postgrado/tesis/tesis/data/output.mp4: 640x320 1 airplane, 1 laptop, 37.8ms\n",
            "video 1/1 (207/372) /Users/pio/postgrado/tesis/tesis/data/output.mp4: 640x320 1 airplane, 1 laptop, 36.1ms\n",
            "video 1/1 (208/372) /Users/pio/postgrado/tesis/tesis/data/output.mp4: 640x320 1 airplane, 1 laptop, 37.7ms\n",
            "video 1/1 (209/372) /Users/pio/postgrado/tesis/tesis/data/output.mp4: 640x320 1 airplane, 1 laptop, 37.0ms\n",
            "video 1/1 (210/372) /Users/pio/postgrado/tesis/tesis/data/output.mp4: 640x320 1 laptop, 37.2ms\n",
            "video 1/1 (211/372) /Users/pio/postgrado/tesis/tesis/data/output.mp4: 640x320 1 laptop, 38.2ms\n",
            "video 1/1 (212/372) /Users/pio/postgrado/tesis/tesis/data/output.mp4: 640x320 (no detections), 37.2ms\n",
            "video 1/1 (213/372) /Users/pio/postgrado/tesis/tesis/data/output.mp4: 640x320 1 laptop, 37.2ms\n",
            "video 1/1 (214/372) /Users/pio/postgrado/tesis/tesis/data/output.mp4: 640x320 1 laptop, 1 cell phone, 37.9ms\n",
            "video 1/1 (215/372) /Users/pio/postgrado/tesis/tesis/data/output.mp4: 640x320 1 tv, 1 laptop, 1 cell phone, 41.7ms\n",
            "video 1/1 (216/372) /Users/pio/postgrado/tesis/tesis/data/output.mp4: 640x320 1 laptop, 1 cell phone, 38.9ms\n",
            "video 1/1 (217/372) /Users/pio/postgrado/tesis/tesis/data/output.mp4: 640x320 1 laptop, 1 cell phone, 40.0ms\n",
            "video 1/1 (218/372) /Users/pio/postgrado/tesis/tesis/data/output.mp4: 640x320 1 laptop, 1 cell phone, 41.9ms\n",
            "video 1/1 (219/372) /Users/pio/postgrado/tesis/tesis/data/output.mp4: 640x320 2 laptops, 39.2ms\n",
            "video 1/1 (220/372) /Users/pio/postgrado/tesis/tesis/data/output.mp4: 640x320 1 tv, 1 laptop, 38.2ms\n",
            "video 1/1 (221/372) /Users/pio/postgrado/tesis/tesis/data/output.mp4: 640x320 1 tv, 1 laptop, 38.3ms\n",
            "video 1/1 (222/372) /Users/pio/postgrado/tesis/tesis/data/output.mp4: 640x320 1 tv, 2 laptops, 39.6ms\n",
            "video 1/1 (223/372) /Users/pio/postgrado/tesis/tesis/data/output.mp4: 640x320 1 tv, 2 laptops, 38.1ms\n",
            "video 1/1 (224/372) /Users/pio/postgrado/tesis/tesis/data/output.mp4: 640x320 1 tv, 2 laptops, 38.1ms\n",
            "video 1/1 (225/372) /Users/pio/postgrado/tesis/tesis/data/output.mp4: 640x320 1 tv, 2 laptops, 40.8ms\n",
            "video 1/1 (226/372) /Users/pio/postgrado/tesis/tesis/data/output.mp4: 640x320 1 tv, 2 laptops, 40.9ms\n",
            "video 1/1 (227/372) /Users/pio/postgrado/tesis/tesis/data/output.mp4: 640x320 1 tv, 2 laptops, 38.4ms\n",
            "video 1/1 (228/372) /Users/pio/postgrado/tesis/tesis/data/output.mp4: 640x320 1 tv, 2 laptops, 37.1ms\n",
            "video 1/1 (229/372) /Users/pio/postgrado/tesis/tesis/data/output.mp4: 640x320 1 tv, 2 laptops, 36.9ms\n",
            "video 1/1 (230/372) /Users/pio/postgrado/tesis/tesis/data/output.mp4: 640x320 1 tv, 2 laptops, 37.7ms\n",
            "video 1/1 (231/372) /Users/pio/postgrado/tesis/tesis/data/output.mp4: 640x320 1 tv, 2 laptops, 40.7ms\n",
            "video 1/1 (232/372) /Users/pio/postgrado/tesis/tesis/data/output.mp4: 640x320 1 tv, 2 laptops, 36.7ms\n",
            "video 1/1 (233/372) /Users/pio/postgrado/tesis/tesis/data/output.mp4: 640x320 1 tv, 2 laptops, 36.7ms\n",
            "video 1/1 (234/372) /Users/pio/postgrado/tesis/tesis/data/output.mp4: 640x320 1 tv, 2 laptops, 36.6ms\n",
            "video 1/1 (235/372) /Users/pio/postgrado/tesis/tesis/data/output.mp4: 640x320 1 tv, 2 laptops, 37.8ms\n",
            "video 1/1 (236/372) /Users/pio/postgrado/tesis/tesis/data/output.mp4: 640x320 1 tv, 2 laptops, 38.0ms\n",
            "video 1/1 (237/372) /Users/pio/postgrado/tesis/tesis/data/output.mp4: 640x320 1 tv, 2 laptops, 38.1ms\n",
            "video 1/1 (238/372) /Users/pio/postgrado/tesis/tesis/data/output.mp4: 640x320 1 tv, 2 laptops, 36.5ms\n",
            "video 1/1 (239/372) /Users/pio/postgrado/tesis/tesis/data/output.mp4: 640x320 1 tv, 2 laptops, 37.6ms\n",
            "video 1/1 (240/372) /Users/pio/postgrado/tesis/tesis/data/output.mp4: 640x320 1 tv, 2 laptops, 37.0ms\n",
            "video 1/1 (241/372) /Users/pio/postgrado/tesis/tesis/data/output.mp4: 640x320 1 tv, 2 laptops, 38.6ms\n",
            "video 1/1 (242/372) /Users/pio/postgrado/tesis/tesis/data/output.mp4: 640x320 1 tv, 2 laptops, 35.6ms\n",
            "video 1/1 (243/372) /Users/pio/postgrado/tesis/tesis/data/output.mp4: 640x320 1 tv, 2 laptops, 37.4ms\n",
            "video 1/1 (244/372) /Users/pio/postgrado/tesis/tesis/data/output.mp4: 640x320 1 tv, 2 laptops, 37.8ms\n",
            "video 1/1 (245/372) /Users/pio/postgrado/tesis/tesis/data/output.mp4: 640x320 1 tv, 2 laptops, 41.9ms\n",
            "video 1/1 (246/372) /Users/pio/postgrado/tesis/tesis/data/output.mp4: 640x320 1 tv, 2 laptops, 38.4ms\n",
            "video 1/1 (247/372) /Users/pio/postgrado/tesis/tesis/data/output.mp4: 640x320 1 tv, 2 laptops, 37.4ms\n",
            "video 1/1 (248/372) /Users/pio/postgrado/tesis/tesis/data/output.mp4: 640x320 1 tv, 2 laptops, 36.4ms\n",
            "video 1/1 (249/372) /Users/pio/postgrado/tesis/tesis/data/output.mp4: 640x320 2 tvs, 2 laptops, 40.1ms\n",
            "video 1/1 (250/372) /Users/pio/postgrado/tesis/tesis/data/output.mp4: 640x320 2 tvs, 2 laptops, 41.1ms\n",
            "video 1/1 (251/372) /Users/pio/postgrado/tesis/tesis/data/output.mp4: 640x320 2 tvs, 2 laptops, 38.4ms\n",
            "video 1/1 (252/372) /Users/pio/postgrado/tesis/tesis/data/output.mp4: 640x320 2 tvs, 2 laptops, 39.3ms\n",
            "video 1/1 (253/372) /Users/pio/postgrado/tesis/tesis/data/output.mp4: 640x320 2 tvs, 2 laptops, 36.5ms\n",
            "video 1/1 (254/372) /Users/pio/postgrado/tesis/tesis/data/output.mp4: 640x320 1 tv, 2 laptops, 39.1ms\n",
            "video 1/1 (255/372) /Users/pio/postgrado/tesis/tesis/data/output.mp4: 640x320 1 tv, 2 laptops, 38.2ms\n",
            "video 1/1 (256/372) /Users/pio/postgrado/tesis/tesis/data/output.mp4: 640x320 1 tv, 2 laptops, 38.2ms\n",
            "video 1/1 (257/372) /Users/pio/postgrado/tesis/tesis/data/output.mp4: 640x320 1 tv, 2 laptops, 36.2ms\n",
            "video 1/1 (258/372) /Users/pio/postgrado/tesis/tesis/data/output.mp4: 640x320 1 tv, 2 laptops, 37.7ms\n",
            "video 1/1 (259/372) /Users/pio/postgrado/tesis/tesis/data/output.mp4: 640x320 1 tv, 2 laptops, 40.5ms\n",
            "video 1/1 (260/372) /Users/pio/postgrado/tesis/tesis/data/output.mp4: 640x320 1 tv, 2 laptops, 37.8ms\n",
            "video 1/1 (261/372) /Users/pio/postgrado/tesis/tesis/data/output.mp4: 640x320 1 tv, 2 laptops, 37.5ms\n",
            "video 1/1 (262/372) /Users/pio/postgrado/tesis/tesis/data/output.mp4: 640x320 1 tv, 2 laptops, 37.7ms\n",
            "video 1/1 (263/372) /Users/pio/postgrado/tesis/tesis/data/output.mp4: 640x320 1 tv, 2 laptops, 37.1ms\n",
            "video 1/1 (264/372) /Users/pio/postgrado/tesis/tesis/data/output.mp4: 640x320 1 tv, 2 laptops, 39.7ms\n",
            "video 1/1 (265/372) /Users/pio/postgrado/tesis/tesis/data/output.mp4: 640x320 1 tv, 2 laptops, 38.6ms\n",
            "video 1/1 (266/372) /Users/pio/postgrado/tesis/tesis/data/output.mp4: 640x320 1 tv, 2 laptops, 37.9ms\n",
            "video 1/1 (267/372) /Users/pio/postgrado/tesis/tesis/data/output.mp4: 640x320 1 tv, 2 laptops, 37.9ms\n",
            "video 1/1 (268/372) /Users/pio/postgrado/tesis/tesis/data/output.mp4: 640x320 1 tv, 2 laptops, 37.5ms\n",
            "video 1/1 (269/372) /Users/pio/postgrado/tesis/tesis/data/output.mp4: 640x320 1 tv, 2 laptops, 39.2ms\n",
            "video 1/1 (270/372) /Users/pio/postgrado/tesis/tesis/data/output.mp4: 640x320 (no detections), 36.8ms\n",
            "video 1/1 (271/372) /Users/pio/postgrado/tesis/tesis/data/output.mp4: 640x320 (no detections), 36.7ms\n",
            "video 1/1 (272/372) /Users/pio/postgrado/tesis/tesis/data/output.mp4: 640x320 (no detections), 37.3ms\n",
            "video 1/1 (273/372) /Users/pio/postgrado/tesis/tesis/data/output.mp4: 640x320 (no detections), 37.8ms\n",
            "video 1/1 (274/372) /Users/pio/postgrado/tesis/tesis/data/output.mp4: 640x320 (no detections), 36.3ms\n",
            "video 1/1 (275/372) /Users/pio/postgrado/tesis/tesis/data/output.mp4: 640x320 (no detections), 37.4ms\n",
            "video 1/1 (276/372) /Users/pio/postgrado/tesis/tesis/data/output.mp4: 640x320 (no detections), 37.0ms\n",
            "video 1/1 (277/372) /Users/pio/postgrado/tesis/tesis/data/output.mp4: 640x320 (no detections), 37.5ms\n",
            "video 1/1 (278/372) /Users/pio/postgrado/tesis/tesis/data/output.mp4: 640x320 (no detections), 37.8ms\n",
            "video 1/1 (279/372) /Users/pio/postgrado/tesis/tesis/data/output.mp4: 640x320 (no detections), 40.9ms\n",
            "video 1/1 (280/372) /Users/pio/postgrado/tesis/tesis/data/output.mp4: 640x320 (no detections), 39.5ms\n",
            "video 1/1 (281/372) /Users/pio/postgrado/tesis/tesis/data/output.mp4: 640x320 (no detections), 37.6ms\n",
            "video 1/1 (282/372) /Users/pio/postgrado/tesis/tesis/data/output.mp4: 640x320 (no detections), 38.3ms\n",
            "video 1/1 (283/372) /Users/pio/postgrado/tesis/tesis/data/output.mp4: 640x320 (no detections), 38.1ms\n",
            "video 1/1 (284/372) /Users/pio/postgrado/tesis/tesis/data/output.mp4: 640x320 (no detections), 39.9ms\n",
            "video 1/1 (285/372) /Users/pio/postgrado/tesis/tesis/data/output.mp4: 640x320 (no detections), 37.8ms\n",
            "video 1/1 (286/372) /Users/pio/postgrado/tesis/tesis/data/output.mp4: 640x320 (no detections), 36.4ms\n",
            "video 1/1 (287/372) /Users/pio/postgrado/tesis/tesis/data/output.mp4: 640x320 (no detections), 37.8ms\n",
            "video 1/1 (288/372) /Users/pio/postgrado/tesis/tesis/data/output.mp4: 640x320 (no detections), 36.6ms\n",
            "video 1/1 (289/372) /Users/pio/postgrado/tesis/tesis/data/output.mp4: 640x320 (no detections), 37.1ms\n",
            "video 1/1 (290/372) /Users/pio/postgrado/tesis/tesis/data/output.mp4: 640x320 (no detections), 35.7ms\n",
            "video 1/1 (291/372) /Users/pio/postgrado/tesis/tesis/data/output.mp4: 640x320 (no detections), 37.6ms\n",
            "video 1/1 (292/372) /Users/pio/postgrado/tesis/tesis/data/output.mp4: 640x320 (no detections), 36.8ms\n",
            "video 1/1 (293/372) /Users/pio/postgrado/tesis/tesis/data/output.mp4: 640x320 (no detections), 39.3ms\n",
            "video 1/1 (294/372) /Users/pio/postgrado/tesis/tesis/data/output.mp4: 640x320 (no detections), 38.8ms\n",
            "video 1/1 (295/372) /Users/pio/postgrado/tesis/tesis/data/output.mp4: 640x320 (no detections), 36.5ms\n",
            "video 1/1 (296/372) /Users/pio/postgrado/tesis/tesis/data/output.mp4: 640x320 (no detections), 37.9ms\n",
            "video 1/1 (297/372) /Users/pio/postgrado/tesis/tesis/data/output.mp4: 640x320 (no detections), 37.3ms\n",
            "video 1/1 (298/372) /Users/pio/postgrado/tesis/tesis/data/output.mp4: 640x320 (no detections), 36.9ms\n",
            "video 1/1 (299/372) /Users/pio/postgrado/tesis/tesis/data/output.mp4: 640x320 (no detections), 39.7ms\n",
            "video 1/1 (300/372) /Users/pio/postgrado/tesis/tesis/data/output.mp4: 640x320 (no detections), 48.2ms\n",
            "video 1/1 (301/372) /Users/pio/postgrado/tesis/tesis/data/output.mp4: 640x320 (no detections), 39.6ms\n",
            "video 1/1 (302/372) /Users/pio/postgrado/tesis/tesis/data/output.mp4: 640x320 (no detections), 36.4ms\n",
            "video 1/1 (303/372) /Users/pio/postgrado/tesis/tesis/data/output.mp4: 640x320 (no detections), 36.7ms\n",
            "video 1/1 (304/372) /Users/pio/postgrado/tesis/tesis/data/output.mp4: 640x320 (no detections), 36.5ms\n",
            "video 1/1 (305/372) /Users/pio/postgrado/tesis/tesis/data/output.mp4: 640x320 (no detections), 35.9ms\n",
            "video 1/1 (306/372) /Users/pio/postgrado/tesis/tesis/data/output.mp4: 640x320 (no detections), 35.3ms\n",
            "video 1/1 (307/372) /Users/pio/postgrado/tesis/tesis/data/output.mp4: 640x320 (no detections), 36.1ms\n",
            "video 1/1 (308/372) /Users/pio/postgrado/tesis/tesis/data/output.mp4: 640x320 (no detections), 36.1ms\n",
            "video 1/1 (309/372) /Users/pio/postgrado/tesis/tesis/data/output.mp4: 640x320 (no detections), 36.3ms\n",
            "video 1/1 (310/372) /Users/pio/postgrado/tesis/tesis/data/output.mp4: 640x320 (no detections), 35.5ms\n",
            "video 1/1 (311/372) /Users/pio/postgrado/tesis/tesis/data/output.mp4: 640x320 (no detections), 36.8ms\n",
            "video 1/1 (312/372) /Users/pio/postgrado/tesis/tesis/data/output.mp4: 640x320 (no detections), 37.1ms\n",
            "video 1/1 (313/372) /Users/pio/postgrado/tesis/tesis/data/output.mp4: 640x320 (no detections), 35.4ms\n",
            "video 1/1 (314/372) /Users/pio/postgrado/tesis/tesis/data/output.mp4: 640x320 (no detections), 38.8ms\n",
            "video 1/1 (315/372) /Users/pio/postgrado/tesis/tesis/data/output.mp4: 640x320 (no detections), 38.9ms\n",
            "video 1/1 (316/372) /Users/pio/postgrado/tesis/tesis/data/output.mp4: 640x320 (no detections), 38.1ms\n",
            "video 1/1 (317/372) /Users/pio/postgrado/tesis/tesis/data/output.mp4: 640x320 (no detections), 35.1ms\n",
            "video 1/1 (318/372) /Users/pio/postgrado/tesis/tesis/data/output.mp4: 640x320 (no detections), 35.2ms\n",
            "video 1/1 (319/372) /Users/pio/postgrado/tesis/tesis/data/output.mp4: 640x320 (no detections), 36.9ms\n",
            "video 1/1 (320/372) /Users/pio/postgrado/tesis/tesis/data/output.mp4: 640x320 (no detections), 36.2ms\n",
            "video 1/1 (321/372) /Users/pio/postgrado/tesis/tesis/data/output.mp4: 640x320 (no detections), 36.6ms\n",
            "video 1/1 (322/372) /Users/pio/postgrado/tesis/tesis/data/output.mp4: 640x320 (no detections), 36.2ms\n",
            "video 1/1 (323/372) /Users/pio/postgrado/tesis/tesis/data/output.mp4: 640x320 (no detections), 36.0ms\n",
            "video 1/1 (324/372) /Users/pio/postgrado/tesis/tesis/data/output.mp4: 640x320 (no detections), 40.4ms\n",
            "video 1/1 (325/372) /Users/pio/postgrado/tesis/tesis/data/output.mp4: 640x320 (no detections), 37.5ms\n",
            "video 1/1 (326/372) /Users/pio/postgrado/tesis/tesis/data/output.mp4: 640x320 (no detections), 38.6ms\n",
            "video 1/1 (327/372) /Users/pio/postgrado/tesis/tesis/data/output.mp4: 640x320 (no detections), 36.9ms\n",
            "video 1/1 (328/372) /Users/pio/postgrado/tesis/tesis/data/output.mp4: 640x320 (no detections), 34.7ms\n",
            "video 1/1 (329/372) /Users/pio/postgrado/tesis/tesis/data/output.mp4: 640x320 (no detections), 35.1ms\n",
            "video 1/1 (330/372) /Users/pio/postgrado/tesis/tesis/data/output.mp4: 640x320 (no detections), 36.0ms\n",
            "video 1/1 (331/372) /Users/pio/postgrado/tesis/tesis/data/output.mp4: 640x320 (no detections), 32.9ms\n",
            "video 1/1 (332/372) /Users/pio/postgrado/tesis/tesis/data/output.mp4: 640x320 (no detections), 35.6ms\n",
            "video 1/1 (333/372) /Users/pio/postgrado/tesis/tesis/data/output.mp4: 640x320 (no detections), 35.4ms\n",
            "video 1/1 (334/372) /Users/pio/postgrado/tesis/tesis/data/output.mp4: 640x320 (no detections), 35.7ms\n",
            "video 1/1 (335/372) /Users/pio/postgrado/tesis/tesis/data/output.mp4: 640x320 (no detections), 36.1ms\n",
            "video 1/1 (336/372) /Users/pio/postgrado/tesis/tesis/data/output.mp4: 640x320 (no detections), 36.0ms\n",
            "video 1/1 (337/372) /Users/pio/postgrado/tesis/tesis/data/output.mp4: 640x320 (no detections), 34.1ms\n",
            "video 1/1 (338/372) /Users/pio/postgrado/tesis/tesis/data/output.mp4: 640x320 (no detections), 34.0ms\n",
            "video 1/1 (339/372) /Users/pio/postgrado/tesis/tesis/data/output.mp4: 640x320 (no detections), 36.5ms\n",
            "video 1/1 (340/372) /Users/pio/postgrado/tesis/tesis/data/output.mp4: 640x320 (no detections), 36.0ms\n",
            "video 1/1 (341/372) /Users/pio/postgrado/tesis/tesis/data/output.mp4: 640x320 (no detections), 36.5ms\n",
            "video 1/1 (342/372) /Users/pio/postgrado/tesis/tesis/data/output.mp4: 640x320 (no detections), 35.3ms\n",
            "video 1/1 (343/372) /Users/pio/postgrado/tesis/tesis/data/output.mp4: 640x320 (no detections), 35.1ms\n",
            "video 1/1 (344/372) /Users/pio/postgrado/tesis/tesis/data/output.mp4: 640x320 (no detections), 35.9ms\n",
            "video 1/1 (345/372) /Users/pio/postgrado/tesis/tesis/data/output.mp4: 640x320 (no detections), 33.3ms\n",
            "video 1/1 (346/372) /Users/pio/postgrado/tesis/tesis/data/output.mp4: 640x320 (no detections), 35.2ms\n",
            "video 1/1 (347/372) /Users/pio/postgrado/tesis/tesis/data/output.mp4: 640x320 (no detections), 36.3ms\n",
            "video 1/1 (348/372) /Users/pio/postgrado/tesis/tesis/data/output.mp4: 640x320 (no detections), 35.2ms\n",
            "video 1/1 (349/372) /Users/pio/postgrado/tesis/tesis/data/output.mp4: 640x320 (no detections), 34.6ms\n",
            "video 1/1 (350/372) /Users/pio/postgrado/tesis/tesis/data/output.mp4: 640x320 (no detections), 35.0ms\n",
            "video 1/1 (351/372) /Users/pio/postgrado/tesis/tesis/data/output.mp4: 640x320 (no detections), 36.0ms\n",
            "video 1/1 (352/372) /Users/pio/postgrado/tesis/tesis/data/output.mp4: 640x320 (no detections), 33.8ms\n",
            "video 1/1 (353/372) /Users/pio/postgrado/tesis/tesis/data/output.mp4: 640x320 (no detections), 35.0ms\n",
            "video 1/1 (354/372) /Users/pio/postgrado/tesis/tesis/data/output.mp4: 640x320 (no detections), 35.5ms\n",
            "video 1/1 (355/372) /Users/pio/postgrado/tesis/tesis/data/output.mp4: 640x320 (no detections), 35.3ms\n",
            "video 1/1 (356/372) /Users/pio/postgrado/tesis/tesis/data/output.mp4: 640x320 (no detections), 36.2ms\n",
            "video 1/1 (357/372) /Users/pio/postgrado/tesis/tesis/data/output.mp4: 640x320 (no detections), 35.2ms\n",
            "video 1/1 (358/372) /Users/pio/postgrado/tesis/tesis/data/output.mp4: 640x320 1 tv, 2 laptops, 38.2ms\n",
            "video 1/1 (359/372) /Users/pio/postgrado/tesis/tesis/data/output.mp4: 640x320 1 tv, 2 laptops, 65.5ms\n",
            "video 1/1 (360/372) /Users/pio/postgrado/tesis/tesis/data/output.mp4: 640x320 1 tv, 2 laptops, 38.1ms\n",
            "video 1/1 (361/372) /Users/pio/postgrado/tesis/tesis/data/output.mp4: 640x320 1 tv, 2 laptops, 37.4ms\n",
            "video 1/1 (362/372) /Users/pio/postgrado/tesis/tesis/data/output.mp4: 640x320 1 tv, 2 laptops, 38.8ms\n",
            "video 1/1 (363/372) /Users/pio/postgrado/tesis/tesis/data/output.mp4: 640x320 1 tv, 2 laptops, 37.7ms\n",
            "video 1/1 (364/372) /Users/pio/postgrado/tesis/tesis/data/output.mp4: 640x320 1 tv, 2 laptops, 42.1ms\n",
            "video 1/1 (365/372) /Users/pio/postgrado/tesis/tesis/data/output.mp4: 640x320 1 tv, 2 laptops, 37.4ms\n",
            "video 1/1 (366/372) /Users/pio/postgrado/tesis/tesis/data/output.mp4: 640x320 1 tv, 2 laptops, 37.1ms\n",
            "video 1/1 (367/372) /Users/pio/postgrado/tesis/tesis/data/output.mp4: 640x320 1 tv, 2 laptops, 40.9ms\n",
            "video 1/1 (368/372) /Users/pio/postgrado/tesis/tesis/data/output.mp4: 640x320 1 tv, 2 laptops, 37.6ms\n",
            "video 1/1 (369/372) /Users/pio/postgrado/tesis/tesis/data/output.mp4: 640x320 1 tv, 2 laptops, 36.9ms\n",
            "video 1/1 (370/372) /Users/pio/postgrado/tesis/tesis/data/output.mp4: 640x320 1 tv, 2 laptops, 37.1ms\n",
            "video 1/1 (371/372) /Users/pio/postgrado/tesis/tesis/data/output.mp4: 640x320 1 tv, 2 laptops, 38.0ms\n",
            "video 1/1 (372/372) /Users/pio/postgrado/tesis/tesis/data/output.mp4: 640x320 1 tv, 2 laptops, 38.0ms\n",
            "Speed: 1.0ms preprocess, 38.8ms inference, 0.4ms postprocess per image at shape (1, 3, 640, 320)\n"
          ]
        },
        {
          "data": {
            "text/plain": [
              "ultralytics.engine.results.Boxes object with attributes:\n",
              "\n",
              "cls: tensor([67., 67.])\n",
              "conf: tensor([0.3059, 0.2533])\n",
              "data: tensor([[1.6263e+00, 4.4522e+02, 1.0542e+02, 5.5189e+02, 3.0590e-01, 6.7000e+01],\n",
              "        [1.6810e+00, 3.1726e+02, 1.0339e+02, 4.3934e+02, 2.5326e-01, 6.7000e+01]])\n",
              "id: None\n",
              "is_track: False\n",
              "orig_shape: (720, 344)\n",
              "shape: torch.Size([2, 6])\n",
              "xywh: tensor([[ 53.5219, 498.5569, 103.7914, 106.6740],\n",
              "        [ 52.5339, 378.3033, 101.7057, 122.0791]])\n",
              "xywhn: tensor([[0.1556, 0.6924, 0.3017, 0.1482],\n",
              "        [0.1527, 0.5254, 0.2957, 0.1696]])\n",
              "xyxy: tensor([[  1.6263, 445.2199, 105.4176, 551.8939],\n",
              "        [  1.6810, 317.2637, 103.3867, 439.3428]])\n",
              "xyxyn: tensor([[0.0047, 0.6184, 0.3064, 0.7665],\n",
              "        [0.0049, 0.4406, 0.3005, 0.6102]])"
            ]
          },
          "execution_count": 19,
          "metadata": {},
          "output_type": "execute_result"
        }
      ],
      "source": [
        "rwsult = model('/Users/pio/postgrado/tesis/tesis/data/output.mp4')\n",
        "rwsult[0].boxes"
      ]
    }
  ],
  "metadata": {
    "accelerator": "GPU",
    "colab": {
      "machine_shape": "hm",
      "provenance": []
    },
    "kernelspec": {
      "display_name": "Python 3 (ipykernel)",
      "language": "python",
      "name": "python3"
    },
    "language_info": {
      "codemirror_mode": {
        "name": "ipython",
        "version": 3
      },
      "file_extension": ".py",
      "mimetype": "text/x-python",
      "name": "python",
      "nbconvert_exporter": "python",
      "pygments_lexer": "ipython3",
      "version": "3.11.3"
    },
    "widgets": {
      "application/vnd.jupyter.widget-state+json": {
        "0f649f0dcc244a289880dcef0efba419": {
          "model_module": "@jupyter-widgets/controls",
          "model_module_version": "1.5.0",
          "model_name": "DescriptionStyleModel",
          "state": {
            "_model_module": "@jupyter-widgets/controls",
            "_model_module_version": "1.5.0",
            "_model_name": "DescriptionStyleModel",
            "_view_count": null,
            "_view_module": "@jupyter-widgets/base",
            "_view_module_version": "1.2.0",
            "_view_name": "StyleView",
            "description_width": ""
          }
        },
        "2c81c11c82dd47f990b3bbea168e09b8": {
          "model_module": "@jupyter-widgets/base",
          "model_module_version": "1.2.0",
          "model_name": "LayoutModel",
          "state": {
            "_model_module": "@jupyter-widgets/base",
            "_model_module_version": "1.2.0",
            "_model_name": "LayoutModel",
            "_view_count": null,
            "_view_module": "@jupyter-widgets/base",
            "_view_module_version": "1.2.0",
            "_view_name": "LayoutView",
            "align_content": null,
            "align_items": null,
            "align_self": null,
            "border": null,
            "bottom": null,
            "display": null,
            "flex": null,
            "flex_flow": null,
            "grid_area": null,
            "grid_auto_columns": null,
            "grid_auto_flow": null,
            "grid_auto_rows": null,
            "grid_column": null,
            "grid_gap": null,
            "grid_row": null,
            "grid_template_areas": null,
            "grid_template_columns": null,
            "grid_template_rows": null,
            "height": null,
            "justify_content": null,
            "justify_items": null,
            "left": null,
            "margin": null,
            "max_height": null,
            "max_width": null,
            "min_height": null,
            "min_width": null,
            "object_fit": null,
            "object_position": null,
            "order": null,
            "overflow": null,
            "overflow_x": null,
            "overflow_y": null,
            "padding": null,
            "right": null,
            "top": null,
            "visibility": null,
            "width": null
          }
        },
        "47bede97ac7d473da74293e624cf66df": {
          "model_module": "@jupyter-widgets/controls",
          "model_module_version": "1.5.0",
          "model_name": "DescriptionStyleModel",
          "state": {
            "_model_module": "@jupyter-widgets/controls",
            "_model_module_version": "1.5.0",
            "_model_name": "DescriptionStyleModel",
            "_view_count": null,
            "_view_module": "@jupyter-widgets/base",
            "_view_module_version": "1.2.0",
            "_view_name": "StyleView",
            "description_width": ""
          }
        },
        "4fe372123b7e499b8e4e9d62a54eac1e": {
          "model_module": "@jupyter-widgets/controls",
          "model_module_version": "1.5.0",
          "model_name": "FloatProgressModel",
          "state": {
            "_dom_classes": [],
            "_model_module": "@jupyter-widgets/controls",
            "_model_module_version": "1.5.0",
            "_model_name": "FloatProgressModel",
            "_view_count": null,
            "_view_module": "@jupyter-widgets/controls",
            "_view_module_version": "1.5.0",
            "_view_name": "ProgressView",
            "bar_style": "",
            "description": "",
            "description_tooltip": null,
            "layout": "IPY_MODEL_2c81c11c82dd47f990b3bbea168e09b8",
            "max": 1,
            "min": 0,
            "orientation": "horizontal",
            "style": "IPY_MODEL_a122987043c84413959f280bf4d6701f",
            "value": 1
          }
        },
        "559ff52f270c44748fbbeb068dae86e9": {
          "model_module": "@jupyter-widgets/controls",
          "model_module_version": "1.5.0",
          "model_name": "LabelModel",
          "state": {
            "_dom_classes": [],
            "_model_module": "@jupyter-widgets/controls",
            "_model_module_version": "1.5.0",
            "_model_name": "LabelModel",
            "_view_count": null,
            "_view_module": "@jupyter-widgets/controls",
            "_view_module_version": "1.5.0",
            "_view_name": "LabelView",
            "description": "",
            "description_tooltip": null,
            "layout": "IPY_MODEL_bb3f5d6b71184d71b976c9efd8b902ad",
            "placeholder": "​",
            "style": "IPY_MODEL_0f649f0dcc244a289880dcef0efba419",
            "value": "0.017 MB of 0.017 MB uploaded\r"
          }
        },
        "5b54a1bdeb824e108b26a6c760b8b425": {
          "model_module": "@jupyter-widgets/base",
          "model_module_version": "1.2.0",
          "model_name": "LayoutModel",
          "state": {
            "_model_module": "@jupyter-widgets/base",
            "_model_module_version": "1.2.0",
            "_model_name": "LayoutModel",
            "_view_count": null,
            "_view_module": "@jupyter-widgets/base",
            "_view_module_version": "1.2.0",
            "_view_name": "LayoutView",
            "align_content": null,
            "align_items": null,
            "align_self": null,
            "border": null,
            "bottom": null,
            "display": null,
            "flex": null,
            "flex_flow": null,
            "grid_area": null,
            "grid_auto_columns": null,
            "grid_auto_flow": null,
            "grid_auto_rows": null,
            "grid_column": null,
            "grid_gap": null,
            "grid_row": null,
            "grid_template_areas": null,
            "grid_template_columns": null,
            "grid_template_rows": null,
            "height": null,
            "justify_content": null,
            "justify_items": null,
            "left": null,
            "margin": null,
            "max_height": null,
            "max_width": null,
            "min_height": null,
            "min_width": null,
            "object_fit": null,
            "object_position": null,
            "order": null,
            "overflow": null,
            "overflow_x": null,
            "overflow_y": null,
            "padding": null,
            "right": null,
            "top": null,
            "visibility": null,
            "width": null
          }
        },
        "6f2fff3f25fe413dbab7fbb5a272e215": {
          "model_module": "@jupyter-widgets/controls",
          "model_module_version": "1.5.0",
          "model_name": "FloatProgressModel",
          "state": {
            "_dom_classes": [],
            "_model_module": "@jupyter-widgets/controls",
            "_model_module_version": "1.5.0",
            "_model_name": "FloatProgressModel",
            "_view_count": null,
            "_view_module": "@jupyter-widgets/controls",
            "_view_module_version": "1.5.0",
            "_view_name": "ProgressView",
            "bar_style": "",
            "description": "",
            "description_tooltip": null,
            "layout": "IPY_MODEL_5b54a1bdeb824e108b26a6c760b8b425",
            "max": 1,
            "min": 0,
            "orientation": "horizontal",
            "style": "IPY_MODEL_d1e250d0d1274af992db08e261f2b446",
            "value": 1
          }
        },
        "7d8b9758dab6438784b5887bb25c37ab": {
          "model_module": "@jupyter-widgets/base",
          "model_module_version": "1.2.0",
          "model_name": "LayoutModel",
          "state": {
            "_model_module": "@jupyter-widgets/base",
            "_model_module_version": "1.2.0",
            "_model_name": "LayoutModel",
            "_view_count": null,
            "_view_module": "@jupyter-widgets/base",
            "_view_module_version": "1.2.0",
            "_view_name": "LayoutView",
            "align_content": null,
            "align_items": null,
            "align_self": null,
            "border": null,
            "bottom": null,
            "display": null,
            "flex": null,
            "flex_flow": null,
            "grid_area": null,
            "grid_auto_columns": null,
            "grid_auto_flow": null,
            "grid_auto_rows": null,
            "grid_column": null,
            "grid_gap": null,
            "grid_row": null,
            "grid_template_areas": null,
            "grid_template_columns": null,
            "grid_template_rows": null,
            "height": null,
            "justify_content": null,
            "justify_items": null,
            "left": null,
            "margin": null,
            "max_height": null,
            "max_width": null,
            "min_height": null,
            "min_width": null,
            "object_fit": null,
            "object_position": null,
            "order": null,
            "overflow": null,
            "overflow_x": null,
            "overflow_y": null,
            "padding": null,
            "right": null,
            "top": null,
            "visibility": null,
            "width": null
          }
        },
        "a122987043c84413959f280bf4d6701f": {
          "model_module": "@jupyter-widgets/controls",
          "model_module_version": "1.5.0",
          "model_name": "ProgressStyleModel",
          "state": {
            "_model_module": "@jupyter-widgets/controls",
            "_model_module_version": "1.5.0",
            "_model_name": "ProgressStyleModel",
            "_view_count": null,
            "_view_module": "@jupyter-widgets/base",
            "_view_module_version": "1.2.0",
            "_view_name": "StyleView",
            "bar_color": null,
            "description_width": ""
          }
        },
        "bb3f5d6b71184d71b976c9efd8b902ad": {
          "model_module": "@jupyter-widgets/base",
          "model_module_version": "1.2.0",
          "model_name": "LayoutModel",
          "state": {
            "_model_module": "@jupyter-widgets/base",
            "_model_module_version": "1.2.0",
            "_model_name": "LayoutModel",
            "_view_count": null,
            "_view_module": "@jupyter-widgets/base",
            "_view_module_version": "1.2.0",
            "_view_name": "LayoutView",
            "align_content": null,
            "align_items": null,
            "align_self": null,
            "border": null,
            "bottom": null,
            "display": null,
            "flex": null,
            "flex_flow": null,
            "grid_area": null,
            "grid_auto_columns": null,
            "grid_auto_flow": null,
            "grid_auto_rows": null,
            "grid_column": null,
            "grid_gap": null,
            "grid_row": null,
            "grid_template_areas": null,
            "grid_template_columns": null,
            "grid_template_rows": null,
            "height": null,
            "justify_content": null,
            "justify_items": null,
            "left": null,
            "margin": null,
            "max_height": null,
            "max_width": null,
            "min_height": null,
            "min_width": null,
            "object_fit": null,
            "object_position": null,
            "order": null,
            "overflow": null,
            "overflow_x": null,
            "overflow_y": null,
            "padding": null,
            "right": null,
            "top": null,
            "visibility": null,
            "width": null
          }
        },
        "cc0c09baf2f843618935a78f3f92e3d9": {
          "model_module": "@jupyter-widgets/controls",
          "model_module_version": "1.5.0",
          "model_name": "LabelModel",
          "state": {
            "_dom_classes": [],
            "_model_module": "@jupyter-widgets/controls",
            "_model_module_version": "1.5.0",
            "_model_name": "LabelModel",
            "_view_count": null,
            "_view_module": "@jupyter-widgets/controls",
            "_view_module_version": "1.5.0",
            "_view_name": "LabelView",
            "description": "",
            "description_tooltip": null,
            "layout": "IPY_MODEL_e135375641bb4ef48a2dc1bad69f44ad",
            "placeholder": "​",
            "style": "IPY_MODEL_47bede97ac7d473da74293e624cf66df",
            "value": "0.017 MB of 0.017 MB uploaded\r"
          }
        },
        "cec6d7d4cb8845958487a07a5e1e2eb3": {
          "model_module": "@jupyter-widgets/controls",
          "model_module_version": "1.5.0",
          "model_name": "VBoxModel",
          "state": {
            "_dom_classes": [],
            "_model_module": "@jupyter-widgets/controls",
            "_model_module_version": "1.5.0",
            "_model_name": "VBoxModel",
            "_view_count": null,
            "_view_module": "@jupyter-widgets/controls",
            "_view_module_version": "1.5.0",
            "_view_name": "VBoxView",
            "box_style": "",
            "children": [
              "IPY_MODEL_559ff52f270c44748fbbeb068dae86e9",
              "IPY_MODEL_4fe372123b7e499b8e4e9d62a54eac1e"
            ],
            "layout": "IPY_MODEL_ddbe4a8a47234971b7176c2a36e22c88"
          }
        },
        "d1e250d0d1274af992db08e261f2b446": {
          "model_module": "@jupyter-widgets/controls",
          "model_module_version": "1.5.0",
          "model_name": "ProgressStyleModel",
          "state": {
            "_model_module": "@jupyter-widgets/controls",
            "_model_module_version": "1.5.0",
            "_model_name": "ProgressStyleModel",
            "_view_count": null,
            "_view_module": "@jupyter-widgets/base",
            "_view_module_version": "1.2.0",
            "_view_name": "StyleView",
            "bar_color": null,
            "description_width": ""
          }
        },
        "ddbe4a8a47234971b7176c2a36e22c88": {
          "model_module": "@jupyter-widgets/base",
          "model_module_version": "1.2.0",
          "model_name": "LayoutModel",
          "state": {
            "_model_module": "@jupyter-widgets/base",
            "_model_module_version": "1.2.0",
            "_model_name": "LayoutModel",
            "_view_count": null,
            "_view_module": "@jupyter-widgets/base",
            "_view_module_version": "1.2.0",
            "_view_name": "LayoutView",
            "align_content": null,
            "align_items": null,
            "align_self": null,
            "border": null,
            "bottom": null,
            "display": null,
            "flex": null,
            "flex_flow": null,
            "grid_area": null,
            "grid_auto_columns": null,
            "grid_auto_flow": null,
            "grid_auto_rows": null,
            "grid_column": null,
            "grid_gap": null,
            "grid_row": null,
            "grid_template_areas": null,
            "grid_template_columns": null,
            "grid_template_rows": null,
            "height": null,
            "justify_content": null,
            "justify_items": null,
            "left": null,
            "margin": null,
            "max_height": null,
            "max_width": null,
            "min_height": null,
            "min_width": null,
            "object_fit": null,
            "object_position": null,
            "order": null,
            "overflow": null,
            "overflow_x": null,
            "overflow_y": null,
            "padding": null,
            "right": null,
            "top": null,
            "visibility": null,
            "width": null
          }
        },
        "e135375641bb4ef48a2dc1bad69f44ad": {
          "model_module": "@jupyter-widgets/base",
          "model_module_version": "1.2.0",
          "model_name": "LayoutModel",
          "state": {
            "_model_module": "@jupyter-widgets/base",
            "_model_module_version": "1.2.0",
            "_model_name": "LayoutModel",
            "_view_count": null,
            "_view_module": "@jupyter-widgets/base",
            "_view_module_version": "1.2.0",
            "_view_name": "LayoutView",
            "align_content": null,
            "align_items": null,
            "align_self": null,
            "border": null,
            "bottom": null,
            "display": null,
            "flex": null,
            "flex_flow": null,
            "grid_area": null,
            "grid_auto_columns": null,
            "grid_auto_flow": null,
            "grid_auto_rows": null,
            "grid_column": null,
            "grid_gap": null,
            "grid_row": null,
            "grid_template_areas": null,
            "grid_template_columns": null,
            "grid_template_rows": null,
            "height": null,
            "justify_content": null,
            "justify_items": null,
            "left": null,
            "margin": null,
            "max_height": null,
            "max_width": null,
            "min_height": null,
            "min_width": null,
            "object_fit": null,
            "object_position": null,
            "order": null,
            "overflow": null,
            "overflow_x": null,
            "overflow_y": null,
            "padding": null,
            "right": null,
            "top": null,
            "visibility": null,
            "width": null
          }
        },
        "f323bcb5d3a64bb0b68f639326bd7dbf": {
          "model_module": "@jupyter-widgets/controls",
          "model_module_version": "1.5.0",
          "model_name": "VBoxModel",
          "state": {
            "_dom_classes": [],
            "_model_module": "@jupyter-widgets/controls",
            "_model_module_version": "1.5.0",
            "_model_name": "VBoxModel",
            "_view_count": null,
            "_view_module": "@jupyter-widgets/controls",
            "_view_module_version": "1.5.0",
            "_view_name": "VBoxView",
            "box_style": "",
            "children": [
              "IPY_MODEL_cc0c09baf2f843618935a78f3f92e3d9",
              "IPY_MODEL_6f2fff3f25fe413dbab7fbb5a272e215"
            ],
            "layout": "IPY_MODEL_7d8b9758dab6438784b5887bb25c37ab"
          }
        }
      }
    }
  },
  "nbformat": 4,
  "nbformat_minor": 0
}
