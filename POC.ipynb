{
  "cells": [
    {
      "cell_type": "code",
      "execution_count": 6,
      "metadata": {
        "colab": {
          "base_uri": "https://localhost:8080/"
        },
        "id": "MiIlbxxCZztR",
        "outputId": "3ca561fc-eb6f-49c7-db29-94fecb596dbc"
      },
      "outputs": [],
      "source": [
        "\n",
        "# import zipfile\n",
        "\n",
        "# # Ruta del archivo ZIP\n",
        "# zip_file_path = '/content/tesis-main.zip'\n",
        "\n",
        "# # Ruta donde quieres extraer los archivos\n",
        "# extract_to_path = '/content/'\n",
        "\n",
        "# # Descomprimir el archivo\n",
        "# with zipfile.ZipFile(zip_file_path, 'r') as zip_ref:\n",
        "#     zip_ref.extractall(extract_to_path)\n",
        "\n",
        "# print(\"Archivos extraídos con éxito.\")"
      ]
    },
    {
      "cell_type": "code",
      "execution_count": 7,
      "metadata": {
        "id": "lm2ziiykMZF1"
      },
      "outputs": [
        {
          "data": {
            "text/plain": [
              "True"
            ]
          },
          "execution_count": 7,
          "metadata": {},
          "output_type": "execute_result"
        }
      ],
      "source": [
        "# import sys\n",
        "# sys.path.append('/content/tesis-main/')\n",
        "\n",
        "from dotenv import load_dotenv\n",
        "\n",
        "load_dotenv()"
      ]
    },
    {
      "cell_type": "code",
      "execution_count": 8,
      "metadata": {
        "colab": {
          "base_uri": "https://localhost:8080/",
          "height": 567
        },
        "id": "TR-nZRfNNLUa",
        "outputId": "9539c464-eae7-4ba1-cf17-6d7116f9edce"
      },
      "outputs": [],
      "source": [
        "\n",
        "# import drive as drive_downloader\n",
        "# drive_downloader.download_files('14_UUqgoWDPPNwXvdFjDoJomHTu5l85l6')"
      ]
    },
    {
      "cell_type": "markdown",
      "metadata": {
        "id": "LgMLLHeZVfIu"
      },
      "source": [
        "* Carga el video utilizando cv2.VideoCapture.\n",
        "* Extrae los frames del video uno por uno.\n",
        "* Preprocesa cada frame para que sean compatibles con el modelo de PyTorch (tamaño, normalización, etc.).\n",
        "* Usa un modelo preentrenado de PyTorch (como ResNet) para extraer características de cada frame.\n",
        "* Aplica un algoritmo de clustering (como K-Means) a las características extraídas.\n",
        "* Asigna cada frame al cluster correspondiente.\n",
        "* Visualiza los resultados mostrando los frames y su cluster correspondiente."
      ]
    },
    {
      "cell_type": "code",
      "execution_count": 9,
      "metadata": {
        "id": "A3AVlVaAdpDc"
      },
      "outputs": [
        {
          "name": "stderr",
          "output_type": "stream",
          "text": [
            "\u001b[34m\u001b[1mwandb\u001b[0m: \u001b[33mWARNING\u001b[0m Calling wandb.login() after wandb.init() has no effect.\n"
          ]
        },
        {
          "data": {
            "text/plain": [
              "True"
            ]
          },
          "execution_count": 9,
          "metadata": {},
          "output_type": "execute_result"
        }
      ],
      "source": [
        "import torch\n",
        "from sklearn.cluster import AgglomerativeClustering\n",
        "import warnings\n",
        "from preprocessing.transforms import BASELINE\n",
        "from clustering.metrics import eval_massive_cluster\n",
        "from experiment_framework import experiment\n",
        "from validation import VALIDATION_DATASET\n",
        "from utils import load_dataset\n",
        "warnings.filterwarnings('ignore')\n",
        "import wandb\n",
        "\n",
        "torch.manual_seed(47)\n",
        "import random\n",
        "random.seed(47)\n",
        "import numpy as np\n",
        "np.random.seed(47)\n",
        "\n",
        "if torch.cuda.is_available():\n",
        " dev = \"cuda:0\"\n",
        "else:\n",
        " dev = \"cpu\"\n",
        "\n",
        "\n",
        "device = torch.device(dev)\n",
        "epochs = 10\n",
        "steps=1\n",
        "clustering_eval_function = lambda cluster_labels, tags: eval_massive_cluster(cluster_labels, tags, steps, epochs)\n",
        "\n",
        "dataset_loader = load_dataset(VALIDATION_DATASET.keys())\n",
        "\n",
        "wandb.login()"
      ]
    },
    {
      "cell_type": "code",
      "execution_count": 11,
      "metadata": {
        "colab": {
          "base_uri": "https://localhost:8080/",
          "height": 711,
          "referenced_widgets": [
            "cec6d7d4cb8845958487a07a5e1e2eb3",
            "559ff52f270c44748fbbeb068dae86e9",
            "4fe372123b7e499b8e4e9d62a54eac1e",
            "ddbe4a8a47234971b7176c2a36e22c88",
            "bb3f5d6b71184d71b976c9efd8b902ad",
            "0f649f0dcc244a289880dcef0efba419",
            "2c81c11c82dd47f990b3bbea168e09b8",
            "a122987043c84413959f280bf4d6701f",
            "f323bcb5d3a64bb0b68f639326bd7dbf",
            "cc0c09baf2f843618935a78f3f92e3d9",
            "6f2fff3f25fe413dbab7fbb5a272e215",
            "7d8b9758dab6438784b5887bb25c37ab",
            "e135375641bb4ef48a2dc1bad69f44ad",
            "47bede97ac7d473da74293e624cf66df",
            "5b54a1bdeb824e108b26a6c760b8b425",
            "d1e250d0d1274af992db08e261f2b446"
          ]
        },
        "id": "iVwFyfnbAsl9",
        "outputId": "bc275d4e-ce22-4707-cb97-468307c64139"
      },
      "outputs": [
        {
          "data": {
            "text/html": [
              "Finishing last run (ID:powh65ce) before initializing another..."
            ],
            "text/plain": [
              "<IPython.core.display.HTML object>"
            ]
          },
          "metadata": {},
          "output_type": "display_data"
        },
        {
          "name": "stderr",
          "output_type": "stream",
          "text": [
            "wandb: WARNING Source type is set to 'repo' but some required information is missing from the environment. A job will not be created from this run. See https://docs.wandb.ai/guides/launch/create-job\n"
          ]
        },
        {
          "data": {
            "text/html": [
              " View run <strong style=\"color:#cdcd00\">stellar-field-145</strong> at: <a href='https://wandb.ai/hortensias/ort-tesis/runs/powh65ce' target=\"_blank\">https://wandb.ai/hortensias/ort-tesis/runs/powh65ce</a><br/>Synced 5 W&B file(s), 0 media file(s), 0 artifact file(s) and 0 other file(s)"
            ],
            "text/plain": [
              "<IPython.core.display.HTML object>"
            ]
          },
          "metadata": {},
          "output_type": "display_data"
        },
        {
          "data": {
            "text/html": [
              "Find logs at: <code>./wandb/run-20240126_212049-powh65ce/logs</code>"
            ],
            "text/plain": [
              "<IPython.core.display.HTML object>"
            ]
          },
          "metadata": {},
          "output_type": "display_data"
        },
        {
          "data": {
            "text/html": [
              "Successfully finished last run (ID:powh65ce). Initializing new run:<br/>"
            ],
            "text/plain": [
              "<IPython.core.display.HTML object>"
            ]
          },
          "metadata": {},
          "output_type": "display_data"
        },
        {
          "data": {
            "text/html": [
              "wandb version 0.16.2 is available!  To upgrade, please run:\n",
              " $ pip install wandb --upgrade"
            ],
            "text/plain": [
              "<IPython.core.display.HTML object>"
            ]
          },
          "metadata": {},
          "output_type": "display_data"
        },
        {
          "data": {
            "text/html": [
              "Tracking run with wandb version 0.16.1"
            ],
            "text/plain": [
              "<IPython.core.display.HTML object>"
            ]
          },
          "metadata": {},
          "output_type": "display_data"
        },
        {
          "data": {
            "text/html": [
              "Run data is saved locally in <code>/Users/pio/postgrado/tesis/tesis/wandb/run-20240126_212132-dy8lcner</code>"
            ],
            "text/plain": [
              "<IPython.core.display.HTML object>"
            ]
          },
          "metadata": {},
          "output_type": "display_data"
        },
        {
          "data": {
            "text/html": [
              "Syncing run <strong><a href='https://wandb.ai/hortensias/ort-tesis/runs/dy8lcner' target=\"_blank\">rare-sky-146</a></strong> to <a href='https://wandb.ai/hortensias/ort-tesis' target=\"_blank\">Weights & Biases</a> (<a href='https://wandb.me/run' target=\"_blank\">docs</a>)<br/>"
            ],
            "text/plain": [
              "<IPython.core.display.HTML object>"
            ]
          },
          "metadata": {},
          "output_type": "display_data"
        },
        {
          "data": {
            "text/html": [
              " View project at <a href='https://wandb.ai/hortensias/ort-tesis' target=\"_blank\">https://wandb.ai/hortensias/ort-tesis</a>"
            ],
            "text/plain": [
              "<IPython.core.display.HTML object>"
            ]
          },
          "metadata": {},
          "output_type": "display_data"
        },
        {
          "data": {
            "text/html": [
              " View run at <a href='https://wandb.ai/hortensias/ort-tesis/runs/dy8lcner' target=\"_blank\">https://wandb.ai/hortensias/ort-tesis/runs/dy8lcner</a>"
            ],
            "text/plain": [
              "<IPython.core.display.HTML object>"
            ]
          },
          "metadata": {},
          "output_type": "display_data"
        },
        {
          "name": "stdout",
          "output_type": "stream",
          "text": [
            "[          0           0           0           0           0           0           0           0           0           0           0           0           0           0           0           0           0           0           0           0           0           0           0           0           0           0\n",
            "           0           0           0           0           0           0           0           0           0           0           0           0           0           0           0           0           0           0           0           0           0           0           0           0           0           0\n",
            "           0           0           0           0           0           0           0           0           0           0           0           0           0           0           0           0           0           0           0           0           0           0           0           0           0           0\n",
            "           0           0           0           0           0           0           0           0           0           0           0           0           0           0           0           0  7.2066e-06  8.4533e-06  1.0665e-05  1.2865e-05  2.0351e-05  2.4211e-05  4.3341e-05   4.773e-05  4.8607e-05  5.1912e-05\n",
            "  5.5178e-05  6.0651e-05  7.0557e-05  7.3688e-05  7.8435e-05  8.9208e-05  9.9629e-05  0.00010868  0.00011376  0.00012396  0.00013988  0.00014606   0.0001697  0.00018492  0.00022185  0.00023406  0.00027372  0.00032152  0.00034107   0.0004396  0.00059652  0.00069545  0.00071006  0.00075993  0.00081784  0.00083249\n",
            "   0.0008404  0.00085576  0.00092987   0.0010114   0.0010118   0.0010196   0.0010535   0.0010946   0.0011119    0.001127   0.0011634   0.0012071   0.0012303   0.0014437   0.0014665   0.0014841   0.0015136   0.0015347   0.0015561   0.0015573   0.0016278   0.0016538   0.0016719   0.0016757   0.0017297    0.001825\n",
            "   0.0018596   0.0019994   0.0020488   0.0020524   0.0020572   0.0022207   0.0024079   0.0025621   0.0026193   0.0027929   0.0027992   0.0029559   0.0030294   0.0030787   0.0030926   0.0031456   0.0031817   0.0033807   0.0034524   0.0037721   0.0041906   0.0044072   0.0047003   0.0048151    0.004818   0.0050524\n",
            "    0.005315   0.0055631    0.005844   0.0059235   0.0060304   0.0061789   0.0062656   0.0064356   0.0065553   0.0068808   0.0070622   0.0076586   0.0082325   0.0085309   0.0088833    0.009253   0.0092574   0.0093257    0.009589   0.0097025   0.0097345   0.0097393    0.010678    0.011036    0.011219    0.011415\n",
            "    0.011433    0.011693    0.011782    0.012062    0.012091    0.012201    0.012488    0.013333      0.0134    0.014193    0.014554    0.016098    0.017249    0.017379    0.018946    0.019162    0.019693    0.019925    0.020159    0.021273    0.021444    0.022859    0.022876    0.022926    0.023747    0.024709\n",
            "    0.025026    0.025108    0.025205    0.025471     0.02573    0.026167    0.027297     0.02876    0.030283    0.030608    0.031106    0.031604    0.031757    0.032749    0.033941     0.03449    0.036195    0.036508    0.037447    0.037932    0.039258     0.03958     0.04196     0.04227    0.043594    0.045856\n",
            "    0.046202    0.046747    0.047097    0.047777    0.048246    0.048578    0.051831    0.052074    0.056434     0.05713    0.057914    0.058209    0.058458    0.059636    0.062501    0.062636    0.064803    0.064982    0.068014    0.070364    0.070459    0.071009    0.071559    0.072397    0.074789    0.078554\n",
            "    0.078924    0.080444    0.081409    0.083227    0.083679    0.084293    0.090723    0.091375    0.095322    0.096414    0.099291     0.10443     0.10493       0.107     0.10854     0.11031     0.11399     0.11724     0.11804      0.1201     0.12336     0.12706     0.12858     0.12938     0.13382     0.13816\n",
            "     0.13861     0.13976     0.14384     0.15646     0.15992     0.16063     0.16773     0.16934     0.17147     0.18526     0.19696     0.21214     0.21968     0.22064     0.22356     0.22702     0.22994      0.2372     0.25504     0.25513     0.26095     0.26507     0.27293     0.27824     0.27917     0.30123\n",
            "     0.31161     0.32747     0.32826     0.34799     0.36759     0.37234     0.37443     0.38122     0.38368     0.39098     0.39822     0.41257     0.42796     0.46777     0.47088     0.59632     0.61053     0.66918     0.75623      0.7781      0.8241     0.90881     0.92333      1.1533      1.2532      1.6926\n",
            "      1.7777      2.1524      2.4759      3.2386      5.7459        10.8      13.348]\n",
            "n_clusters 6\n",
            "el masimo es 0.18049676786613347 13.347710502509049\n",
            "\n",
            "Experiment name: ResnetAglomerative output.mp4\n",
            "Precision - Mean: 0.75, std: 0.0419317129\n",
            "Recall - Mean: 0.75, std: 0.0512019631\n",
            "F1-Score - Mean: 0.73, std: 0.0484915200\n",
            "Accuracy - Mean: 0.75, std: 0.0512019631\n",
            "\n",
            "Experiment name: ResnetAglomerative AVG\n",
            "Precision - Mean: 0.75, std: 0.0000000000\n",
            "Recall - Mean: 0.75, std: 0.0000000000\n",
            "F1-Score - Mean: 0.73, std: 0.0000000000\n",
            "Accuracy - Mean: 0.75, std: 0.0000000000\n",
            "{'precision': MetricsResults(mean=0.7503125866935115, std=0.0), 'recall': MetricsResults(mean=0.7458100558659218, std=0.0), 'f1': MetricsResults(mean=0.7341101542355766, std=0.0), 'accuracy': MetricsResults(mean=0.7458100558659218, std=0.0)}\n"
          ]
        },
        {
          "name": "stderr",
          "output_type": "stream",
          "text": [
            "wandb: WARNING Source type is set to 'repo' but some required information is missing from the environment. A job will not be created from this run. See https://docs.wandb.ai/guides/launch/create-job\n"
          ]
        },
        {
          "data": {
            "text/html": [
              "<style>\n",
              "    table.wandb td:nth-child(1) { padding: 0 10px; text-align: left ; width: auto;} td:nth-child(2) {text-align: left ; width: 100%}\n",
              "    .wandb-row { display: flex; flex-direction: row; flex-wrap: wrap; justify-content: flex-start; width: 100% }\n",
              "    .wandb-col { display: flex; flex-direction: column; flex-basis: 100%; flex: 1; padding: 10px; }\n",
              "    </style>\n",
              "<div class=\"wandb-row\"><div class=\"wandb-col\"><h3>Run history:</h3><br/><table class=\"wandb\"><tr><td>Accuracy</td><td>▁</td></tr><tr><td>Accuracy_STD</td><td>▁</td></tr><tr><td>F1</td><td>▁</td></tr><tr><td>F1_STD</td><td>▁</td></tr><tr><td>Precision</td><td>▁</td></tr><tr><td>Precision_STD</td><td>▁</td></tr><tr><td>Recall</td><td>▁</td></tr><tr><td>Recall_STD</td><td>▁</td></tr></table><br/></div><div class=\"wandb-col\"><h3>Run summary:</h3><br/><table class=\"wandb\"><tr><td>Accuracy</td><td>0.74581</td></tr><tr><td>Accuracy_STD</td><td>0.0</td></tr><tr><td>F1</td><td>0.73411</td></tr><tr><td>F1_STD</td><td>0.0</td></tr><tr><td>Precision</td><td>0.75031</td></tr><tr><td>Precision_STD</td><td>0.0</td></tr><tr><td>Recall</td><td>0.74581</td></tr><tr><td>Recall_STD</td><td>0.0</td></tr></table><br/></div></div>"
            ],
            "text/plain": [
              "<IPython.core.display.HTML object>"
            ]
          },
          "metadata": {},
          "output_type": "display_data"
        },
        {
          "data": {
            "text/html": [
              " View run <strong style=\"color:#cdcd00\">rare-sky-146</strong> at: <a href='https://wandb.ai/hortensias/ort-tesis/runs/dy8lcner' target=\"_blank\">https://wandb.ai/hortensias/ort-tesis/runs/dy8lcner</a><br/>Synced 5 W&B file(s), 0 media file(s), 0 artifact file(s) and 0 other file(s)"
            ],
            "text/plain": [
              "<IPython.core.display.HTML object>"
            ]
          },
          "metadata": {},
          "output_type": "display_data"
        },
        {
          "data": {
            "text/html": [
              "Find logs at: <code>./wandb/run-20240126_212132-dy8lcner/logs</code>"
            ],
            "text/plain": [
              "<IPython.core.display.HTML object>"
            ]
          },
          "metadata": {},
          "output_type": "display_data"
        },
        {
          "data": {
            "text/html": [
              "wandb version 0.16.2 is available!  To upgrade, please run:\n",
              " $ pip install wandb --upgrade"
            ],
            "text/plain": [
              "<IPython.core.display.HTML object>"
            ]
          },
          "metadata": {},
          "output_type": "display_data"
        },
        {
          "data": {
            "text/html": [
              "Tracking run with wandb version 0.16.1"
            ],
            "text/plain": [
              "<IPython.core.display.HTML object>"
            ]
          },
          "metadata": {},
          "output_type": "display_data"
        },
        {
          "data": {
            "text/html": [
              "Run data is saved locally in <code>/Users/pio/postgrado/tesis/tesis/wandb/run-20240126_212145-7u8dphez</code>"
            ],
            "text/plain": [
              "<IPython.core.display.HTML object>"
            ]
          },
          "metadata": {},
          "output_type": "display_data"
        },
        {
          "data": {
            "text/html": [
              "Syncing run <strong><a href='https://wandb.ai/hortensias/ort-tesis/runs/7u8dphez' target=\"_blank\">fluent-sun-147</a></strong> to <a href='https://wandb.ai/hortensias/ort-tesis' target=\"_blank\">Weights & Biases</a> (<a href='https://wandb.me/run' target=\"_blank\">docs</a>)<br/>"
            ],
            "text/plain": [
              "<IPython.core.display.HTML object>"
            ]
          },
          "metadata": {},
          "output_type": "display_data"
        },
        {
          "data": {
            "text/html": [
              " View project at <a href='https://wandb.ai/hortensias/ort-tesis' target=\"_blank\">https://wandb.ai/hortensias/ort-tesis</a>"
            ],
            "text/plain": [
              "<IPython.core.display.HTML object>"
            ]
          },
          "metadata": {},
          "output_type": "display_data"
        },
        {
          "data": {
            "text/html": [
              " View run at <a href='https://wandb.ai/hortensias/ort-tesis/runs/7u8dphez' target=\"_blank\">https://wandb.ai/hortensias/ort-tesis/runs/7u8dphez</a>"
            ],
            "text/plain": [
              "<IPython.core.display.HTML object>"
            ]
          },
          "metadata": {},
          "output_type": "display_data"
        },
        {
          "ename": "AttributeError",
          "evalue": "'SimilarityClustering' object has no attribute 'distances_'",
          "output_type": "error",
          "traceback": [
            "\u001b[0;31m---------------------------------------------------------------------------\u001b[0m",
            "\u001b[0;31mAttributeError\u001b[0m                            Traceback (most recent call last)",
            "\u001b[1;32m/Users/pio/postgrado/tesis/tesis/POC.ipynb Celda 6\u001b[0m line \u001b[0;36m5\n\u001b[1;32m     <a href='vscode-notebook-cell:/Users/pio/postgrado/tesis/tesis/POC.ipynb#X24sZmlsZQ%3D%3D?line=47'>48</a>\u001b[0m params[\u001b[39m\"\u001b[39m\u001b[39mdataset\u001b[39m\u001b[39m\"\u001b[39m] \u001b[39m=\u001b[39m dataset_loader()\n\u001b[1;32m     <a href='vscode-notebook-cell:/Users/pio/postgrado/tesis/tesis/POC.ipynb#X24sZmlsZQ%3D%3D?line=49'>50</a>\u001b[0m run \u001b[39m=\u001b[39m wandb\u001b[39m.\u001b[39minit(project\u001b[39m=\u001b[39m\u001b[39m\"\u001b[39m\u001b[39mort-tesis\u001b[39m\u001b[39m\"\u001b[39m,group\u001b[39m=\u001b[39mexp_definition[\u001b[39m'\u001b[39m\u001b[39mname\u001b[39m\u001b[39m'\u001b[39m],config\u001b[39m=\u001b[39mexp_definition, entity\u001b[39m=\u001b[39m\u001b[39m\"\u001b[39m\u001b[39mhortensias\u001b[39m\u001b[39m\"\u001b[39m)\n\u001b[0;32m---> <a href='vscode-notebook-cell:/Users/pio/postgrado/tesis/tesis/POC.ipynb#X24sZmlsZQ%3D%3D?line=50'>51</a>\u001b[0m result \u001b[39m=\u001b[39m experiment(\u001b[39m*\u001b[39;49m\u001b[39m*\u001b[39;49mparams)\n\u001b[1;32m     <a href='vscode-notebook-cell:/Users/pio/postgrado/tesis/tesis/POC.ipynb#X24sZmlsZQ%3D%3D?line=51'>52</a>\u001b[0m \u001b[39mprint\u001b[39m(result\u001b[39m.\u001b[39m_asdict())\n\u001b[1;32m     <a href='vscode-notebook-cell:/Users/pio/postgrado/tesis/tesis/POC.ipynb#X24sZmlsZQ%3D%3D?line=52'>53</a>\u001b[0m run\u001b[39m.\u001b[39mlog({\n\u001b[1;32m     <a href='vscode-notebook-cell:/Users/pio/postgrado/tesis/tesis/POC.ipynb#X24sZmlsZQ%3D%3D?line=53'>54</a>\u001b[0m   \u001b[39m\"\u001b[39m\u001b[39mPrecision\u001b[39m\u001b[39m\"\u001b[39m: result\u001b[39m.\u001b[39mprecision\u001b[39m.\u001b[39mmean,\n\u001b[1;32m     <a href='vscode-notebook-cell:/Users/pio/postgrado/tesis/tesis/POC.ipynb#X24sZmlsZQ%3D%3D?line=54'>55</a>\u001b[0m   \u001b[39m\"\u001b[39m\u001b[39mAccuracy\u001b[39m\u001b[39m\"\u001b[39m: result\u001b[39m.\u001b[39maccuracy\u001b[39m.\u001b[39mmean,\n\u001b[0;32m   (...)\u001b[0m\n\u001b[1;32m     <a href='vscode-notebook-cell:/Users/pio/postgrado/tesis/tesis/POC.ipynb#X24sZmlsZQ%3D%3D?line=60'>61</a>\u001b[0m   \u001b[39m\"\u001b[39m\u001b[39mRecall_STD\u001b[39m\u001b[39m\"\u001b[39m: result\u001b[39m.\u001b[39mrecall\u001b[39m.\u001b[39mstd,\n\u001b[1;32m     <a href='vscode-notebook-cell:/Users/pio/postgrado/tesis/tesis/POC.ipynb#X24sZmlsZQ%3D%3D?line=61'>62</a>\u001b[0m })\n",
            "File \u001b[0;32m~/postgrado/tesis/tesis/experiment_framework.py:36\u001b[0m, in \u001b[0;36mexperiment\u001b[0;34m(device, name, model, preprocessing, dataset, grouper_function, evaluation_function, show, **kwargs)\u001b[0m\n\u001b[1;32m     34\u001b[0m \u001b[39mfor\u001b[39;00m path,stream \u001b[39min\u001b[39;00m dataset\u001b[39m.\u001b[39mitems():\n\u001b[1;32m     35\u001b[0m   tag \u001b[39m=\u001b[39m VALIDATION_DATASET[path]\n\u001b[0;32m---> 36\u001b[0m   labels \u001b[39m=\u001b[39m infer(device, model, preprocessing,  grouper_function,stream)\n\u001b[1;32m     37\u001b[0m   metrics \u001b[39m=\u001b[39m evaluation_function(labels, tag)\n\u001b[1;32m     38\u001b[0m   metric_list[\u001b[39m\"\u001b[39m\u001b[39mprecision\u001b[39m\u001b[39m\"\u001b[39m]\u001b[39m.\u001b[39mappend(metrics\u001b[39m.\u001b[39mprecision\u001b[39m.\u001b[39mmean)\n",
            "File \u001b[0;32m~/postgrado/tesis/tesis/experiment_framework.py:28\u001b[0m, in \u001b[0;36minfer\u001b[0;34m(device, model, preprocessing, grouper_function, stream)\u001b[0m\n\u001b[1;32m     26\u001b[0m   features \u001b[39m=\u001b[39m np\u001b[39m.\u001b[39marray(features)\n\u001b[1;32m     27\u001b[0m   np\u001b[39m.\u001b[39msave(filename,features)\n\u001b[0;32m---> 28\u001b[0m labels \u001b[39m=\u001b[39m grouper_function(features)\n\u001b[1;32m     29\u001b[0m \u001b[39mreturn\u001b[39;00m labels\n",
            "File \u001b[0;32m~/postgrado/tesis/tesis/clustering/model.py:6\u001b[0m, in \u001b[0;36mclustering_function.<locals>.get_labels\u001b[0;34m(features)\u001b[0m\n\u001b[1;32m      4\u001b[0m model\u001b[39m.\u001b[39mfit(features)\n\u001b[1;32m      5\u001b[0m labels \u001b[39m=\u001b[39m model\u001b[39m.\u001b[39mlabels_\n\u001b[0;32m----> 6\u001b[0m \u001b[39mprint\u001b[39m(model\u001b[39m.\u001b[39;49mdistances_)\n\u001b[1;32m      7\u001b[0m distances\u001b[39m=\u001b[39mmodel\u001b[39m.\u001b[39mdistances_\n\u001b[1;32m      9\u001b[0m \u001b[39mprint\u001b[39m(\u001b[39m\"\u001b[39m\u001b[39mn_clusters\u001b[39m\u001b[39m\"\u001b[39m,model\u001b[39m.\u001b[39mn_clusters_)\n",
            "\u001b[0;31mAttributeError\u001b[0m: 'SimilarityClustering' object has no attribute 'distances_'"
          ]
        }
      ],
      "source": [
        "from properties import MODELS_ENUM, PREPROCESSORS, ALGORITHM, GROUPER_FUNCTIONS\n",
        "\n",
        "DEFAULT_PARAMS = {\n",
        "      \"dataset\": dataset_loader,\n",
        "      \"evaluation_function\": clustering_eval_function,\n",
        "      \"show\": True,\n",
        "      \"device\": device\n",
        "   }\n",
        "\n",
        "\n",
        "EXPERIMENT_DEFINITIONS= [\n",
        "    {\n",
        "        'name': 'ResnetAglomerative',\n",
        "        'model': {\n",
        "          'name': 'YOLOV8',\n",
        "          'params': ['/Users/pio/postgrado/tesis/tesis/best.pt']\n",
        "        },\n",
        "        'algorithm': \"AGGLOMERATIVE\",\n",
        "        'params': { \"n_clusters\":None, \"distance_threshold\": 2.2,\"compute_distances\":True},\n",
        "        'grouper_function': \"CLUSTERING_FUNCTION\",\n",
        "        'preprocessing': \"YOLO_BASELINE\",\n",
        "    },\n",
        "    {\n",
        "        'name': 'SimilarityClustering',\n",
        "        'model': {\n",
        "          'name': \"RESNET18\",\n",
        "          'params': [device]\n",
        "        },\n",
        "        'algorithm': \"SIMILARITY\",\n",
        "        'params': {\"threshold\": 0.999},\n",
        "        'grouper_function': \"CLUSTERING_FUNCTION\",\n",
        "        'preprocessing': \"BASELINE\",\n",
        "    }\n",
        "]\n",
        "\n",
        "for exp_definition in EXPERIMENT_DEFINITIONS:\n",
        "  params = DEFAULT_PARAMS.copy()\n",
        "  model_definition = MODELS_ENUM[exp_definition[\"model\"][\"name\"]]\n",
        "  model_params = exp_definition[\"model\"][\"params\"]\n",
        "  model = model_definition.get_instance(*model_params)\n",
        "  params[\"model\"] = model\n",
        "  \n",
        "  params[\"preprocessing\"] = PREPROCESSORS[exp_definition[\"preprocessing\"]]\n",
        "  algorithm = ALGORITHM[exp_definition[\"algorithm\"]](**exp_definition[\"params\"])\n",
        "  grouper_function = GROUPER_FUNCTIONS[exp_definition[\"grouper_function\"]](algorithm)\n",
        "  params[\"grouper_function\"] = grouper_function\n",
        "  params[\"name\"] = exp_definition[\"name\"]\n",
        "  params[\"dataset\"] = dataset_loader()\n",
        "\n",
        "  run = wandb.init(project=\"ort-tesis\",group=exp_definition['name'],config=exp_definition, entity=\"hortensias\")\n",
        "  result = experiment(**params)\n",
        "  print(result._asdict())\n",
        "  run.log({\n",
        "    \"Precision\": result.precision.mean,\n",
        "    \"Accuracy\": result.accuracy.mean,\n",
        "    \"F1\": result.f1.mean,\n",
        "    \"Recall\": result.recall.mean,\n",
        "    \"Precision_STD\": result.precision.std,\n",
        "    \"Accuracy_STD\": result.accuracy.std,\n",
        "    \"F1_STD\": result.f1.std,\n",
        "    \"Recall_STD\": result.recall.std,\n",
        "  })\n",
        "  run.finish()"
      ]
    }
  ],
  "metadata": {
    "accelerator": "GPU",
    "colab": {
      "machine_shape": "hm",
      "provenance": []
    },
    "kernelspec": {
      "display_name": "Python 3 (ipykernel)",
      "language": "python",
      "name": "python3"
    },
    "language_info": {
      "codemirror_mode": {
        "name": "ipython",
        "version": 3
      },
      "file_extension": ".py",
      "mimetype": "text/x-python",
      "name": "python",
      "nbconvert_exporter": "python",
      "pygments_lexer": "ipython3",
      "version": "3.10.13"
    },
    "widgets": {
      "application/vnd.jupyter.widget-state+json": {
        "0f649f0dcc244a289880dcef0efba419": {
          "model_module": "@jupyter-widgets/controls",
          "model_module_version": "1.5.0",
          "model_name": "DescriptionStyleModel",
          "state": {
            "_model_module": "@jupyter-widgets/controls",
            "_model_module_version": "1.5.0",
            "_model_name": "DescriptionStyleModel",
            "_view_count": null,
            "_view_module": "@jupyter-widgets/base",
            "_view_module_version": "1.2.0",
            "_view_name": "StyleView",
            "description_width": ""
          }
        },
        "2c81c11c82dd47f990b3bbea168e09b8": {
          "model_module": "@jupyter-widgets/base",
          "model_module_version": "1.2.0",
          "model_name": "LayoutModel",
          "state": {
            "_model_module": "@jupyter-widgets/base",
            "_model_module_version": "1.2.0",
            "_model_name": "LayoutModel",
            "_view_count": null,
            "_view_module": "@jupyter-widgets/base",
            "_view_module_version": "1.2.0",
            "_view_name": "LayoutView",
            "align_content": null,
            "align_items": null,
            "align_self": null,
            "border": null,
            "bottom": null,
            "display": null,
            "flex": null,
            "flex_flow": null,
            "grid_area": null,
            "grid_auto_columns": null,
            "grid_auto_flow": null,
            "grid_auto_rows": null,
            "grid_column": null,
            "grid_gap": null,
            "grid_row": null,
            "grid_template_areas": null,
            "grid_template_columns": null,
            "grid_template_rows": null,
            "height": null,
            "justify_content": null,
            "justify_items": null,
            "left": null,
            "margin": null,
            "max_height": null,
            "max_width": null,
            "min_height": null,
            "min_width": null,
            "object_fit": null,
            "object_position": null,
            "order": null,
            "overflow": null,
            "overflow_x": null,
            "overflow_y": null,
            "padding": null,
            "right": null,
            "top": null,
            "visibility": null,
            "width": null
          }
        },
        "47bede97ac7d473da74293e624cf66df": {
          "model_module": "@jupyter-widgets/controls",
          "model_module_version": "1.5.0",
          "model_name": "DescriptionStyleModel",
          "state": {
            "_model_module": "@jupyter-widgets/controls",
            "_model_module_version": "1.5.0",
            "_model_name": "DescriptionStyleModel",
            "_view_count": null,
            "_view_module": "@jupyter-widgets/base",
            "_view_module_version": "1.2.0",
            "_view_name": "StyleView",
            "description_width": ""
          }
        },
        "4fe372123b7e499b8e4e9d62a54eac1e": {
          "model_module": "@jupyter-widgets/controls",
          "model_module_version": "1.5.0",
          "model_name": "FloatProgressModel",
          "state": {
            "_dom_classes": [],
            "_model_module": "@jupyter-widgets/controls",
            "_model_module_version": "1.5.0",
            "_model_name": "FloatProgressModel",
            "_view_count": null,
            "_view_module": "@jupyter-widgets/controls",
            "_view_module_version": "1.5.0",
            "_view_name": "ProgressView",
            "bar_style": "",
            "description": "",
            "description_tooltip": null,
            "layout": "IPY_MODEL_2c81c11c82dd47f990b3bbea168e09b8",
            "max": 1,
            "min": 0,
            "orientation": "horizontal",
            "style": "IPY_MODEL_a122987043c84413959f280bf4d6701f",
            "value": 1
          }
        },
        "559ff52f270c44748fbbeb068dae86e9": {
          "model_module": "@jupyter-widgets/controls",
          "model_module_version": "1.5.0",
          "model_name": "LabelModel",
          "state": {
            "_dom_classes": [],
            "_model_module": "@jupyter-widgets/controls",
            "_model_module_version": "1.5.0",
            "_model_name": "LabelModel",
            "_view_count": null,
            "_view_module": "@jupyter-widgets/controls",
            "_view_module_version": "1.5.0",
            "_view_name": "LabelView",
            "description": "",
            "description_tooltip": null,
            "layout": "IPY_MODEL_bb3f5d6b71184d71b976c9efd8b902ad",
            "placeholder": "​",
            "style": "IPY_MODEL_0f649f0dcc244a289880dcef0efba419",
            "value": "0.017 MB of 0.017 MB uploaded\r"
          }
        },
        "5b54a1bdeb824e108b26a6c760b8b425": {
          "model_module": "@jupyter-widgets/base",
          "model_module_version": "1.2.0",
          "model_name": "LayoutModel",
          "state": {
            "_model_module": "@jupyter-widgets/base",
            "_model_module_version": "1.2.0",
            "_model_name": "LayoutModel",
            "_view_count": null,
            "_view_module": "@jupyter-widgets/base",
            "_view_module_version": "1.2.0",
            "_view_name": "LayoutView",
            "align_content": null,
            "align_items": null,
            "align_self": null,
            "border": null,
            "bottom": null,
            "display": null,
            "flex": null,
            "flex_flow": null,
            "grid_area": null,
            "grid_auto_columns": null,
            "grid_auto_flow": null,
            "grid_auto_rows": null,
            "grid_column": null,
            "grid_gap": null,
            "grid_row": null,
            "grid_template_areas": null,
            "grid_template_columns": null,
            "grid_template_rows": null,
            "height": null,
            "justify_content": null,
            "justify_items": null,
            "left": null,
            "margin": null,
            "max_height": null,
            "max_width": null,
            "min_height": null,
            "min_width": null,
            "object_fit": null,
            "object_position": null,
            "order": null,
            "overflow": null,
            "overflow_x": null,
            "overflow_y": null,
            "padding": null,
            "right": null,
            "top": null,
            "visibility": null,
            "width": null
          }
        },
        "6f2fff3f25fe413dbab7fbb5a272e215": {
          "model_module": "@jupyter-widgets/controls",
          "model_module_version": "1.5.0",
          "model_name": "FloatProgressModel",
          "state": {
            "_dom_classes": [],
            "_model_module": "@jupyter-widgets/controls",
            "_model_module_version": "1.5.0",
            "_model_name": "FloatProgressModel",
            "_view_count": null,
            "_view_module": "@jupyter-widgets/controls",
            "_view_module_version": "1.5.0",
            "_view_name": "ProgressView",
            "bar_style": "",
            "description": "",
            "description_tooltip": null,
            "layout": "IPY_MODEL_5b54a1bdeb824e108b26a6c760b8b425",
            "max": 1,
            "min": 0,
            "orientation": "horizontal",
            "style": "IPY_MODEL_d1e250d0d1274af992db08e261f2b446",
            "value": 1
          }
        },
        "7d8b9758dab6438784b5887bb25c37ab": {
          "model_module": "@jupyter-widgets/base",
          "model_module_version": "1.2.0",
          "model_name": "LayoutModel",
          "state": {
            "_model_module": "@jupyter-widgets/base",
            "_model_module_version": "1.2.0",
            "_model_name": "LayoutModel",
            "_view_count": null,
            "_view_module": "@jupyter-widgets/base",
            "_view_module_version": "1.2.0",
            "_view_name": "LayoutView",
            "align_content": null,
            "align_items": null,
            "align_self": null,
            "border": null,
            "bottom": null,
            "display": null,
            "flex": null,
            "flex_flow": null,
            "grid_area": null,
            "grid_auto_columns": null,
            "grid_auto_flow": null,
            "grid_auto_rows": null,
            "grid_column": null,
            "grid_gap": null,
            "grid_row": null,
            "grid_template_areas": null,
            "grid_template_columns": null,
            "grid_template_rows": null,
            "height": null,
            "justify_content": null,
            "justify_items": null,
            "left": null,
            "margin": null,
            "max_height": null,
            "max_width": null,
            "min_height": null,
            "min_width": null,
            "object_fit": null,
            "object_position": null,
            "order": null,
            "overflow": null,
            "overflow_x": null,
            "overflow_y": null,
            "padding": null,
            "right": null,
            "top": null,
            "visibility": null,
            "width": null
          }
        },
        "a122987043c84413959f280bf4d6701f": {
          "model_module": "@jupyter-widgets/controls",
          "model_module_version": "1.5.0",
          "model_name": "ProgressStyleModel",
          "state": {
            "_model_module": "@jupyter-widgets/controls",
            "_model_module_version": "1.5.0",
            "_model_name": "ProgressStyleModel",
            "_view_count": null,
            "_view_module": "@jupyter-widgets/base",
            "_view_module_version": "1.2.0",
            "_view_name": "StyleView",
            "bar_color": null,
            "description_width": ""
          }
        },
        "bb3f5d6b71184d71b976c9efd8b902ad": {
          "model_module": "@jupyter-widgets/base",
          "model_module_version": "1.2.0",
          "model_name": "LayoutModel",
          "state": {
            "_model_module": "@jupyter-widgets/base",
            "_model_module_version": "1.2.0",
            "_model_name": "LayoutModel",
            "_view_count": null,
            "_view_module": "@jupyter-widgets/base",
            "_view_module_version": "1.2.0",
            "_view_name": "LayoutView",
            "align_content": null,
            "align_items": null,
            "align_self": null,
            "border": null,
            "bottom": null,
            "display": null,
            "flex": null,
            "flex_flow": null,
            "grid_area": null,
            "grid_auto_columns": null,
            "grid_auto_flow": null,
            "grid_auto_rows": null,
            "grid_column": null,
            "grid_gap": null,
            "grid_row": null,
            "grid_template_areas": null,
            "grid_template_columns": null,
            "grid_template_rows": null,
            "height": null,
            "justify_content": null,
            "justify_items": null,
            "left": null,
            "margin": null,
            "max_height": null,
            "max_width": null,
            "min_height": null,
            "min_width": null,
            "object_fit": null,
            "object_position": null,
            "order": null,
            "overflow": null,
            "overflow_x": null,
            "overflow_y": null,
            "padding": null,
            "right": null,
            "top": null,
            "visibility": null,
            "width": null
          }
        },
        "cc0c09baf2f843618935a78f3f92e3d9": {
          "model_module": "@jupyter-widgets/controls",
          "model_module_version": "1.5.0",
          "model_name": "LabelModel",
          "state": {
            "_dom_classes": [],
            "_model_module": "@jupyter-widgets/controls",
            "_model_module_version": "1.5.0",
            "_model_name": "LabelModel",
            "_view_count": null,
            "_view_module": "@jupyter-widgets/controls",
            "_view_module_version": "1.5.0",
            "_view_name": "LabelView",
            "description": "",
            "description_tooltip": null,
            "layout": "IPY_MODEL_e135375641bb4ef48a2dc1bad69f44ad",
            "placeholder": "​",
            "style": "IPY_MODEL_47bede97ac7d473da74293e624cf66df",
            "value": "0.017 MB of 0.017 MB uploaded\r"
          }
        },
        "cec6d7d4cb8845958487a07a5e1e2eb3": {
          "model_module": "@jupyter-widgets/controls",
          "model_module_version": "1.5.0",
          "model_name": "VBoxModel",
          "state": {
            "_dom_classes": [],
            "_model_module": "@jupyter-widgets/controls",
            "_model_module_version": "1.5.0",
            "_model_name": "VBoxModel",
            "_view_count": null,
            "_view_module": "@jupyter-widgets/controls",
            "_view_module_version": "1.5.0",
            "_view_name": "VBoxView",
            "box_style": "",
            "children": [
              "IPY_MODEL_559ff52f270c44748fbbeb068dae86e9",
              "IPY_MODEL_4fe372123b7e499b8e4e9d62a54eac1e"
            ],
            "layout": "IPY_MODEL_ddbe4a8a47234971b7176c2a36e22c88"
          }
        },
        "d1e250d0d1274af992db08e261f2b446": {
          "model_module": "@jupyter-widgets/controls",
          "model_module_version": "1.5.0",
          "model_name": "ProgressStyleModel",
          "state": {
            "_model_module": "@jupyter-widgets/controls",
            "_model_module_version": "1.5.0",
            "_model_name": "ProgressStyleModel",
            "_view_count": null,
            "_view_module": "@jupyter-widgets/base",
            "_view_module_version": "1.2.0",
            "_view_name": "StyleView",
            "bar_color": null,
            "description_width": ""
          }
        },
        "ddbe4a8a47234971b7176c2a36e22c88": {
          "model_module": "@jupyter-widgets/base",
          "model_module_version": "1.2.0",
          "model_name": "LayoutModel",
          "state": {
            "_model_module": "@jupyter-widgets/base",
            "_model_module_version": "1.2.0",
            "_model_name": "LayoutModel",
            "_view_count": null,
            "_view_module": "@jupyter-widgets/base",
            "_view_module_version": "1.2.0",
            "_view_name": "LayoutView",
            "align_content": null,
            "align_items": null,
            "align_self": null,
            "border": null,
            "bottom": null,
            "display": null,
            "flex": null,
            "flex_flow": null,
            "grid_area": null,
            "grid_auto_columns": null,
            "grid_auto_flow": null,
            "grid_auto_rows": null,
            "grid_column": null,
            "grid_gap": null,
            "grid_row": null,
            "grid_template_areas": null,
            "grid_template_columns": null,
            "grid_template_rows": null,
            "height": null,
            "justify_content": null,
            "justify_items": null,
            "left": null,
            "margin": null,
            "max_height": null,
            "max_width": null,
            "min_height": null,
            "min_width": null,
            "object_fit": null,
            "object_position": null,
            "order": null,
            "overflow": null,
            "overflow_x": null,
            "overflow_y": null,
            "padding": null,
            "right": null,
            "top": null,
            "visibility": null,
            "width": null
          }
        },
        "e135375641bb4ef48a2dc1bad69f44ad": {
          "model_module": "@jupyter-widgets/base",
          "model_module_version": "1.2.0",
          "model_name": "LayoutModel",
          "state": {
            "_model_module": "@jupyter-widgets/base",
            "_model_module_version": "1.2.0",
            "_model_name": "LayoutModel",
            "_view_count": null,
            "_view_module": "@jupyter-widgets/base",
            "_view_module_version": "1.2.0",
            "_view_name": "LayoutView",
            "align_content": null,
            "align_items": null,
            "align_self": null,
            "border": null,
            "bottom": null,
            "display": null,
            "flex": null,
            "flex_flow": null,
            "grid_area": null,
            "grid_auto_columns": null,
            "grid_auto_flow": null,
            "grid_auto_rows": null,
            "grid_column": null,
            "grid_gap": null,
            "grid_row": null,
            "grid_template_areas": null,
            "grid_template_columns": null,
            "grid_template_rows": null,
            "height": null,
            "justify_content": null,
            "justify_items": null,
            "left": null,
            "margin": null,
            "max_height": null,
            "max_width": null,
            "min_height": null,
            "min_width": null,
            "object_fit": null,
            "object_position": null,
            "order": null,
            "overflow": null,
            "overflow_x": null,
            "overflow_y": null,
            "padding": null,
            "right": null,
            "top": null,
            "visibility": null,
            "width": null
          }
        },
        "f323bcb5d3a64bb0b68f639326bd7dbf": {
          "model_module": "@jupyter-widgets/controls",
          "model_module_version": "1.5.0",
          "model_name": "VBoxModel",
          "state": {
            "_dom_classes": [],
            "_model_module": "@jupyter-widgets/controls",
            "_model_module_version": "1.5.0",
            "_model_name": "VBoxModel",
            "_view_count": null,
            "_view_module": "@jupyter-widgets/controls",
            "_view_module_version": "1.5.0",
            "_view_name": "VBoxView",
            "box_style": "",
            "children": [
              "IPY_MODEL_cc0c09baf2f843618935a78f3f92e3d9",
              "IPY_MODEL_6f2fff3f25fe413dbab7fbb5a272e215"
            ],
            "layout": "IPY_MODEL_7d8b9758dab6438784b5887bb25c37ab"
          }
        }
      }
    }
  },
  "nbformat": 4,
  "nbformat_minor": 0
}
