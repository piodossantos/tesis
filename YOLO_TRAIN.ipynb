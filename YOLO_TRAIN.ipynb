{
  "cells": [
    {
      "cell_type": "code",
      "execution_count": 14,
      "metadata": {},
      "outputs": [],
      "source": [
        "output=\"\"\"\n",
        " 460288  ultralytics.nn.modules.block.C2f             [256, 256, 1, True]           \n",
        "  9                  -1  1    164608  ultralytics.nn.modules.block.SPPF            [256, 256, 5]                 \n",
        " 10                  -1  1         0  torch.nn.modules.upsampling.Upsample         [None, 2, 'nearest']          \n",
        " 11             [-1, 6]  1         0  ultralytics.nn.modules.conv.Concat           [1]                           \n",
        " 12                  -1  1    148224  ultralytics.nn.modules.block.C2f             [384, 128, 1]                 \n",
        " 13                  -1  1         0  torch.nn.modules.upsampling.Upsample         [None, 2, 'nearest']          \n",
        " 14             [-1, 4]  1         0  ultralytics.nn.modules.conv.Concat           [1]                           \n",
        " 15                  -1  1     37248  ultralytics.nn.modules.block.C2f             [192, 64, 1]                  \n",
        " 16                  -1  1     36992  ultralytics.nn.modules.conv.Conv             [64, 64, 3, 2]                \n",
        " 17            [-1, 12]  1         0  ultralytics.nn.modules.conv.Concat           [1]                           \n",
        " 18                  -1  1    123648  ultralytics.nn.modules.block.C2f             [192, 128, 1]                 \n",
        " 19                  -1  1    147712  ultralytics.nn.modules.conv.Conv             [128, 128, 3, 2]              \n",
        " 20             [-1, 9]  1         0  ultralytics.nn.modules.conv.Concat           [1]                           \n",
        " 21                  -1  1    493056  ultralytics.nn.modules.block.C2f             [384, 256, 1]                 \n",
        " 22        [15, 18, 21]  1    756187  ultralytics.nn.modules.head.Detect           [25, [64, 128, 256]]          \n",
        "Model summary: 225 layers, 3015723 parameters, 3015707 gradients, 8.2 GFLOPs\n",
        "\n",
        "Transferred 319/355 items from pretrained weights\n",
        "Freezing layer 'model.22.dfl.conv.weight'\n",
        "train: Scanning /Users/pio/postgrado/tesis/tesis/rico_5/labels/test... 6727 images, 60 backgrounds, 35 corrupt: 100%|██████████| 6727/6727 [00:03<00:00, 2194.49it/s]\n",
        "train: WARNING ⚠️ /Users/pio/postgrado/tesis/tesis/rico_5/images/test/1013.jpg: ignoring corrupt image/label: negative label values [   -0.11111]\n",
        "train: WARNING ⚠️ /Users/pio/postgrado/tesis/tesis/rico_5/images/test/13047.jpg: ignoring corrupt image/label: non-normalized or out of bounds coordinates [     1.1109      2.2219]\n",
        "train: WARNING ⚠️ /Users/pio/postgrado/tesis/tesis/rico_5/images/test/13660.jpg: ignoring corrupt image/label: non-normalized or out of bounds coordinates [     42.562      71.031        1.75        1.75      33.875      41.547        20.5      1.7812      42.531      66.156      4.9375      4.9375      33.875       53.75       22.25      19.875       10.75      5.6875        9.25       2.375        22.5      71.688       2.625       2.625        22.5      11.812\n",
        "          45       6.125      11.125      29.094       22.25      28.438      3.0625      5.6875       6.125         3.5      33.875          26       22.25       22.25        22.5      37.375          45       74.75      2.4688      66.156      4.9375      4.9375      15.094      71.031        1.75        1.75\n",
        "      33.406      71.031        1.75        1.75      4.1875      71.688       2.625       2.625      11.125       53.75       22.25      19.875      24.156      11.812       6.125      2.0625      11.125      39.328        20.5      2.6562        22.5      66.156      35.125      4.9375      33.875       53.75\n",
        "       22.25      19.875      11.125          26       22.25       22.25      14.359      11.812      8.2188      2.0625      11.125      41.547        20.5      1.7812      5.9375      71.031        1.75        1.75      40.188      58.875       6.125       6.125        22.5      5.6875          45       6.125\n",
        "      43.141      5.6719      3.7188      3.7188       24.25      71.031        1.75        1.75      33.875      39.328        20.5      2.6562      31.656      71.688       2.625       2.625      38.656      5.6562         3.5         3.5      33.875      29.094       22.25      28.438      4.4688      11.812\n",
        "      6.3125      2.0625      13.344      71.688       2.625       2.625      40.812      71.688       2.625       2.625      11.125       53.75       22.25      19.875]\n",
        "train: WARNING ⚠️ /Users/pio/postgrado/tesis/tesis/rico_5/images/test/1962.jpg: ignoring corrupt image/label: negative label values [   -0.91513]\n",
        "train: WARNING ⚠️ /Users/pio/postgrado/tesis/tesis/rico_5/images/test/21248.jpg: ignoring corrupt image/label: negative label values [  -0.072917]\n",
        "train: WARNING ⚠️ /Users/pio/postgrado/tesis/tesis/rico_5/images/test/23869.jpg: ignoring corrupt image/label: negative label values [   -0.50972]\n",
        "train: WARNING ⚠️ /Users/pio/postgrado/tesis/tesis/rico_5/images/test/24028.jpg: ignoring corrupt image/label: negative label values [   -0.62778]\n",
        "train: WARNING ⚠️ /Users/pio/postgrado/tesis/tesis/rico_5/images/test/30055.jpg: ignoring corrupt image/label: negative label values [     -0.075   -0.064583]\n",
        "train: WARNING ⚠️ /Users/pio/postgrado/tesis/tesis/rico_5/images/test/3066.jpg: ignoring corrupt image/label: negative label values [  -0.057813]\n",
        "train: WARNING ⚠️ /Users/pio/postgrado/tesis/tesis/rico_5/images/test/35319.jpg: ignoring corrupt image/label: negative label values [  -0.072917]\n",
        "train: WARNING ⚠️ /Users/pio/postgrado/tesis/tesis/rico_5/images/test/3554.jpg: ignoring corrupt image/label: non-normalized or out of bounds coordinates [     1.0029]\n",
        "train: WARNING ⚠️ /Users/pio/postgrado/tesis/tesis/rico_5/images/test/37041.jpg: ignoring corrupt image/label: negative label values [  -0.026338]\n",
        "train: WARNING ⚠️ /Users/pio/postgrado/tesis/tesis/rico_5/images/test/38816.jpg: ignoring corrupt image/label: negative label values [  -0.015972   -0.010417   -0.015972]\n",
        "train: WARNING ⚠️ /Users/pio/postgrado/tesis/tesis/rico_5/images/test/40481.jpg: ignoring corrupt image/label: negative label values [   -0.76484]\n",
        "train: WARNING ⚠️ /Users/pio/postgrado/tesis/tesis/rico_5/images/test/40554.jpg: ignoring corrupt image/label: negative label values [  -0.029167   -0.029167   -0.029167   -0.029167   -0.029167   -0.029167   -0.029167   -0.029167   -0.029167   -0.029167   -0.029167   -0.029167]\n",
        "train: WARNING ⚠️ /Users/pio/postgrado/tesis/tesis/rico_5/images/test/40577.jpg: ignoring corrupt image/label: negative label values [ -0.0090278]\n",
        "train: WARNING ⚠️ /Users/pio/postgrado/tesis/tesis/rico_5/images/test/41885.jpg: ignoring corrupt image/label: negative label values [  -0.023611]\n",
        "train: WARNING ⚠️ /Users/pio/postgrado/tesis/tesis/rico_5/images/test/44440.jpg: ignoring corrupt image/label: negative label values [  -0.029167]\n",
        "train: WARNING ⚠️ /Users/pio/postgrado/tesis/tesis/rico_5/images/test/52075.jpg: ignoring corrupt image/label: negative label values [   -0.45586]\n",
        "train: WARNING ⚠️ /Users/pio/postgrado/tesis/tesis/rico_5/images/test/52349.jpg: ignoring corrupt image/label: negative label values [   -0.10903   -0.034028]\n",
        "train: WARNING ⚠️ /Users/pio/postgrado/tesis/tesis/rico_5/images/test/52802.jpg: ignoring corrupt image/label: non-normalized or out of bounds coordinates [     2.7512      1.6442      1.6442      3.2065      1.6442      1.6442      1.6442      2.2959      1.6442      1.6943      1.0776      1.3854      1.6442      2.9789      1.7073      1.8407      1.6442      1.9447      1.0542      3.8894      2.1083      3.6618      1.6442]\n",
        "train: WARNING ⚠️ /Users/pio/postgrado/tesis/tesis/rico_5/images/test/52828.jpg: ignoring corrupt image/label: negative label values [  -0.077778]\n",
        "train: WARNING ⚠️ /Users/pio/postgrado/tesis/tesis/rico_5/images/test/54115.jpg: ignoring corrupt image/label: non-normalized or out of bounds coordinates [     1.0176]\n",
        "train: WARNING ⚠️ /Users/pio/postgrado/tesis/tesis/rico_5/images/test/54771.jpg: ignoring corrupt image/label: negative label values [   -0.74722    -0.23333]\n",
        "train: WARNING ⚠️ /Users/pio/postgrado/tesis/tesis/rico_5/images/test/56120.jpg: ignoring corrupt image/label: negative label values [   -0.08194]\n",
        "train: WARNING ⚠️ /Users/pio/postgrado/tesis/tesis/rico_5/images/test/56445.jpg: ignoring corrupt image/label: negative label values [   -0.42153]\n",
        "train: WARNING ⚠️ /Users/pio/postgrado/tesis/tesis/rico_5/images/test/57210.jpg: ignoring corrupt image/label: negative label values [   -0.22305]\n",
        "train: WARNING ⚠️ /Users/pio/postgrado/tesis/tesis/rico_5/images/test/62918.jpg: ignoring corrupt image/label: negative label values [  -0.027083  -0.0027778]\n",
        "train: WARNING ⚠️ /Users/pio/postgrado/tesis/tesis/rico_5/images/test/64140.jpg: ignoring corrupt image/label: negative label values [  -0.058333    -0.37695]\n",
        "train: WARNING ⚠️ /Users/pio/postgrado/tesis/tesis/rico_5/images/test/64183.jpg: ignoring corrupt image/label: negative label values [  -0.048437   -0.048437   -0.048437]\n",
        "train: WARNING ⚠️ /Users/pio/postgrado/tesis/tesis/rico_5/images/test/6841.jpg: ignoring corrupt image/label: negative label values [   -0.80556]\n",
        "train: WARNING ⚠️ /Users/pio/postgrado/tesis/tesis/rico_5/images/test/70642.jpg: ignoring corrupt image/label: negative label values [  -0.086957]\n",
        "train: WARNING ⚠️ /Users/pio/postgrado/tesis/tesis/rico_5/images/test/7478.jpg: ignoring corrupt image/label: negative label values [   -0.11111    -0.86602]\n",
        "train: WARNING ⚠️ /Users/pio/postgrado/tesis/tesis/rico_5/images/test/8165.jpg: ignoring corrupt image/label: non-normalized or out of bounds coordinates [     1.3332]\n",
        "train: WARNING ⚠️ /Users/pio/postgrado/tesis/tesis/rico_5/images/test/9326.jpg: ignoring corrupt image/label: negative label values [  -0.043896]\n",
        "\n",
        "train: New cache created: /Users/pio/postgrado/tesis/tesis/rico_5/labels/test.cache\n",
        "val: Scanning /Users/pio/postgrado/tesis/tesis/rico_5/labels/val.cache... 13146 images, 151 backgrounds, 0 corrupt: 100%|██████████| 13146/13146 [00:00<?, ?it/s]\n",
        "Plotting labels to /Users/pio/postgrado/tesis/tesis/runs/detect/train19/labels.jpg... \n",
        "\n",
        "optimizer: 'optimizer=auto' found, ignoring 'lr0=0.9999' and 'momentum=0.937' and determining best 'optimizer', 'lr0' and 'momentum' automatically... \n",
        "optimizer: AdamW(lr=0.000345, momentum=0.9) with parameter groups 57 weight(decay=0.0), 64 weight(decay=0.0005), 63 bias(decay=0.0)\n",
        "Image sizes 640 train, 640 val\"\"\""
      ]
    },
    {
      "cell_type": "code",
      "execution_count": 15,
      "metadata": {},
      "outputs": [
        {
          "name": "stdout",
          "output_type": "stream",
          "text": [
            "['/Users/pio/postgrado/tesis/tesis/rico_5/images/test/1013.jpg', '/Users/pio/postgrado/tesis/tesis/rico_5/images/test/13047.jpg', '/Users/pio/postgrado/tesis/tesis/rico_5/images/test/13660.jpg', '/Users/pio/postgrado/tesis/tesis/rico_5/images/test/1962.jpg', '/Users/pio/postgrado/tesis/tesis/rico_5/images/test/21248.jpg', '/Users/pio/postgrado/tesis/tesis/rico_5/images/test/23869.jpg', '/Users/pio/postgrado/tesis/tesis/rico_5/images/test/24028.jpg', '/Users/pio/postgrado/tesis/tesis/rico_5/images/test/30055.jpg', '/Users/pio/postgrado/tesis/tesis/rico_5/images/test/3066.jpg', '/Users/pio/postgrado/tesis/tesis/rico_5/images/test/35319.jpg', '/Users/pio/postgrado/tesis/tesis/rico_5/images/test/3554.jpg', '/Users/pio/postgrado/tesis/tesis/rico_5/images/test/37041.jpg', '/Users/pio/postgrado/tesis/tesis/rico_5/images/test/38816.jpg', '/Users/pio/postgrado/tesis/tesis/rico_5/images/test/40481.jpg', '/Users/pio/postgrado/tesis/tesis/rico_5/images/test/40554.jpg', '/Users/pio/postgrado/tesis/tesis/rico_5/images/test/40577.jpg', '/Users/pio/postgrado/tesis/tesis/rico_5/images/test/41885.jpg', '/Users/pio/postgrado/tesis/tesis/rico_5/images/test/44440.jpg', '/Users/pio/postgrado/tesis/tesis/rico_5/images/test/52075.jpg', '/Users/pio/postgrado/tesis/tesis/rico_5/images/test/52349.jpg', '/Users/pio/postgrado/tesis/tesis/rico_5/images/test/52802.jpg', '/Users/pio/postgrado/tesis/tesis/rico_5/images/test/52828.jpg', '/Users/pio/postgrado/tesis/tesis/rico_5/images/test/54115.jpg', '/Users/pio/postgrado/tesis/tesis/rico_5/images/test/54771.jpg', '/Users/pio/postgrado/tesis/tesis/rico_5/images/test/56120.jpg', '/Users/pio/postgrado/tesis/tesis/rico_5/images/test/56445.jpg', '/Users/pio/postgrado/tesis/tesis/rico_5/images/test/57210.jpg', '/Users/pio/postgrado/tesis/tesis/rico_5/images/test/62918.jpg', '/Users/pio/postgrado/tesis/tesis/rico_5/images/test/64140.jpg', '/Users/pio/postgrado/tesis/tesis/rico_5/images/test/64183.jpg', '/Users/pio/postgrado/tesis/tesis/rico_5/images/test/6841.jpg', '/Users/pio/postgrado/tesis/tesis/rico_5/images/test/70642.jpg', '/Users/pio/postgrado/tesis/tesis/rico_5/images/test/7478.jpg', '/Users/pio/postgrado/tesis/tesis/rico_5/images/test/8165.jpg', '/Users/pio/postgrado/tesis/tesis/rico_5/images/test/9326.jpg']\n"
          ]
        }
      ],
      "source": [
        "import re\n",
        "\n",
        "def extraer_rutas_imagenes(texto):\n",
        "    # Expresión regular para coincidir con las rutas de las imágenes\n",
        "    regex = r\"/Users/pio/postgrado/tesis/tesis/rico_5/images/(?:train|test|val)/\\d+\\.jpg\"\n",
        "\n",
        "    # Encontrar todas las coincidencias en el texto\n",
        "    rutas_imagenes = re.findall(regex, texto)\n",
        "\n",
        "    return rutas_imagenes\n",
        "\n",
        "\n",
        "\n",
        "files=extraer_rutas_imagenes(output)\n",
        "\n",
        "print(files)"
      ]
    },
    {
      "cell_type": "code",
      "execution_count": 16,
      "metadata": {},
      "outputs": [
        {
          "name": "stdout",
          "output_type": "stream",
          "text": [
            "se elimino /Users/pio/postgrado/tesis/tesis/rico_5/images/test/1013.jpg /Users/pio/postgrado/tesis/tesis/rico_5/labels/test/1013.txt\n",
            "se elimino /Users/pio/postgrado/tesis/tesis/rico_5/images/test/13047.jpg /Users/pio/postgrado/tesis/tesis/rico_5/labels/test/13047.txt\n",
            "se elimino /Users/pio/postgrado/tesis/tesis/rico_5/images/test/13660.jpg /Users/pio/postgrado/tesis/tesis/rico_5/labels/test/13660.txt\n",
            "se elimino /Users/pio/postgrado/tesis/tesis/rico_5/images/test/1962.jpg /Users/pio/postgrado/tesis/tesis/rico_5/labels/test/1962.txt\n",
            "se elimino /Users/pio/postgrado/tesis/tesis/rico_5/images/test/21248.jpg /Users/pio/postgrado/tesis/tesis/rico_5/labels/test/21248.txt\n",
            "se elimino /Users/pio/postgrado/tesis/tesis/rico_5/images/test/23869.jpg /Users/pio/postgrado/tesis/tesis/rico_5/labels/test/23869.txt\n",
            "se elimino /Users/pio/postgrado/tesis/tesis/rico_5/images/test/24028.jpg /Users/pio/postgrado/tesis/tesis/rico_5/labels/test/24028.txt\n",
            "se elimino /Users/pio/postgrado/tesis/tesis/rico_5/images/test/30055.jpg /Users/pio/postgrado/tesis/tesis/rico_5/labels/test/30055.txt\n",
            "se elimino /Users/pio/postgrado/tesis/tesis/rico_5/images/test/3066.jpg /Users/pio/postgrado/tesis/tesis/rico_5/labels/test/3066.txt\n",
            "se elimino /Users/pio/postgrado/tesis/tesis/rico_5/images/test/35319.jpg /Users/pio/postgrado/tesis/tesis/rico_5/labels/test/35319.txt\n",
            "se elimino /Users/pio/postgrado/tesis/tesis/rico_5/images/test/3554.jpg /Users/pio/postgrado/tesis/tesis/rico_5/labels/test/3554.txt\n",
            "se elimino /Users/pio/postgrado/tesis/tesis/rico_5/images/test/37041.jpg /Users/pio/postgrado/tesis/tesis/rico_5/labels/test/37041.txt\n",
            "se elimino /Users/pio/postgrado/tesis/tesis/rico_5/images/test/38816.jpg /Users/pio/postgrado/tesis/tesis/rico_5/labels/test/38816.txt\n",
            "se elimino /Users/pio/postgrado/tesis/tesis/rico_5/images/test/40481.jpg /Users/pio/postgrado/tesis/tesis/rico_5/labels/test/40481.txt\n",
            "se elimino /Users/pio/postgrado/tesis/tesis/rico_5/images/test/40554.jpg /Users/pio/postgrado/tesis/tesis/rico_5/labels/test/40554.txt\n",
            "se elimino /Users/pio/postgrado/tesis/tesis/rico_5/images/test/40577.jpg /Users/pio/postgrado/tesis/tesis/rico_5/labels/test/40577.txt\n",
            "se elimino /Users/pio/postgrado/tesis/tesis/rico_5/images/test/41885.jpg /Users/pio/postgrado/tesis/tesis/rico_5/labels/test/41885.txt\n",
            "se elimino /Users/pio/postgrado/tesis/tesis/rico_5/images/test/44440.jpg /Users/pio/postgrado/tesis/tesis/rico_5/labels/test/44440.txt\n",
            "se elimino /Users/pio/postgrado/tesis/tesis/rico_5/images/test/52075.jpg /Users/pio/postgrado/tesis/tesis/rico_5/labels/test/52075.txt\n",
            "se elimino /Users/pio/postgrado/tesis/tesis/rico_5/images/test/52349.jpg /Users/pio/postgrado/tesis/tesis/rico_5/labels/test/52349.txt\n",
            "se elimino /Users/pio/postgrado/tesis/tesis/rico_5/images/test/52802.jpg /Users/pio/postgrado/tesis/tesis/rico_5/labels/test/52802.txt\n",
            "se elimino /Users/pio/postgrado/tesis/tesis/rico_5/images/test/52828.jpg /Users/pio/postgrado/tesis/tesis/rico_5/labels/test/52828.txt\n",
            "se elimino /Users/pio/postgrado/tesis/tesis/rico_5/images/test/54115.jpg /Users/pio/postgrado/tesis/tesis/rico_5/labels/test/54115.txt\n",
            "se elimino /Users/pio/postgrado/tesis/tesis/rico_5/images/test/54771.jpg /Users/pio/postgrado/tesis/tesis/rico_5/labels/test/54771.txt\n",
            "se elimino /Users/pio/postgrado/tesis/tesis/rico_5/images/test/56120.jpg /Users/pio/postgrado/tesis/tesis/rico_5/labels/test/56120.txt\n",
            "se elimino /Users/pio/postgrado/tesis/tesis/rico_5/images/test/56445.jpg /Users/pio/postgrado/tesis/tesis/rico_5/labels/test/56445.txt\n",
            "se elimino /Users/pio/postgrado/tesis/tesis/rico_5/images/test/57210.jpg /Users/pio/postgrado/tesis/tesis/rico_5/labels/test/57210.txt\n",
            "se elimino /Users/pio/postgrado/tesis/tesis/rico_5/images/test/62918.jpg /Users/pio/postgrado/tesis/tesis/rico_5/labels/test/62918.txt\n",
            "se elimino /Users/pio/postgrado/tesis/tesis/rico_5/images/test/64140.jpg /Users/pio/postgrado/tesis/tesis/rico_5/labels/test/64140.txt\n",
            "se elimino /Users/pio/postgrado/tesis/tesis/rico_5/images/test/64183.jpg /Users/pio/postgrado/tesis/tesis/rico_5/labels/test/64183.txt\n",
            "se elimino /Users/pio/postgrado/tesis/tesis/rico_5/images/test/6841.jpg /Users/pio/postgrado/tesis/tesis/rico_5/labels/test/6841.txt\n",
            "se elimino /Users/pio/postgrado/tesis/tesis/rico_5/images/test/70642.jpg /Users/pio/postgrado/tesis/tesis/rico_5/labels/test/70642.txt\n",
            "se elimino /Users/pio/postgrado/tesis/tesis/rico_5/images/test/7478.jpg /Users/pio/postgrado/tesis/tesis/rico_5/labels/test/7478.txt\n",
            "se elimino /Users/pio/postgrado/tesis/tesis/rico_5/images/test/8165.jpg /Users/pio/postgrado/tesis/tesis/rico_5/labels/test/8165.txt\n",
            "se elimino /Users/pio/postgrado/tesis/tesis/rico_5/images/test/9326.jpg /Users/pio/postgrado/tesis/tesis/rico_5/labels/test/9326.txt\n"
          ]
        }
      ],
      "source": [
        "import os\n",
        "\n",
        "for file in files:\n",
        "    try:\n",
        "        os.remove(file)\n",
        "        r_file =file.replace('.jpg','.txt').replace('images','labels')\n",
        "        os.remove(r_file)\n",
        "        print('se elimino', file, r_file)\n",
        "    except:\n",
        "        print('no se encontro')"
      ]
    },
    {
      "cell_type": "code",
      "execution_count": 17,
      "metadata": {
        "colab": {
          "base_uri": "https://localhost:8080/"
        },
        "id": "cItRFldQwn02",
        "outputId": "e2afdb74-4eeb-4768-97d3-e2661d39551b"
      },
      "outputs": [
        {
          "name": "stdout",
          "output_type": "stream",
          "text": [
            "Requirement already satisfied: ultralytics in ./venv/lib/python3.11/site-packages (8.1.3)\n",
            "Requirement already satisfied: matplotlib>=3.3.0 in ./venv/lib/python3.11/site-packages (from ultralytics) (3.7.1)\n",
            "Requirement already satisfied: numpy>=1.22.2 in ./venv/lib/python3.11/site-packages (from ultralytics) (1.26.2)\n",
            "Requirement already satisfied: opencv-python>=4.6.0 in ./venv/lib/python3.11/site-packages (from ultralytics) (4.8.0.76)\n",
            "Requirement already satisfied: pillow>=7.1.2 in ./venv/lib/python3.11/site-packages (from ultralytics) (10.1.0)\n",
            "Requirement already satisfied: pyyaml>=5.3.1 in ./venv/lib/python3.11/site-packages (from ultralytics) (6.0.1)\n",
            "Requirement already satisfied: requests>=2.23.0 in ./venv/lib/python3.11/site-packages (from ultralytics) (2.31.0)\n",
            "Requirement already satisfied: scipy>=1.4.1 in ./venv/lib/python3.11/site-packages (from ultralytics) (1.11.4)\n",
            "Requirement already satisfied: torch>=1.8.0 in ./venv/lib/python3.11/site-packages (from ultralytics) (2.1.0)\n",
            "Requirement already satisfied: torchvision>=0.9.0 in ./venv/lib/python3.11/site-packages (from ultralytics) (0.16.0)\n",
            "Requirement already satisfied: tqdm>=4.64.0 in ./venv/lib/python3.11/site-packages (from ultralytics) (4.66.1)\n",
            "Requirement already satisfied: psutil in ./venv/lib/python3.11/site-packages (from ultralytics) (5.9.6)\n",
            "Requirement already satisfied: py-cpuinfo in ./venv/lib/python3.11/site-packages (from ultralytics) (9.0.0)\n",
            "Requirement already satisfied: thop>=0.1.1 in ./venv/lib/python3.11/site-packages (from ultralytics) (0.1.1.post2209072238)\n",
            "Requirement already satisfied: pandas>=1.1.4 in ./venv/lib/python3.11/site-packages (from ultralytics) (2.1.3)\n",
            "Requirement already satisfied: seaborn>=0.11.0 in ./venv/lib/python3.11/site-packages (from ultralytics) (0.13.1)\n",
            "Requirement already satisfied: contourpy>=1.0.1 in ./venv/lib/python3.11/site-packages (from matplotlib>=3.3.0->ultralytics) (1.2.0)\n",
            "Requirement already satisfied: cycler>=0.10 in ./venv/lib/python3.11/site-packages (from matplotlib>=3.3.0->ultralytics) (0.12.1)\n",
            "Requirement already satisfied: fonttools>=4.22.0 in ./venv/lib/python3.11/site-packages (from matplotlib>=3.3.0->ultralytics) (4.45.0)\n",
            "Requirement already satisfied: kiwisolver>=1.0.1 in ./venv/lib/python3.11/site-packages (from matplotlib>=3.3.0->ultralytics) (1.4.5)\n",
            "Requirement already satisfied: packaging>=20.0 in ./venv/lib/python3.11/site-packages (from matplotlib>=3.3.0->ultralytics) (23.2)\n",
            "Requirement already satisfied: pyparsing>=2.3.1 in ./venv/lib/python3.11/site-packages (from matplotlib>=3.3.0->ultralytics) (3.1.1)\n",
            "Requirement already satisfied: python-dateutil>=2.7 in ./venv/lib/python3.11/site-packages (from matplotlib>=3.3.0->ultralytics) (2.8.2)\n",
            "Requirement already satisfied: pytz>=2020.1 in ./venv/lib/python3.11/site-packages (from pandas>=1.1.4->ultralytics) (2023.3.post1)\n",
            "Requirement already satisfied: tzdata>=2022.1 in ./venv/lib/python3.11/site-packages (from pandas>=1.1.4->ultralytics) (2023.3)\n",
            "Requirement already satisfied: charset-normalizer<4,>=2 in ./venv/lib/python3.11/site-packages (from requests>=2.23.0->ultralytics) (3.3.2)\n",
            "Requirement already satisfied: idna<4,>=2.5 in ./venv/lib/python3.11/site-packages (from requests>=2.23.0->ultralytics) (3.4)\n",
            "Requirement already satisfied: urllib3<3,>=1.21.1 in ./venv/lib/python3.11/site-packages (from requests>=2.23.0->ultralytics) (2.1.0)\n",
            "Requirement already satisfied: certifi>=2017.4.17 in ./venv/lib/python3.11/site-packages (from requests>=2.23.0->ultralytics) (2023.11.17)\n",
            "Requirement already satisfied: filelock in ./venv/lib/python3.11/site-packages (from torch>=1.8.0->ultralytics) (3.13.1)\n",
            "Requirement already satisfied: typing-extensions in ./venv/lib/python3.11/site-packages (from torch>=1.8.0->ultralytics) (4.8.0)\n",
            "Requirement already satisfied: sympy in ./venv/lib/python3.11/site-packages (from torch>=1.8.0->ultralytics) (1.12)\n",
            "Requirement already satisfied: networkx in ./venv/lib/python3.11/site-packages (from torch>=1.8.0->ultralytics) (3.2.1)\n",
            "Requirement already satisfied: jinja2 in ./venv/lib/python3.11/site-packages (from torch>=1.8.0->ultralytics) (3.1.2)\n",
            "Requirement already satisfied: fsspec in ./venv/lib/python3.11/site-packages (from torch>=1.8.0->ultralytics) (2023.10.0)\n",
            "Requirement already satisfied: six>=1.5 in ./venv/lib/python3.11/site-packages (from python-dateutil>=2.7->matplotlib>=3.3.0->ultralytics) (1.16.0)\n",
            "Requirement already satisfied: MarkupSafe>=2.0 in ./venv/lib/python3.11/site-packages (from jinja2->torch>=1.8.0->ultralytics) (2.1.3)\n",
            "Requirement already satisfied: mpmath>=0.19 in ./venv/lib/python3.11/site-packages (from sympy->torch>=1.8.0->ultralytics) (1.3.0)\n",
            "\n",
            "\u001b[1m[\u001b[0m\u001b[34;49mnotice\u001b[0m\u001b[1;39;49m]\u001b[0m\u001b[39;49m A new release of pip is available: \u001b[0m\u001b[31;49m23.1.2\u001b[0m\u001b[39;49m -> \u001b[0m\u001b[32;49m24.0\u001b[0m\n",
            "\u001b[1m[\u001b[0m\u001b[34;49mnotice\u001b[0m\u001b[1;39;49m]\u001b[0m\u001b[39;49m To update, run: \u001b[0m\u001b[32;49mpip install --upgrade pip\u001b[0m\n"
          ]
        }
      ],
      "source": [
        "!pip install ultralytics"
      ]
    },
    {
      "cell_type": "code",
      "execution_count": 18,
      "metadata": {
        "id": "wb4jSiEm-IVn"
      },
      "outputs": [],
      "source": [
        "import torch\n",
        "\n",
        "#torch.cuda.set_device(0) # Set to your desired GPU number\n"
      ]
    },
    {
      "cell_type": "code",
      "execution_count": 19,
      "metadata": {
        "colab": {
          "base_uri": "https://localhost:8080/"
        },
        "id": "lvJ9eiEBUWsi",
        "outputId": "9d3a8cb3-d249-4563-831d-ff5b42c8cf35"
      },
      "outputs": [
        {
          "name": "stdout",
          "output_type": "stream",
          "text": [
            "New https://pypi.org/project/ultralytics/8.1.9 available 😃 Update with 'pip install -U ultralytics'\n",
            "Ultralytics YOLOv8.1.3 🚀 Python-3.11.3 torch-2.1.0 CPU (Apple M1)\n",
            "\u001b[34m\u001b[1mengine/trainer: \u001b[0mtask=detect, mode=train, model=yolov8n.pt, data=rico_yolo.yaml, epochs=1, time=None, patience=50, batch=16, imgsz=640, save=True, save_period=-1, cache=False, device=None, workers=8, project=None, name=train20, exist_ok=False, pretrained=True, optimizer=auto, verbose=True, seed=0, deterministic=True, single_cls=False, rect=False, cos_lr=False, close_mosaic=10, resume=False, amp=True, fraction=1.0, profile=False, freeze=None, multi_scale=False, overlap_mask=True, mask_ratio=4, dropout=0.0, val=True, split=val, save_json=False, save_hybrid=False, conf=None, iou=0.7, max_det=300, half=False, dnn=False, plots=True, source=None, vid_stride=1, stream_buffer=False, visualize=False, augment=False, agnostic_nms=False, classes=None, retina_masks=False, embed=None, show=False, save_frames=False, save_txt=False, save_conf=False, save_crop=False, show_labels=True, show_conf=True, show_boxes=True, line_width=None, format=torchscript, keras=False, optimize=False, int8=False, dynamic=False, simplify=False, opset=None, workspace=4, nms=False, lr0=0.9999, lrf=0.01, momentum=0.937, weight_decay=0.0005, warmup_epochs=3.0, warmup_momentum=0.8, warmup_bias_lr=0.1, box=7.5, cls=0.5, dfl=1.5, pose=12.0, kobj=1.0, label_smoothing=0.0, nbs=64, hsv_h=0.015, hsv_s=0.7, hsv_v=0.4, degrees=0.0, translate=0.1, scale=0.5, shear=0.0, perspective=0.0, flipud=0.0, fliplr=0.5, mosaic=1.0, mixup=0.0, copy_paste=0.0, auto_augment=randaugment, erasing=0.4, crop_fraction=1.0, cfg=None, tracker=botsort.yaml, save_dir=/Users/pio/postgrado/tesis/tesis/runs/detect/train20\n",
            "Overriding model.yaml nc=80 with nc=25\n",
            "\n",
            "                   from  n    params  module                                       arguments                     \n",
            "  0                  -1  1       464  ultralytics.nn.modules.conv.Conv             [3, 16, 3, 2]                 \n",
            "  1                  -1  1      4672  ultralytics.nn.modules.conv.Conv             [16, 32, 3, 2]                \n",
            "  2                  -1  1      7360  ultralytics.nn.modules.block.C2f             [32, 32, 1, True]             \n",
            "  3                  -1  1     18560  ultralytics.nn.modules.conv.Conv             [32, 64, 3, 2]                \n",
            "  4                  -1  2     49664  ultralytics.nn.modules.block.C2f             [64, 64, 2, True]             \n",
            "  5                  -1  1     73984  ultralytics.nn.modules.conv.Conv             [64, 128, 3, 2]               \n",
            "  6                  -1  2    197632  ultralytics.nn.modules.block.C2f             [128, 128, 2, True]           \n",
            "  7                  -1  1    295424  ultralytics.nn.modules.conv.Conv             [128, 256, 3, 2]              \n",
            "  8                  -1  1    460288  ultralytics.nn.modules.block.C2f             [256, 256, 1, True]           \n",
            "  9                  -1  1    164608  ultralytics.nn.modules.block.SPPF            [256, 256, 5]                 \n",
            " 10                  -1  1         0  torch.nn.modules.upsampling.Upsample         [None, 2, 'nearest']          \n",
            " 11             [-1, 6]  1         0  ultralytics.nn.modules.conv.Concat           [1]                           \n",
            " 12                  -1  1    148224  ultralytics.nn.modules.block.C2f             [384, 128, 1]                 \n",
            " 13                  -1  1         0  torch.nn.modules.upsampling.Upsample         [None, 2, 'nearest']          \n",
            " 14             [-1, 4]  1         0  ultralytics.nn.modules.conv.Concat           [1]                           \n",
            " 15                  -1  1     37248  ultralytics.nn.modules.block.C2f             [192, 64, 1]                  \n",
            " 16                  -1  1     36992  ultralytics.nn.modules.conv.Conv             [64, 64, 3, 2]                \n",
            " 17            [-1, 12]  1         0  ultralytics.nn.modules.conv.Concat           [1]                           \n",
            " 18                  -1  1    123648  ultralytics.nn.modules.block.C2f             [192, 128, 1]                 \n",
            " 19                  -1  1    147712  ultralytics.nn.modules.conv.Conv             [128, 128, 3, 2]              \n",
            " 20             [-1, 9]  1         0  ultralytics.nn.modules.conv.Concat           [1]                           \n",
            " 21                  -1  1    493056  ultralytics.nn.modules.block.C2f             [384, 256, 1]                 \n",
            " 22        [15, 18, 21]  1    756187  ultralytics.nn.modules.head.Detect           [25, [64, 128, 256]]          \n",
            "Model summary: 225 layers, 3015723 parameters, 3015707 gradients, 8.2 GFLOPs\n",
            "\n",
            "Transferred 319/355 items from pretrained weights\n",
            "Freezing layer 'model.22.dfl.conv.weight'\n"
          ]
        },
        {
          "name": "stderr",
          "output_type": "stream",
          "text": [
            "\u001b[34m\u001b[1mtrain: \u001b[0mScanning /Users/pio/postgrado/tesis/tesis/rico_5/labels/test... 6692 images, 60 backgrounds, 0 corrupt: 100%|██████████| 6692/6692 [00:02<00:00, 2629.83it/s]\n"
          ]
        },
        {
          "name": "stdout",
          "output_type": "stream",
          "text": [
            "\u001b[34m\u001b[1mtrain: \u001b[0mNew cache created: /Users/pio/postgrado/tesis/tesis/rico_5/labels/test.cache\n"
          ]
        },
        {
          "name": "stderr",
          "output_type": "stream",
          "text": [
            "\u001b[34m\u001b[1mval: \u001b[0mScanning /Users/pio/postgrado/tesis/tesis/rico_5/labels/val.cache... 13146 images, 151 backgrounds, 0 corrupt: 100%|██████████| 13146/13146 [00:00<?, ?it/s]"
          ]
        },
        {
          "name": "stdout",
          "output_type": "stream",
          "text": [
            "Plotting labels to /Users/pio/postgrado/tesis/tesis/runs/detect/train20/labels.jpg... \n"
          ]
        },
        {
          "name": "stderr",
          "output_type": "stream",
          "text": [
            "\n"
          ]
        },
        {
          "name": "stdout",
          "output_type": "stream",
          "text": [
            "\u001b[34m\u001b[1moptimizer:\u001b[0m 'optimizer=auto' found, ignoring 'lr0=0.9999' and 'momentum=0.937' and determining best 'optimizer', 'lr0' and 'momentum' automatically... \n",
            "\u001b[34m\u001b[1moptimizer:\u001b[0m AdamW(lr=0.000345, momentum=0.9) with parameter groups 57 weight(decay=0.0), 64 weight(decay=0.0005), 63 bias(decay=0.0)\n",
            "Image sizes 640 train, 640 val\n",
            "Using 0 dataloader workers\n",
            "Logging results to \u001b[1m/Users/pio/postgrado/tesis/tesis/runs/detect/train20\u001b[0m\n",
            "Starting training for 1 epochs...\n",
            "\n",
            "      Epoch    GPU_mem   box_loss   cls_loss   dfl_loss  Instances       Size\n"
          ]
        },
        {
          "name": "stderr",
          "output_type": "stream",
          "text": [
            "  0%|          | 0/419 [00:06<?, ?it/s]\n"
          ]
        },
        {
          "ename": "KeyboardInterrupt",
          "evalue": "",
          "output_type": "error",
          "traceback": [
            "\u001b[0;31m---------------------------------------------------------------------------\u001b[0m",
            "\u001b[0;31mKeyboardInterrupt\u001b[0m                         Traceback (most recent call last)",
            "\u001b[1;32m/Users/pio/postgrado/tesis/tesis/YOLO_TRAIN.ipynb Celda 6\u001b[0m line \u001b[0;36m6\n\u001b[1;32m      <a href='vscode-notebook-cell:/Users/pio/postgrado/tesis/tesis/YOLO_TRAIN.ipynb#W5sZmlsZQ%3D%3D?line=2'>3</a>\u001b[0m \u001b[39m# Load a pretrained YOLO model (recommended for training)\u001b[39;00m\n\u001b[1;32m      <a href='vscode-notebook-cell:/Users/pio/postgrado/tesis/tesis/YOLO_TRAIN.ipynb#W5sZmlsZQ%3D%3D?line=3'>4</a>\u001b[0m model \u001b[39m=\u001b[39m YOLO(\u001b[39m'\u001b[39m\u001b[39myolov8n.pt\u001b[39m\u001b[39m'\u001b[39m)\n\u001b[0;32m----> <a href='vscode-notebook-cell:/Users/pio/postgrado/tesis/tesis/YOLO_TRAIN.ipynb#W5sZmlsZQ%3D%3D?line=5'>6</a>\u001b[0m results \u001b[39m=\u001b[39m model\u001b[39m.\u001b[39;49mtrain(data\u001b[39m=\u001b[39;49m\u001b[39m'\u001b[39;49m\u001b[39mrico_yolo.yaml\u001b[39;49m\u001b[39m'\u001b[39;49m, epochs\u001b[39m=\u001b[39;49m\u001b[39m1\u001b[39;49m,batch\u001b[39m=\u001b[39;49m\u001b[39m16\u001b[39;49m,lr0\u001b[39m=\u001b[39;49m\u001b[39m0.9999\u001b[39;49m,pretrained\u001b[39m=\u001b[39;49m\u001b[39mTrue\u001b[39;49;00m)\n",
            "File \u001b[0;32m~/postgrado/tesis/tesis/venv/lib/python3.11/site-packages/ultralytics/engine/model.py:391\u001b[0m, in \u001b[0;36mModel.train\u001b[0;34m(self, trainer, **kwargs)\u001b[0m\n\u001b[1;32m    388\u001b[0m             \u001b[39mpass\u001b[39;00m\n\u001b[1;32m    390\u001b[0m \u001b[39mself\u001b[39m\u001b[39m.\u001b[39mtrainer\u001b[39m.\u001b[39mhub_session \u001b[39m=\u001b[39m \u001b[39mself\u001b[39m\u001b[39m.\u001b[39msession  \u001b[39m# attach optional HUB session\u001b[39;00m\n\u001b[0;32m--> 391\u001b[0m \u001b[39mself\u001b[39;49m\u001b[39m.\u001b[39;49mtrainer\u001b[39m.\u001b[39;49mtrain()\n\u001b[1;32m    392\u001b[0m \u001b[39m# Update model and cfg after training\u001b[39;00m\n\u001b[1;32m    393\u001b[0m \u001b[39mif\u001b[39;00m RANK \u001b[39min\u001b[39;00m (\u001b[39m-\u001b[39m\u001b[39m1\u001b[39m, \u001b[39m0\u001b[39m):\n",
            "File \u001b[0;32m~/postgrado/tesis/tesis/venv/lib/python3.11/site-packages/ultralytics/engine/trainer.py:208\u001b[0m, in \u001b[0;36mBaseTrainer.train\u001b[0;34m(self)\u001b[0m\n\u001b[1;32m    205\u001b[0m         ddp_cleanup(\u001b[39mself\u001b[39m, \u001b[39mstr\u001b[39m(file))\n\u001b[1;32m    207\u001b[0m \u001b[39melse\u001b[39;00m:\n\u001b[0;32m--> 208\u001b[0m     \u001b[39mself\u001b[39;49m\u001b[39m.\u001b[39;49m_do_train(world_size)\n",
            "File \u001b[0;32m~/postgrado/tesis/tesis/venv/lib/python3.11/site-packages/ultralytics/engine/trainer.py:376\u001b[0m, in \u001b[0;36mBaseTrainer._do_train\u001b[0;34m(self, world_size)\u001b[0m\n\u001b[1;32m    374\u001b[0m \u001b[39mwith\u001b[39;00m torch\u001b[39m.\u001b[39mcuda\u001b[39m.\u001b[39mamp\u001b[39m.\u001b[39mautocast(\u001b[39mself\u001b[39m\u001b[39m.\u001b[39mamp):\n\u001b[1;32m    375\u001b[0m     batch \u001b[39m=\u001b[39m \u001b[39mself\u001b[39m\u001b[39m.\u001b[39mpreprocess_batch(batch)\n\u001b[0;32m--> 376\u001b[0m     \u001b[39mself\u001b[39m\u001b[39m.\u001b[39mloss, \u001b[39mself\u001b[39m\u001b[39m.\u001b[39mloss_items \u001b[39m=\u001b[39m \u001b[39mself\u001b[39;49m\u001b[39m.\u001b[39;49mmodel(batch)\n\u001b[1;32m    377\u001b[0m     \u001b[39mif\u001b[39;00m RANK \u001b[39m!=\u001b[39m \u001b[39m-\u001b[39m\u001b[39m1\u001b[39m:\n\u001b[1;32m    378\u001b[0m         \u001b[39mself\u001b[39m\u001b[39m.\u001b[39mloss \u001b[39m*\u001b[39m\u001b[39m=\u001b[39m world_size\n",
            "File \u001b[0;32m~/postgrado/tesis/tesis/venv/lib/python3.11/site-packages/torch/nn/modules/module.py:1518\u001b[0m, in \u001b[0;36mModule._wrapped_call_impl\u001b[0;34m(self, *args, **kwargs)\u001b[0m\n\u001b[1;32m   1516\u001b[0m     \u001b[39mreturn\u001b[39;00m \u001b[39mself\u001b[39m\u001b[39m.\u001b[39m_compiled_call_impl(\u001b[39m*\u001b[39margs, \u001b[39m*\u001b[39m\u001b[39m*\u001b[39mkwargs)  \u001b[39m# type: ignore[misc]\u001b[39;00m\n\u001b[1;32m   1517\u001b[0m \u001b[39melse\u001b[39;00m:\n\u001b[0;32m-> 1518\u001b[0m     \u001b[39mreturn\u001b[39;00m \u001b[39mself\u001b[39;49m\u001b[39m.\u001b[39;49m_call_impl(\u001b[39m*\u001b[39;49margs, \u001b[39m*\u001b[39;49m\u001b[39m*\u001b[39;49mkwargs)\n",
            "File \u001b[0;32m~/postgrado/tesis/tesis/venv/lib/python3.11/site-packages/torch/nn/modules/module.py:1527\u001b[0m, in \u001b[0;36mModule._call_impl\u001b[0;34m(self, *args, **kwargs)\u001b[0m\n\u001b[1;32m   1522\u001b[0m \u001b[39m# If we don't have any hooks, we want to skip the rest of the logic in\u001b[39;00m\n\u001b[1;32m   1523\u001b[0m \u001b[39m# this function, and just call forward.\u001b[39;00m\n\u001b[1;32m   1524\u001b[0m \u001b[39mif\u001b[39;00m \u001b[39mnot\u001b[39;00m (\u001b[39mself\u001b[39m\u001b[39m.\u001b[39m_backward_hooks \u001b[39mor\u001b[39;00m \u001b[39mself\u001b[39m\u001b[39m.\u001b[39m_backward_pre_hooks \u001b[39mor\u001b[39;00m \u001b[39mself\u001b[39m\u001b[39m.\u001b[39m_forward_hooks \u001b[39mor\u001b[39;00m \u001b[39mself\u001b[39m\u001b[39m.\u001b[39m_forward_pre_hooks\n\u001b[1;32m   1525\u001b[0m         \u001b[39mor\u001b[39;00m _global_backward_pre_hooks \u001b[39mor\u001b[39;00m _global_backward_hooks\n\u001b[1;32m   1526\u001b[0m         \u001b[39mor\u001b[39;00m _global_forward_hooks \u001b[39mor\u001b[39;00m _global_forward_pre_hooks):\n\u001b[0;32m-> 1527\u001b[0m     \u001b[39mreturn\u001b[39;00m forward_call(\u001b[39m*\u001b[39;49margs, \u001b[39m*\u001b[39;49m\u001b[39m*\u001b[39;49mkwargs)\n\u001b[1;32m   1529\u001b[0m \u001b[39mtry\u001b[39;00m:\n\u001b[1;32m   1530\u001b[0m     result \u001b[39m=\u001b[39m \u001b[39mNone\u001b[39;00m\n",
            "File \u001b[0;32m~/postgrado/tesis/tesis/venv/lib/python3.11/site-packages/ultralytics/nn/tasks.py:79\u001b[0m, in \u001b[0;36mBaseModel.forward\u001b[0;34m(self, x, *args, **kwargs)\u001b[0m\n\u001b[1;32m     69\u001b[0m \u001b[39m\u001b[39m\u001b[39m\"\"\"\u001b[39;00m\n\u001b[1;32m     70\u001b[0m \u001b[39mForward pass of the model on a single scale. Wrapper for `_forward_once` method.\u001b[39;00m\n\u001b[1;32m     71\u001b[0m \n\u001b[0;32m   (...)\u001b[0m\n\u001b[1;32m     76\u001b[0m \u001b[39m    (torch.Tensor): The output of the network.\u001b[39;00m\n\u001b[1;32m     77\u001b[0m \u001b[39m\"\"\"\u001b[39;00m\n\u001b[1;32m     78\u001b[0m \u001b[39mif\u001b[39;00m \u001b[39misinstance\u001b[39m(x, \u001b[39mdict\u001b[39m):  \u001b[39m# for cases of training and validating while training.\u001b[39;00m\n\u001b[0;32m---> 79\u001b[0m     \u001b[39mreturn\u001b[39;00m \u001b[39mself\u001b[39;49m\u001b[39m.\u001b[39;49mloss(x, \u001b[39m*\u001b[39;49margs, \u001b[39m*\u001b[39;49m\u001b[39m*\u001b[39;49mkwargs)\n\u001b[1;32m     80\u001b[0m \u001b[39mreturn\u001b[39;00m \u001b[39mself\u001b[39m\u001b[39m.\u001b[39mpredict(x, \u001b[39m*\u001b[39margs, \u001b[39m*\u001b[39m\u001b[39m*\u001b[39mkwargs)\n",
            "File \u001b[0;32m~/postgrado/tesis/tesis/venv/lib/python3.11/site-packages/ultralytics/nn/tasks.py:258\u001b[0m, in \u001b[0;36mBaseModel.loss\u001b[0;34m(self, batch, preds)\u001b[0m\n\u001b[1;32m    255\u001b[0m     \u001b[39mself\u001b[39m\u001b[39m.\u001b[39mcriterion \u001b[39m=\u001b[39m \u001b[39mself\u001b[39m\u001b[39m.\u001b[39minit_criterion()\n\u001b[1;32m    257\u001b[0m preds \u001b[39m=\u001b[39m \u001b[39mself\u001b[39m\u001b[39m.\u001b[39mforward(batch[\u001b[39m\"\u001b[39m\u001b[39mimg\u001b[39m\u001b[39m\"\u001b[39m]) \u001b[39mif\u001b[39;00m preds \u001b[39mis\u001b[39;00m \u001b[39mNone\u001b[39;00m \u001b[39melse\u001b[39;00m preds\n\u001b[0;32m--> 258\u001b[0m \u001b[39mreturn\u001b[39;00m \u001b[39mself\u001b[39;49m\u001b[39m.\u001b[39;49mcriterion(preds, batch)\n",
            "File \u001b[0;32m~/postgrado/tesis/tesis/venv/lib/python3.11/site-packages/ultralytics/utils/loss.py:196\u001b[0m, in \u001b[0;36mv8DetectionLoss.__call__\u001b[0;34m(self, preds, batch)\u001b[0m\n\u001b[1;32m    194\u001b[0m loss \u001b[39m=\u001b[39m torch\u001b[39m.\u001b[39mzeros(\u001b[39m3\u001b[39m, device\u001b[39m=\u001b[39m\u001b[39mself\u001b[39m\u001b[39m.\u001b[39mdevice)  \u001b[39m# box, cls, dfl\u001b[39;00m\n\u001b[1;32m    195\u001b[0m feats \u001b[39m=\u001b[39m preds[\u001b[39m1\u001b[39m] \u001b[39mif\u001b[39;00m \u001b[39misinstance\u001b[39m(preds, \u001b[39mtuple\u001b[39m) \u001b[39melse\u001b[39;00m preds\n\u001b[0;32m--> 196\u001b[0m pred_distri, pred_scores \u001b[39m=\u001b[39m torch\u001b[39m.\u001b[39;49mcat([xi\u001b[39m.\u001b[39;49mview(feats[\u001b[39m0\u001b[39;49m]\u001b[39m.\u001b[39;49mshape[\u001b[39m0\u001b[39;49m], \u001b[39mself\u001b[39;49m\u001b[39m.\u001b[39;49mno, \u001b[39m-\u001b[39;49m\u001b[39m1\u001b[39;49m) \u001b[39mfor\u001b[39;49;00m xi \u001b[39min\u001b[39;49;00m feats], \u001b[39m2\u001b[39;49m)\u001b[39m.\u001b[39msplit(\n\u001b[1;32m    197\u001b[0m     (\u001b[39mself\u001b[39m\u001b[39m.\u001b[39mreg_max \u001b[39m*\u001b[39m \u001b[39m4\u001b[39m, \u001b[39mself\u001b[39m\u001b[39m.\u001b[39mnc), \u001b[39m1\u001b[39m\n\u001b[1;32m    198\u001b[0m )\n\u001b[1;32m    200\u001b[0m pred_scores \u001b[39m=\u001b[39m pred_scores\u001b[39m.\u001b[39mpermute(\u001b[39m0\u001b[39m, \u001b[39m2\u001b[39m, \u001b[39m1\u001b[39m)\u001b[39m.\u001b[39mcontiguous()\n\u001b[1;32m    201\u001b[0m pred_distri \u001b[39m=\u001b[39m pred_distri\u001b[39m.\u001b[39mpermute(\u001b[39m0\u001b[39m, \u001b[39m2\u001b[39m, \u001b[39m1\u001b[39m)\u001b[39m.\u001b[39mcontiguous()\n",
            "\u001b[0;31mKeyboardInterrupt\u001b[0m: "
          ]
        }
      ],
      "source": [
        "from ultralytics import YOLO\n",
        "\n",
        "# Load a pretrained YOLO model (recommended for training)\n",
        "model = YOLO('yolov8n.pt')\n",
        "\n",
        "results = model.train(data='rico_yolo.yaml', epochs=1,batch=16,lr0=0.9999,pretrained=True)\n"
      ]
    },
    {
      "cell_type": "code",
      "execution_count": null,
      "metadata": {
        "colab": {
          "base_uri": "https://localhost:8080/"
        },
        "id": "oF30azwbNdWg",
        "outputId": "a81d95af-c2d5-4be3-928a-ea5d13eca53e"
      },
      "outputs": [],
      "source": [
        "model"
      ]
    },
    {
      "cell_type": "code",
      "execution_count": null,
      "metadata": {
        "id": "PEWOvXci96dC"
      },
      "outputs": [],
      "source": [
        "def show_metrics_YOLO(results):\n",
        "  accuracy = sum(results.confusion_matrix.tp_fp()[0])/sum(sum(results.confusion_matrix.matrix))\n",
        "  precision = results.results_dict[\"metrics/precision(B)\"]\n",
        "  recall=results.results_dict[\"metrics/recall(B)\"]\n",
        "  f1_score=2 * (precision * recall) / (precision + recall)\n",
        "  print(f'Accuracy {accuracy}%')\n",
        "  print(f'Precision {precision}%')\n",
        "  print(f'Recall {recall}%')\n",
        "  print(f'F1-Score {f1_score}%')"
      ]
    },
    {
      "cell_type": "code",
      "execution_count": null,
      "metadata": {
        "colab": {
          "base_uri": "https://localhost:8080/"
        },
        "id": "R7E86SS41o1G",
        "outputId": "f6e697d2-c35c-45ff-9c28-06aff85bc934"
      },
      "outputs": [],
      "source": [
        "show_metrics_YOLO(results)"
      ]
    }
  ],
  "metadata": {
    "accelerator": "GPU",
    "colab": {
      "gpuType": "T4",
      "provenance": []
    },
    "kernelspec": {
      "display_name": "Python 3",
      "name": "python3"
    },
    "language_info": {
      "codemirror_mode": {
        "name": "ipython",
        "version": 3
      },
      "file_extension": ".py",
      "mimetype": "text/x-python",
      "name": "python",
      "nbconvert_exporter": "python",
      "pygments_lexer": "ipython3",
      "version": "3.11.3"
    }
  },
  "nbformat": 4,
  "nbformat_minor": 0
}
